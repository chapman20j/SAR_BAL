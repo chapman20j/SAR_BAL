{
 "cells": [
  {
   "cell_type": "markdown",
   "metadata": {
    "id": "siB89QRmvPIY"
   },
   "source": [
    "# Initialize"
   ]
  },
  {
   "cell_type": "code",
   "execution_count": 1,
   "metadata": {
    "id": "Y4TLFHtw9WsA"
   },
   "outputs": [],
   "source": [
    "#import graphlearning.active_learning as al\n",
    "import graphlearning as gl\n",
    "import numpy as np\n",
    "import matplotlib.pyplot as plt\n",
    "from collections import defaultdict\n",
    "import math\n",
    "import time\n",
    "import timeit\n",
    "import os, glob\n",
    "\n",
    "#SKLearn imports\n",
    "import sklearn.datasets as datasets\n",
    "from sklearn.manifold import TSNE, SpectralEmbedding\n",
    "from sklearn.cluster._kmeans import _kmeans_plusplus\n",
    "from sklearn.utils import check_random_state\n",
    "from sklearn.preprocessing import normalize\n",
    "from sklearn.datasets import make_blobs\n",
    "\n",
    "#Scipy imports\n",
    "from scipy.linalg import sqrtm\n",
    "from scipy.sparse import coo_matrix, csr_matrix\n",
    "from scipy.sparse.linalg import eigs\n",
    "import scipy.sparse as sparse\n",
    "from scipy.optimize import fsolve\n",
    "from scipy import spatial"
   ]
  },
  {
   "cell_type": "code",
   "execution_count": 2,
   "metadata": {},
   "outputs": [],
   "source": [
    "#torch imports\n",
    "import torchvision\n",
    "import graphlearning.active_learning"
   ]
  },
  {
   "cell_type": "code",
   "execution_count": 3,
   "metadata": {
    "id": "gSPIH__Q-J2c"
   },
   "outputs": [],
   "source": [
    "import utils\n",
    "#import utils_sar\n",
    "import batch_active_learning as bal"
   ]
  },
  {
   "cell_type": "code",
   "execution_count": 4,
   "metadata": {
    "colab": {
     "base_uri": "https://localhost:8080/"
    },
    "id": "mcI5DQQYRe7s",
    "outputId": "1545d1c7-2e57-46ad-d09c-a00d91b9642e"
   },
   "outputs": [
    {
     "data": {
      "text/plain": [
       "<module 'batch_active_learning' from '/Users/jameschapman/Documents/GitHub/SAR_BAL/batch_active_learning.py'>"
      ]
     },
     "execution_count": 4,
     "metadata": {},
     "output_type": "execute_result"
    }
   ],
   "source": [
    "from importlib import reload\n",
    "reload(bal)\n",
    "#reload(utils_sar)"
   ]
  },
  {
   "cell_type": "code",
   "execution_count": 5,
   "metadata": {},
   "outputs": [],
   "source": [
    "from torchvision.models.feature_extraction import create_feature_extractor"
   ]
  },
  {
   "cell_type": "markdown",
   "metadata": {
    "id": "FAK5nnaF3PDR"
   },
   "source": [
    "# Test batch active learning"
   ]
  },
  {
   "cell_type": "markdown",
   "metadata": {
    "id": "W4T9-6lAf3Rf"
   },
   "source": [
    "## MSTAR dataset"
   ]
  },
  {
   "cell_type": "code",
   "execution_count": 6,
   "metadata": {
    "colab": {
     "base_uri": "https://localhost:8080/"
    },
    "id": "JZ_UpLGwaRKg",
    "outputId": "eeaca39b-808c-403f-e6e1-0d247017745f"
   },
   "outputs": [
    {
     "ename": "FileNotFoundError",
     "evalue": "[Errno 2] No such file or directory: '/data/MSTAR/SAR10a.npz'",
     "output_type": "error",
     "traceback": [
      "\u001b[0;31m---------------------------------------------------------------------------\u001b[0m",
      "\u001b[0;31mFileNotFoundError\u001b[0m                         Traceback (most recent call last)",
      "Cell \u001b[0;32mIn [6], line 1\u001b[0m\n\u001b[0;32m----> 1\u001b[0m hdr, fields, mag, phase \u001b[38;5;241m=\u001b[39m \u001b[43mutils\u001b[49m\u001b[38;5;241;43m.\u001b[39;49m\u001b[43mload_MSTAR\u001b[49m\u001b[43m(\u001b[49m\u001b[43m)\u001b[49m\n\u001b[1;32m      2\u001b[0m train_mask, test_mask, _ \u001b[38;5;241m=\u001b[39m utils\u001b[38;5;241m.\u001b[39mtrain_test_split(hdr,\u001b[38;5;241m1\u001b[39m)\n\u001b[1;32m      3\u001b[0m labels, target_names \u001b[38;5;241m=\u001b[39m utils\u001b[38;5;241m.\u001b[39mtargets_to_labels(hdr)\n",
      "File \u001b[0;32m~/Documents/GitHub/SAR_BAL/utils.py:632\u001b[0m, in \u001b[0;36mload_MSTAR\u001b[0;34m(root_dir)\u001b[0m\n\u001b[1;32m    617\u001b[0m \u001b[38;5;28;01mdef\u001b[39;00m \u001b[38;5;21mload_MSTAR\u001b[39m(root_dir \u001b[38;5;241m=\u001b[39m \u001b[38;5;124m'\u001b[39m\u001b[38;5;124m/data/MSTAR\u001b[39m\u001b[38;5;124m'\u001b[39m):\n\u001b[1;32m    618\u001b[0m     \u001b[38;5;124;03m\"\"\"Loads MSTAR Data\u001b[39;00m\n\u001b[1;32m    619\u001b[0m \n\u001b[1;32m    620\u001b[0m \u001b[38;5;124;03m    Parameters\u001b[39;00m\n\u001b[0;32m   (...)\u001b[0m\n\u001b[1;32m    629\u001b[0m \u001b[38;5;124;03m    phase : Phase images\u001b[39;00m\n\u001b[1;32m    630\u001b[0m \u001b[38;5;124;03m    \"\"\"\u001b[39;00m\n\u001b[0;32m--> 632\u001b[0m     M \u001b[38;5;241m=\u001b[39m \u001b[43mnp\u001b[49m\u001b[38;5;241;43m.\u001b[39;49m\u001b[43mload\u001b[49m\u001b[43m(\u001b[49m\u001b[43mos\u001b[49m\u001b[38;5;241;43m.\u001b[39;49m\u001b[43mpath\u001b[49m\u001b[38;5;241;43m.\u001b[39;49m\u001b[43mjoin\u001b[49m\u001b[43m(\u001b[49m\u001b[43mroot_dir\u001b[49m\u001b[43m,\u001b[49m\u001b[38;5;124;43m'\u001b[39;49m\u001b[38;5;124;43mSAR10a.npz\u001b[39;49m\u001b[38;5;124;43m'\u001b[39;49m\u001b[43m)\u001b[49m\u001b[43m,\u001b[49m\u001b[43m \u001b[49m\u001b[43mallow_pickle\u001b[49m\u001b[38;5;241;43m=\u001b[39;49m\u001b[38;5;28;43;01mTrue\u001b[39;49;00m\u001b[43m)\u001b[49m\n\u001b[1;32m    633\u001b[0m     hdr_a,fields,mag_a,phase_a \u001b[38;5;241m=\u001b[39m M[\u001b[38;5;124m'\u001b[39m\u001b[38;5;124mhdr\u001b[39m\u001b[38;5;124m'\u001b[39m],M[\u001b[38;5;124m'\u001b[39m\u001b[38;5;124mfields\u001b[39m\u001b[38;5;124m'\u001b[39m],M[\u001b[38;5;124m'\u001b[39m\u001b[38;5;124mmag\u001b[39m\u001b[38;5;124m'\u001b[39m],M[\u001b[38;5;124m'\u001b[39m\u001b[38;5;124mphase\u001b[39m\u001b[38;5;124m'\u001b[39m]\n\u001b[1;32m    635\u001b[0m     M \u001b[38;5;241m=\u001b[39m np\u001b[38;5;241m.\u001b[39mload(os\u001b[38;5;241m.\u001b[39mpath\u001b[38;5;241m.\u001b[39mjoin(root_dir,\u001b[38;5;124m'\u001b[39m\u001b[38;5;124mSAR10b.npz\u001b[39m\u001b[38;5;124m'\u001b[39m), allow_pickle\u001b[38;5;241m=\u001b[39m\u001b[38;5;28;01mTrue\u001b[39;00m)\n",
      "File \u001b[0;32m/Library/Frameworks/Python.framework/Versions/3.9/lib/python3.9/site-packages/numpy/lib/npyio.py:390\u001b[0m, in \u001b[0;36mload\u001b[0;34m(file, mmap_mode, allow_pickle, fix_imports, encoding)\u001b[0m\n\u001b[1;32m    388\u001b[0m     own_fid \u001b[38;5;241m=\u001b[39m \u001b[38;5;28;01mFalse\u001b[39;00m\n\u001b[1;32m    389\u001b[0m \u001b[38;5;28;01melse\u001b[39;00m:\n\u001b[0;32m--> 390\u001b[0m     fid \u001b[38;5;241m=\u001b[39m stack\u001b[38;5;241m.\u001b[39menter_context(\u001b[38;5;28;43mopen\u001b[39;49m\u001b[43m(\u001b[49m\u001b[43mos_fspath\u001b[49m\u001b[43m(\u001b[49m\u001b[43mfile\u001b[49m\u001b[43m)\u001b[49m\u001b[43m,\u001b[49m\u001b[43m \u001b[49m\u001b[38;5;124;43m\"\u001b[39;49m\u001b[38;5;124;43mrb\u001b[39;49m\u001b[38;5;124;43m\"\u001b[39;49m\u001b[43m)\u001b[49m)\n\u001b[1;32m    391\u001b[0m     own_fid \u001b[38;5;241m=\u001b[39m \u001b[38;5;28;01mTrue\u001b[39;00m\n\u001b[1;32m    393\u001b[0m \u001b[38;5;66;03m# Code to distinguish from NumPy binary files and pickles.\u001b[39;00m\n",
      "\u001b[0;31mFileNotFoundError\u001b[0m: [Errno 2] No such file or directory: '/data/MSTAR/SAR10a.npz'"
     ]
    }
   ],
   "source": [
    "hdr, fields, mag, phase = utils.load_MSTAR()\n",
    "train_mask, test_mask, _ = utils.train_test_split(hdr,1)\n",
    "labels, target_names = utils.targets_to_labels(hdr)\n",
    "\n",
    "vae_fname = 'SAR10_CNNVAE'\n",
    "model_fpath = os.path.join(\"..\", \"models\", vae_fname + \".pt\")\n",
    "assert os.path.exists(model_fpath)  \n",
    "\n",
    "dataset, metric = vae_fname.split(\"_\")\n",
    "train_idx_all = np.where(train_mask)[0]\n",
    "\n",
    "X = utils.encodeMSTAR(model_fpath, use_phase=True)\n",
    "try:\n",
    "    knn_data = gl.weightmatrix.load_knn_data(dataset,metric=metric)\n",
    "except:\n",
    "    knn_data = gl.weightmatrix.knnsearch(X,50,similarity='angular',dataset=dataset,metric=metric)\n",
    "\n",
    "knn_num = 20\n",
    "W = gl.weightmatrix.knn(None,knn_num,knn_data=knn_data)\n",
    "G = gl.graph(W)\n",
    "\n",
    "initial = gl.trainsets.generate(labels, rate=1).tolist()"
   ]
  },
  {
   "cell_type": "code",
   "execution_count": null,
   "metadata": {
    "id": "hSIUVji5f8xo"
   },
   "outputs": [],
   "source": [
    "method = 'Laplace'\n",
    "acq_fun = 'uc'"
   ]
  },
  {
   "cell_type": "code",
   "execution_count": null,
   "metadata": {
    "colab": {
     "base_uri": "https://localhost:8080/"
    },
    "id": "ul1cJ2l8gA1c",
    "outputId": "3650277e-d663-46c5-84c7-7b596dd7e9f8"
   },
   "outputs": [],
   "source": [
    "density_radius_param = .25\n",
    "coreset = coreset_dijkstras(G, rad = 0.2, DEBUGGING=False, data = X, initial=initial,\n",
    "                                density_info = (True, density_radius_param, 1))\n",
    "print(\"Coreset Size = {}\\t Percent of data = {}%\".format(len(coreset), round(100 * len(coreset) / len(X), 2)))\n",
    "print(\"Coreset = \", coreset)"
   ]
  },
  {
   "cell_type": "markdown",
   "metadata": {
    "id": "O17QkMwZxF-M"
   },
   "source": [
    "### same acq_fun, different methods"
   ]
  },
  {
   "cell_type": "code",
   "execution_count": null,
   "metadata": {
    "id": "ZVEU8xJMnGtE"
   },
   "outputs": [],
   "source": [
    "# acq_fun_list = ['uc', 'vopt', 'mc', 'mcvopt']\n",
    "acq_fun_list = ['uc']\n",
    "max_new_samples = 1000\n",
    "batchsize=15\n",
    "\n",
    "for acq_fun in acq_fun_list:\n",
    "  L_time = []\n",
    "  L_num_labels = []\n",
    "  L_acc = []\n",
    "  L_names = []\n",
    "\n",
    "  # al_mtd = 'global_max'\n",
    "  # start = timeit.default_timer() \n",
    "  # _, list_num_labels, list_acc = bal.coreset_run_experiment(X, labels, W, coreset, num_iter=max_new_samples, method='Laplace',\n",
    "  #                          display=False, use_prior=False, al_mtd=al_mtd, debug=False,\n",
    "  #                          acq_fun=acq_fun, knn_data=knn_data, mtd_para=None,\n",
    "  #                          savefig=False, savefig_folder='../BAL_figures', batchsize=batchsize,\n",
    "  #                          dist_metric='angular', q=5, thresholding=0, randseed=0)\n",
    "  # stop = timeit.default_timer()\n",
    "  # L_time.append(stop - start)\n",
    "  # L_num_labels.append(list_num_labels)\n",
    "  # L_acc.append(list_acc)\n",
    "  # L_names.append(al_mtd)\n",
    "\n",
    "  num_iter = int(max_new_samples/batchsize)\n",
    "\n",
    "  al_mtd = 'local_max'\n",
    "  start = timeit.default_timer() \n",
    "  _, list_num_labels, list_acc = bal.coreset_run_experiment(X, labels, W, coreset, num_iter=num_iter, method='Laplace',\n",
    "                           display=False, use_prior=False, al_mtd=al_mtd, debug=False,\n",
    "                           acq_fun=acq_fun, knn_data=knn_data, mtd_para=None,\n",
    "                           savefig=False, savefig_folder='../BAL_figures', batchsize=batchsize,\n",
    "                           dist_metric='angular', q=5, thresholding=0, randseed=0)\n",
    "  stop = timeit.default_timer()\n",
    "  L_time.append(stop - start)\n",
    "  L_num_labels.append(list_num_labels)\n",
    "  L_acc.append(list_acc)\n",
    "  L_names.append(al_mtd)\n",
    "\n",
    "  al_mtd = 'rs_kmeans'\n",
    "  mtd_para = (0.05, 'dijkstra', 1.0, 0.1, 0.2, False, 200, False)\n",
    "  start = timeit.default_timer() \n",
    "  _, list_num_labels, list_acc = bal.coreset_run_experiment(X, labels, W, coreset, num_iter=num_iter, method='Laplace',\n",
    "                           display=False, use_prior=False, al_mtd=al_mtd, debug=False,\n",
    "                           acq_fun=acq_fun, knn_data=knn_data, mtd_para=mtd_para,\n",
    "                           savefig=False, savefig_folder='../BAL_figures', batchsize=batchsize,\n",
    "                           dist_metric='angular', q=5, thresholding=0, randseed=0)\n",
    "  stop = timeit.default_timer()\n",
    "  L_time.append(stop - start)\n",
    "  L_num_labels.append(list_num_labels)\n",
    "  L_acc.append(list_acc)\n",
    "  L_names.append(al_mtd)\n",
    "\n",
    "  al_mtd = 'acq_sample'\n",
    "  start = timeit.default_timer() \n",
    "  _, list_num_labels, list_acc = bal.coreset_run_experiment(X, labels, W, coreset, num_iter=num_iter, method='Laplace',\n",
    "                           display=False, use_prior=False, al_mtd=al_mtd, debug=False,\n",
    "                           acq_fun=acq_fun, knn_data=knn_data, mtd_para=None,\n",
    "                           savefig=False, savefig_folder='../BAL_figures', batchsize=batchsize,\n",
    "                           dist_metric='angular', q=5, thresholding=0, randseed=0)\n",
    "  stop = timeit.default_timer()\n",
    "  L_time.append(stop - start)\n",
    "  L_num_labels.append(list_num_labels)\n",
    "  L_acc.append(list_acc)\n",
    "  L_names.append(al_mtd)\n",
    "\n",
    "  al_mtd = 'rs_kmeans'\n",
    "  cw = lambda x,y: ( x / (x + y) ) ** 10\n",
    "  mtd_para = (0.05, 'dijkstra', 1.0, 0.1, 0.2, cw, 200, False)\n",
    "  start = timeit.default_timer() \n",
    "  _, list_num_labels, list_acc = bal.coreset_run_experiment(X, labels, W, coreset, num_iter=num_iter, method='Laplace',\n",
    "                           display=False, use_prior=False, al_mtd=al_mtd, debug=False,\n",
    "                           acq_fun=acq_fun, knn_data=knn_data, mtd_para=None,\n",
    "                           savefig=False, savefig_folder='../BAL_figures', batchsize=batchsize,\n",
    "                           dist_metric='angular', q=5, thresholding=0, randseed=0)\n",
    "  stop = timeit.default_timer()\n",
    "  L_time.append(stop - start)\n",
    "  L_num_labels.append(list_num_labels)\n",
    "  L_acc.append(list_acc)\n",
    "  L_names.append(al_mtd + '_c')\n",
    "    \n",
    "  for i in range(len(L_acc)):\n",
    "    plt.plot(L_num_labels[i], L_acc[i], label = L_names[i])\n",
    "\n",
    "  plt.legend()\n",
    "\n",
    "  title_str = 'Coreset size: ' + str(len(coreset)) + '; GL method: ' + method + '; Al function: ' + acq_fun + '\\n'\n",
    "  title_str += 'MSTAR CNNVAE: KNN: ' + str(knn_num) + '; Total num data: ' + str(X.shape[0])\n",
    "\n",
    "  plt.title(title_str)\n",
    "  plt.savefig(os.path.join('../BAL_figures', 'MSTAR_'+acq_fun+'_diff_mtd.png'))\n",
    "  plt.show()"
   ]
  },
  {
   "cell_type": "markdown",
   "metadata": {
    "id": "HoIZ2Zmuxc-R"
   },
   "source": [
    "### same method, different acq_funs"
   ]
  },
  {
   "cell_type": "code",
   "execution_count": null,
   "metadata": {
    "id": "ZU0laWKCxgcQ"
   },
   "outputs": [],
   "source": [
    "acq_fun_list = ['uc', 'vopt', 'mc', 'mcvopt']\n",
    "max_new_samples = 1000\n",
    "batchsize=15\n",
    "\n",
    "L_time = []\n",
    "L_num_labels = []\n",
    "L_acc = []\n",
    "L_names = []\n",
    "\n",
    "for acq_fun in acq_fun_list:\n",
    "\n",
    "  al_mtd = 'global_max'\n",
    "  print(acq_fun, al_mtd)\n",
    "  start = timeit.default_timer() \n",
    "  _, list_num_labels, list_acc = bal.coreset_run_experiment(X, labels, W, coreset, num_iter=max_new_samples, method='Laplace',\n",
    "                           display=False, use_prior=False, al_mtd=al_mtd, debug=False,\n",
    "                           acq_fun=acq_fun, knn_data=knn_data, mtd_para=None,\n",
    "                           savefig=False, savefig_folder='../BAL_figures', batchsize=batchsize,\n",
    "                           dist_metric='angular', q=5, thresholding=0, randseed=0)\n",
    "  stop = timeit.default_timer()\n",
    "  L_time.append(stop - start)\n",
    "  L_num_labels.append(list_num_labels)\n",
    "  L_acc.append(list_acc)\n",
    "  L_names.append(al_mtd + '_' + acq_fun)\n",
    "\n",
    "  # num_iter = int(max_new_samples/batchsize)\n",
    "\n",
    "  # al_mtd = 'local_max'\n",
    "  # print(acq_fun, al_mtd)\n",
    "  # start = timeit.default_timer() \n",
    "  # _, list_num_labels, list_acc = coreset_run_experiment(X, labels, W, coreset, num_iter=num_iter, method='Laplace',\n",
    "  #                          display=False, use_prior=False, al_mtd=al_mtd, debug=False,\n",
    "  #                          acq_fun=acq_fun, knn_data=knn_data, mtd_para=None,\n",
    "  #                          savefig=False, savefig_folder='../BAL_figures', batchsize=batchsize,\n",
    "  #                          dist_metric='angular', q=5, thresholding=0, randseed=0)\n",
    "  # stop = timeit.default_timer()\n",
    "  # L_time.append(stop - start)\n",
    "  # L_num_labels.append(list_num_labels)\n",
    "  # L_acc.append(list_acc)\n",
    "  # L_names.append(al_mtd + '_' + acq_fun)\n",
    "\n",
    "    \n",
    "for i in range(len(L_acc)):\n",
    "  plt.plot(L_num_labels[i], L_acc[i], label = L_names[i])\n",
    "\n",
    "plt.legend()\n",
    "\n",
    "title_str = 'Coreset size: ' + str(len(coreset)) + '; GL method: ' + method + '\\n'\n",
    "title_str += 'MSTAR CNNVAE: KNN: ' + str(knn_num) + '; Total num data: ' + str(X.shape[0])\n",
    "\n",
    "plt.title(title_str)\n",
    "plt.savefig(os.path.join('../BAL_figures', 'MSTAR_diff_acqfuns_' + al_mtd + '.png'))\n",
    "plt.show()"
   ]
  },
  {
   "cell_type": "markdown",
   "metadata": {
    "id": "PL-YeZ4rF_Qa"
   },
   "source": [
    "### different distance methods"
   ]
  },
  {
   "cell_type": "code",
   "execution_count": null,
   "metadata": {
    "id": "siMDvzPUGDUo"
   },
   "outputs": [],
   "source": [
    "distance_methods_list = ['dijkstra', 'poisson']\n",
    "max_new_samples = 1000\n",
    "batchsize=15\n",
    "\n",
    "L_time = []\n",
    "L_num_labels = []\n",
    "L_acc = []\n",
    "L_names = []\n",
    "\n",
    "num_iter = int(max_new_samples/batchsize)\n",
    "\n",
    "for distance_method in distance_methods_list:\n",
    "\n",
    "  al_mtd = 'rs_kmeans'\n",
    "  print(al_mtd, distance_method)\n",
    "  mtd_para = (0.05, distance_method, 1.0, 0.1, 0.2, None, 200)\n",
    "  start = timeit.default_timer() \n",
    "  _, list_num_labels, list_acc = bal.coreset_run_experiment(X, labels, W, coreset, num_iter=num_iter, method='Laplace',\n",
    "                           display=False, use_prior=False, al_mtd=al_mtd, debug=False,\n",
    "                           acq_fun=acq_fun, knn_data=knn_data, mtd_para=mtd_para,\n",
    "                           savefig=False, savefig_folder='../BAL_figures', batchsize=batchsize,\n",
    "                           dist_metric='angular', q=5, thresholding=0, randseed=0)\n",
    "  stop = timeit.default_timer()\n",
    "  L_time.append(stop - start)\n",
    "  L_num_labels.append(list_num_labels)\n",
    "  L_acc.append(list_acc)\n",
    "  L_names.append(al_mtd + '_' + distance_method)\n",
    "    \n",
    "for i in range(len(L_acc)):\n",
    "  plt.plot(L_num_labels[i], L_acc[i], label = L_names[i])\n",
    "\n",
    "plt.legend()\n",
    "\n",
    "title_str = 'Coreset size: ' + str(len(coreset)) + '; GL method: ' + method + '\\n'\n",
    "title_str += 'MSTAR CNNVAE: KNN: ' + str(knn_num) + '; Total num data: ' + str(X.shape[0])\n",
    "\n",
    "plt.title(title_str)\n",
    "plt.savefig(os.path.join('../BAL_figures', 'MSTAR_diff_distmtd_' + al_mtd + '.png'))\n",
    "plt.show()"
   ]
  },
  {
   "cell_type": "markdown",
   "metadata": {
    "id": "HDAaZDA68XPk"
   },
   "source": [
    "## OpenSarShip"
   ]
  },
  {
   "cell_type": "code",
   "execution_count": null,
   "metadata": {
    "id": "sJJQaBJj8YRl"
   },
   "outputs": [],
   "source": [
    "dataset_used = 'open_sar_ship'\n",
    "_, labels = utils.load_dataset(dataset_used, return_torch=False, concatenate=True)\n",
    "X, _ = utils.encode_pretrained('open_sar_ship', 'AlexNet', transformed=True)\n",
    "print(X.shape)"
   ]
  },
  {
   "cell_type": "code",
   "execution_count": null,
   "metadata": {
    "id": "SUdCckgiZQU5"
   },
   "outputs": [],
   "source": [
    "knn_num = 25\n",
    "knn_data = gl.weightmatrix.knnsearch(X, 50, method='annoy', similarity='angular')\n",
    "W = gl.weightmatrix.knn(X, knn_num, kernel = 'gaussian', knn_data=knn_data)\n",
    "G = gl.graph(W)"
   ]
  },
  {
   "cell_type": "code",
   "execution_count": null,
   "metadata": {
    "id": "lI5AKJ9iA4XV"
   },
   "outputs": [],
   "source": [
    "method = 'Laplace'\n",
    "acq_fun = 'uc'\n",
    "np.random.seed(25)\n",
    "initial = gl.trainsets.generate(labels, rate=1).tolist()"
   ]
  },
  {
   "cell_type": "code",
   "execution_count": null,
   "metadata": {
    "id": "8EYQNe-TBCEq"
   },
   "outputs": [],
   "source": [
    "density_radius_param = .3\n",
    "coreset = bal.coreset_dijkstras(G, rad = 0.25, DEBUGGING=False, data = X, initial=initial,\n",
    "                                density_info = (True, density_radius_param, 1))\n",
    "print(\"Coreset Size = {}\\t Percent of data = {}%\".format(len(coreset), round(100 * len(coreset) / len(X), 2)))\n",
    "print(\"Coreset = \", coreset)"
   ]
  },
  {
   "cell_type": "code",
   "execution_count": null,
   "metadata": {
    "colab": {
     "base_uri": "https://localhost:8080/"
    },
    "id": "8cGm5pfGYtPv",
    "outputId": "945ce7f8-4d6d-481f-8509-6b11c713780d"
   },
   "outputs": [],
   "source": [
    "acq_fun_list = ['uc', 'vopt', 'mc', 'mcvopt']\n",
    "# acq_fun_list = ['mc', 'mcvopt']\n",
    "max_new_samples = 600\n",
    "batchsize=15\n",
    "\n",
    "L_time = []\n",
    "L_num_labels = []\n",
    "L_acc = []\n",
    "L_names = []\n",
    "\n",
    "for acq_fun in acq_fun_list:\n",
    "\n",
    "#     al_mtd = 'global_max'\n",
    "#     print(acq_fun, al_mtd)\n",
    "#     start = timeit.default_timer() \n",
    "#     _, list_num_labels, list_acc = bal.coreset_run_experiment(X, labels, W, coreset, num_iter=max_new_samples, method='Laplace',\n",
    "#                             display=False, use_prior=False, al_mtd=al_mtd, debug=False,\n",
    "#                             acq_fun=acq_fun, knn_data=knn_data, mtd_para=None,\n",
    "#                             savefig=False, savefig_folder='../BAL_figures', batchsize=batchsize,\n",
    "#                             dist_metric='angular', q=10, thresholding=0, randseed=0)\n",
    "#     stop = timeit.default_timer()\n",
    "#     L_time.append(stop - start)\n",
    "#     L_num_labels.append(list_num_labels)\n",
    "#     L_acc.append(list_acc)\n",
    "#     L_names.append(acq_fun)\n",
    "\n",
    "    num_iter = int(max_new_samples/batchsize)\n",
    "    if acq_fun == 'mc':    \n",
    "        num_iter += 14\n",
    "    elif acq_fun == 'vopt' or acq_fun == 'mcvopt':\n",
    "        num_iter += 1\n",
    "\n",
    "    al_mtd = 'local_max'\n",
    "    print(acq_fun, al_mtd)\n",
    "    start = timeit.default_timer() \n",
    "    _, list_num_labels, list_acc = bal.coreset_run_experiment(X, labels, W, coreset, num_iter=num_iter, method='Laplace',\n",
    "                            display=False, use_prior=False, al_mtd=al_mtd, debug=False,\n",
    "                            acq_fun=acq_fun, knn_data=knn_data, mtd_para=None,\n",
    "                            savefig=False, savefig_folder='../BAL_figures', batchsize=batchsize,\n",
    "                            dist_metric='angular', q=10, thresholding=0, randseed=0)\n",
    "    stop = timeit.default_timer()\n",
    "    L_time.append(stop - start)\n",
    "    L_num_labels.append(list_num_labels)\n",
    "    L_acc.append(list_acc)\n",
    "    L_names.append(acq_fun)\n",
    "      \n",
    "# for i in range(len(L_acc)):\n",
    "#     plt.plot(L_num_labels[i], 100*L_acc[i], label=L_names[i])\n",
    "# plt.plot(L_num_labels[0], 78.15 * np.ones_like(L_num_labels[0]), label='SoTA(CNN)', linestyle='--')\n",
    "# plt.plot(L_num_labels[0], 76.99 * np.ones_like(L_num_labels[0]), label='TL (SLL CNN)', linestyle='--')\n",
    "# plt.legend()\n",
    "# plt.xlabel(\"Number of labeled points\")\n",
    "# plt.ylabel(\"Accuracy (%)\")\n",
    "# plt.ylim((None, 100))\n",
    "\n",
    "# title_str = 'Coreset size: ' + str(len(coreset)) + '; GL method: ' + method + '; AL method: ' + 'sequential' + '\\n'\n",
    "# title_str += 'OpenSarShip: KNN: ' + str(knn_num) + '; Total num data: ' + str(X.shape[0])\n",
    "\n",
    "# plt.title(title_str)\n",
    "# plt.savefig(os.path.join('../BAL_figures', 'OpenSarShip_diff_acq_' + al_mtd + '.png'))\n",
    "# plt.show()"
   ]
  },
  {
   "cell_type": "code",
   "execution_count": null,
   "metadata": {},
   "outputs": [],
   "source": [
    "fig = plt.figure()\n",
    "ax1 = fig.add_subplot(111)\n",
    "ax2 = ax1.twiny()\n",
    "\n",
    "for i in range(len(L_acc)):\n",
    "    ax1.plot(L_num_labels[i], 100*L_acc[i], label=L_names[i])\n",
    "ax1.plot(L_num_labels[0], 78.15 * np.ones_like(L_num_labels[0]), label='SoTA', linestyle='--')\n",
    "ax1.plot(L_num_labels[0], 76.99 * np.ones_like(L_num_labels[0]), label='TL', linestyle='--')\n",
    "ax1.legend()\n",
    "ax1.set_xlabel(r\"Number of labeled points\")\n",
    "ax1.set_ylabel(\"Accuracy (%)\")\n",
    "ax1.set_ylim((50, 100))\n",
    "\n",
    "title_str = 'Coreset size: ' + str(len(coreset)) + '; GL method: ' + method + '; AL method: ' + al_mtd + '\\n'\n",
    "title_str += 'OpenSarShip: KNN: ' + str(knn_num) + '; Total num data: ' + str(X.shape[0])\n",
    "\n",
    "plt.title(title_str)\n",
    "\n",
    "new_tick_locations = np.linspace(0.05, 0.25, 5) * 2296\n",
    "\n",
    "def tick_function(X, n):\n",
    "    V = X / n\n",
    "    return [\"%d%%\" % (100*z) for z in V]\n",
    "\n",
    "ax2.set_xlim(ax1.get_xlim())\n",
    "ax2.set_xticks(new_tick_locations)\n",
    "ax2.set_xticklabels(tick_function(new_tick_locations, X.shape[0]))\n",
    "ax2.set_xlabel(r\"Percentage of Training Data\")\n",
    "plt.savefig(os.path.join('../BAL_figures', 'OpenSarShip_diff_acq_' + al_mtd + '.png'), bbox_inches='tight')\n",
    "plt.show()"
   ]
  },
  {
   "cell_type": "markdown",
   "metadata": {
    "id": "QYtyIrB0B2av"
   },
   "source": [
    "## FUSAR"
   ]
  },
  {
   "cell_type": "code",
   "execution_count": null,
   "metadata": {
    "colab": {
     "base_uri": "https://localhost:8080/"
    },
    "id": "ElvtmfphB33n",
    "outputId": "9d689ec4-7be8-4eaa-bc39-dc3be57c8592"
   },
   "outputs": [],
   "source": [
    "dataset_used = 'fusar'\n",
    "_, labels = utils.load_dataset(dataset_used, return_torch=False, concatenate=True)\n",
    "X, _ = utils.encode_pretrained(dataset_used, 'ShuffleNet')\n",
    "# encoded_data = encode_dataset(dataset_used, 'models/fusar_CNN.pt')\n",
    "print(X.shape)"
   ]
  },
  {
   "cell_type": "code",
   "execution_count": null,
   "metadata": {
    "id": "2RM52Wx4DDmH"
   },
   "outputs": [],
   "source": [
    "knn_num = 25\n",
    "knn_data = gl.weightmatrix.knnsearch(X, 50, method='annoy', similarity='angular')\n",
    "W = gl.weightmatrix.knn(X, knn_num, kernel = 'gaussian', knn_data=knn_data)\n",
    "G = gl.graph(W)"
   ]
  },
  {
   "cell_type": "code",
   "execution_count": null,
   "metadata": {
    "id": "aRQDb-1hFXw5"
   },
   "outputs": [],
   "source": [
    "method = 'Laplace'\n",
    "acq_fun = 'uc'\n",
    "np.random.seed(25)\n",
    "initial = gl.trainsets.generate(labels, rate=1).tolist()"
   ]
  },
  {
   "cell_type": "code",
   "execution_count": null,
   "metadata": {
    "colab": {
     "base_uri": "https://localhost:8080/"
    },
    "id": "5SQU4yh4FZH9",
    "outputId": "c26ac1b2-cb07-4734-f86c-1f9eb6c25474"
   },
   "outputs": [],
   "source": [
    "# coreset = bal.plusplus_coreset(G, num_points=15, random_state=None, method='dijkstra', initial=initial)\n",
    "density_radius_param = .25\n",
    "coreset = bal.coreset_dijkstras(G, rad = 0.5, DEBUGGING=False, data = X, initial=initial,\n",
    "                                density_info = (True, 0.5, 1))\n",
    "print(\"Coreset Size = {}\\t Percent of data = {}%\".format(len(coreset), round(100 * len(coreset) / len(X), 2)))\n",
    "print(\"Coreset = \", coreset)"
   ]
  },
  {
   "cell_type": "code",
   "execution_count": null,
   "metadata": {},
   "outputs": [],
   "source": [
    "acq_fun_list = ['uc', 'vopt', 'mc', 'mcvopt']\n",
    "# acq_fun_list = ['mc', 'mcvopt']\n",
    "max_new_samples = 2500\n",
    "batchsize=15\n",
    "\n",
    "L_time = []\n",
    "L_num_labels = []\n",
    "L_acc = []\n",
    "L_names = []\n",
    "\n",
    "for acq_fun in acq_fun_list:\n",
    "\n",
    "#     al_mtd = 'global_max'\n",
    "#     print(acq_fun, al_mtd)\n",
    "#     start = timeit.default_timer() \n",
    "#     _, list_num_labels, list_acc = bal.coreset_run_experiment(X, labels, W, coreset, num_iter=max_new_samples, method='Laplace',\n",
    "#                             display=False, use_prior=False, al_mtd=al_mtd, debug=False,\n",
    "#                             acq_fun=acq_fun, knn_data=knn_data, mtd_para=None,\n",
    "#                             savefig=False, savefig_folder='../BAL_figures', batchsize=batchsize,\n",
    "#                             dist_metric='angular', q=10, thresholding=0, randseed=0)\n",
    "#     stop = timeit.default_timer()\n",
    "#     L_time.append(stop - start)\n",
    "#     L_num_labels.append(list_num_labels)\n",
    "#     L_acc.append(list_acc)\n",
    "#     L_names.append(acq_fun)\n",
    "\n",
    "    num_iter = int(max_new_samples/batchsize)\n",
    "#     if acq_fun == 'mc':    \n",
    "#         num_iter += 14\n",
    "#     elif acq_fun == 'vopt' or acq_fun == 'mcvopt':\n",
    "#         num_iter += 1\n",
    "\n",
    "    al_mtd = 'local_max'\n",
    "    print(acq_fun, al_mtd)\n",
    "    start = timeit.default_timer() \n",
    "    _, list_num_labels, list_acc = bal.coreset_run_experiment(X, labels, W, coreset, num_iter=num_iter, method='Laplace',\n",
    "                            display=False, use_prior=False, al_mtd=al_mtd, debug=False,\n",
    "                            acq_fun=acq_fun, knn_data=knn_data, mtd_para=None,\n",
    "                            savefig=False, savefig_folder='../BAL_figures', batchsize=batchsize,\n",
    "                            dist_metric='angular', q=10, thresholding=0, randseed=0)\n",
    "    stop = timeit.default_timer()\n",
    "    L_time.append(stop - start)\n",
    "    L_num_labels.append(list_num_labels)\n",
    "    L_acc.append(list_acc)\n",
    "    L_names.append(acq_fun)\n",
    "      \n",
    "# for i in range(len(L_acc)):\n",
    "#     plt.plot(L_num_labels[i], 100*L_acc[i], label=L_names[i])\n",
    "# plt.plot(L_num_labels[0], 78.15 * np.ones_like(L_num_labels[0]), label='SoTA(CNN)', linestyle='--')\n",
    "# plt.plot(L_num_labels[0], 76.99 * np.ones_like(L_num_labels[0]), label='TL (SLL CNN)', linestyle='--')\n",
    "# plt.legend()\n",
    "# plt.xlabel(\"Number of labeled points\")\n",
    "# plt.ylabel(\"Accuracy (%)\")\n",
    "# plt.ylim((None, 100))\n",
    "\n",
    "# title_str = 'Coreset size: ' + str(len(coreset)) + '; GL method: ' + method + '; AL method: ' + 'sequential' + '\\n'\n",
    "# title_str += 'OpenSarShip: KNN: ' + str(knn_num) + '; Total num data: ' + str(X.shape[0])\n",
    "\n",
    "# plt.title(title_str)\n",
    "# plt.savefig(os.path.join('../BAL_figures', 'OpenSarShip_diff_acq_' + al_mtd + '.png'))\n",
    "# plt.show()"
   ]
  },
  {
   "cell_type": "code",
   "execution_count": null,
   "metadata": {},
   "outputs": [],
   "source": [
    "fig = plt.figure()\n",
    "ax1 = fig.add_subplot(111)\n",
    "ax2 = ax1.twiny()\n",
    "\n",
    "for i in range(len(L_acc)):\n",
    "    ax1.plot(L_num_labels[i], 100*L_acc[i], label=L_names[i])\n",
    "ax1.plot(L_num_labels[0], 86.69 * np.ones_like(L_num_labels[0]), label='SoTA', linestyle='--')\n",
    "ax1.plot(L_num_labels[0], 75.36 * np.ones_like(L_num_labels[0]), label='TL', linestyle='--')\n",
    "ax1.legend()\n",
    "ax1.set_xlabel(r\"Number of labeled points\")\n",
    "ax1.set_ylabel(\"Accuracy (%)\")\n",
    "ax1.set_ylim((40, 100))\n",
    "\n",
    "title_str = 'Coreset size: ' + str(len(coreset)) + '; GL method: ' + method + '; AL method: ' + al_mtd + '\\n'\n",
    "title_str += 'FuSar: KNN: ' + str(knn_num) + '; Total num data: ' + str(X.shape[0])\n",
    "\n",
    "plt.title(title_str)\n",
    "\n",
    "new_tick_locations = np.linspace(0.05, 0.5, 10) * X.shape[0]\n",
    "\n",
    "def tick_function(X, n):\n",
    "    V = X / n\n",
    "    return [\"%d%%\" % (100*z) for z in V]\n",
    "\n",
    "ax2.set_xlim(ax1.get_xlim())\n",
    "ax2.set_xticks(new_tick_locations)\n",
    "ax2.set_xticklabels(tick_function(new_tick_locations, X.shape[0]))\n",
    "ax2.set_xlabel(r\"Percentage of Training Data\")\n",
    "plt.savefig(os.path.join('../BAL_figures', 'FuSar_diff_acq_' + al_mtd + '.png'), bbox_inches='tight')\n",
    "plt.show()"
   ]
  },
  {
   "cell_type": "code",
   "execution_count": null,
   "metadata": {
    "colab": {
     "base_uri": "https://localhost:8080/"
    },
    "id": "RI_98EYcFmwt",
    "outputId": "887d7179-dba2-4e23-8687-30451deccf9e"
   },
   "outputs": [],
   "source": [
    "# acq_fun_list = ['uc', 'vopt', 'mc', 'mcvopt']\n",
    "acq_fun_list = ['mc', 'mcvopt']\n",
    "max_new_samples = 2500\n",
    "batchsize=15\n",
    "\n",
    "for acq_fun in acq_fun_list:\n",
    "    L_time = []\n",
    "    L_num_labels = []\n",
    "    L_acc = []\n",
    "    L_names = []\n",
    "\n",
    "    al_mtd = 'global_max'\n",
    "    print(acq_fun, al_mtd)\n",
    "    start = timeit.default_timer() \n",
    "    _, list_num_labels, list_acc = bal.coreset_run_experiment(X, labels, W, coreset, num_iter=max_new_samples, method='Laplace',\n",
    "                            display=False, use_prior=False, al_mtd=al_mtd, debug=False,\n",
    "                            acq_fun=acq_fun, knn_data=knn_data, mtd_para=None,\n",
    "                            savefig=False, savefig_folder='../BAL_figures', batchsize=batchsize,\n",
    "                            dist_metric='angular', q=10, thresholding=0, randseed=0)\n",
    "    stop = timeit.default_timer()\n",
    "    L_time.append(stop - start)\n",
    "    L_num_labels.append(list_num_labels)\n",
    "    L_acc.append(list_acc)\n",
    "    L_names.append(al_mtd)\n",
    "\n",
    "    num_iter = int(max_new_samples/batchsize)\n",
    "\n",
    "    al_mtd = 'local_max'\n",
    "    print(acq_fun, al_mtd)\n",
    "    start = timeit.default_timer() \n",
    "    _, list_num_labels, list_acc = bal.coreset_run_experiment(X, labels, W, coreset, num_iter=num_iter, method='Laplace',\n",
    "                            display=False, use_prior=False, al_mtd=al_mtd, debug=False,\n",
    "                            acq_fun=acq_fun, knn_data=knn_data, mtd_para=None,\n",
    "                            savefig=False, savefig_folder='../BAL_figures', batchsize=batchsize,\n",
    "                            dist_metric='angular', q=10, thresholding=0, randseed=0)\n",
    "    stop = timeit.default_timer()\n",
    "    L_time.append(stop - start)\n",
    "    L_num_labels.append(list_num_labels)\n",
    "    L_acc.append(list_acc)\n",
    "    L_names.append(al_mtd)\n",
    "\n",
    "    al_mtd = 'rs_kmeans'\n",
    "    print(acq_fun, al_mtd)\n",
    "    mtd_para = (0.05, 'dijkstra', 1.0, 0.1, 0.2, None, 200, False)\n",
    "    start = timeit.default_timer() \n",
    "    _, list_num_labels, list_acc = bal.coreset_run_experiment(X, labels, W, coreset, num_iter=num_iter, method='Laplace',\n",
    "                            display=False, use_prior=False, al_mtd=al_mtd, debug=False,\n",
    "                            acq_fun=acq_fun, knn_data=knn_data, mtd_para=mtd_para,\n",
    "                            savefig=False, savefig_folder='../BAL_figures', batchsize=batchsize,\n",
    "                            dist_metric='angular', q=10, thresholding=0, randseed=0)\n",
    "    stop = timeit.default_timer()\n",
    "    L_time.append(stop - start)\n",
    "    L_num_labels.append(list_num_labels)\n",
    "    L_acc.append(list_acc)\n",
    "    L_names.append(al_mtd)\n",
    "\n",
    "    al_mtd = 'acq_sample'\n",
    "    print(acq_fun, al_mtd)\n",
    "    start = timeit.default_timer() \n",
    "    _, list_num_labels, list_acc = bal.coreset_run_experiment(X, labels, W, coreset, num_iter=num_iter, method='Laplace',\n",
    "                            display=False, use_prior=False, al_mtd=al_mtd, debug=False,\n",
    "                            acq_fun=acq_fun, knn_data=knn_data, mtd_para=None,\n",
    "                            savefig=False, savefig_folder='../BAL_figures', batchsize=batchsize,\n",
    "                            dist_metric='angular', q=10, thresholding=0, randseed=0)\n",
    "    stop = timeit.default_timer()\n",
    "    L_time.append(stop - start)\n",
    "    L_num_labels.append(list_num_labels)\n",
    "    L_acc.append(list_acc)\n",
    "    L_names.append(al_mtd)\n",
    "\n",
    "    al_mtd = 'rs_kmeans'\n",
    "    print(acq_fun, al_mtd)\n",
    "    cw = lambda x,y: ( x / (x + y) ) ** 10\n",
    "    mtd_para = (0.05, 'dijkstra', 1.0, 0.1, 0.2, cw, 200, False)\n",
    "    start = timeit.default_timer() \n",
    "    _, list_num_labels, list_acc = bal.coreset_run_experiment(X, labels, W, coreset, num_iter=num_iter, method='Laplace',\n",
    "                            display=False, use_prior=False, al_mtd=al_mtd, debug=False,\n",
    "                            acq_fun=acq_fun, knn_data=knn_data, mtd_para=None,\n",
    "                            savefig=False, savefig_folder='../BAL_figures', batchsize=batchsize,\n",
    "                            dist_metric='angular', q=1, thresholding=0, randseed=0)\n",
    "    stop = timeit.default_timer()\n",
    "    L_time.append(stop - start)\n",
    "    L_num_labels.append(list_num_labels)\n",
    "    L_acc.append(list_acc)\n",
    "    L_names.append(al_mtd + '_c')\n",
    "      \n",
    "    for i in range(len(L_acc)):\n",
    "        plt.plot(L_num_labels[i], 100*L_acc[i], label=L_names[i])\n",
    "    plt.plot(L_num_labels[0], 86.69 * np.ones_like(L_num_labels[0]), label='SoTA(CNN)', linestyle='--')\n",
    "    plt.plot(L_num_labels[0], 75.36 * np.ones_like(L_num_labels[0]), label='TL (SLL CNN)', linestyle='--')\n",
    "    plt.legend()\n",
    "    plt.xlabel(\"Number of labeled points\")\n",
    "    plt.ylabel(\"Accuracy (%)\")\n",
    "    plt.ylim((None, 100))\n",
    "\n",
    "    title_str = 'Coreset size: ' + str(len(coreset)) + '; GL method: ' + method + '; Al function: ' + acq_fun + '\\n'\n",
    "    title_str += 'FUSAR: KNN: ' + str(knn_num) + '; Total num data: ' + str(X.shape[0])\n",
    "\n",
    "    plt.title(title_str)\n",
    "    plt.savefig(os.path.join('../BAL_figures', 'FUSAR_'+acq_fun+'_diff_mtd.png'))\n",
    "    plt.show()"
   ]
  },
  {
   "cell_type": "code",
   "execution_count": null,
   "metadata": {
    "id": "AzfRTeECXVMk"
   },
   "outputs": [],
   "source": []
  }
 ],
 "metadata": {
  "colab": {
   "collapsed_sections": [
    "8veHgyfQGxSI",
    "rj3jATEL5bFa",
    "W4T9-6lAf3Rf",
    "O17QkMwZxF-M",
    "HoIZ2Zmuxc-R",
    "PL-YeZ4rF_Qa"
   ],
   "machine_shape": "hm",
   "name": "BAL Experiments.ipynb",
   "provenance": []
  },
  "gpuClass": "standard",
  "kernelspec": {
   "display_name": "Python 3 (ipykernel)",
   "language": "python",
   "name": "python3"
  },
  "language_info": {
   "codemirror_mode": {
    "name": "ipython",
    "version": 3
   },
   "file_extension": ".py",
   "mimetype": "text/x-python",
   "name": "python",
   "nbconvert_exporter": "python",
   "pygments_lexer": "ipython3",
   "version": "3.9.5"
  }
 },
 "nbformat": 4,
 "nbformat_minor": 1
}
