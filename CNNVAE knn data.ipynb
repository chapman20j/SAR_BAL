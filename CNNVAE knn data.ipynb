{
 "cells": [
  {
   "cell_type": "markdown",
   "id": "bd37e354",
   "metadata": {},
   "source": [
    "# CNNVAE knn data\n",
    "This file is used to save cnnvae data so that we can avoid doing the annoy algorithm multiple times. "
   ]
  },
  {
   "cell_type": "code",
   "execution_count": 4,
   "id": "f18f1131",
   "metadata": {},
   "outputs": [],
   "source": [
    "import numpy as np\n",
    "import pandas as pd\n",
    "import matplotlib.pyplot as plt\n",
    "\n",
    "import graphlearning as gl\n",
    "import graphlearning.active_learning as al\n",
    "\n",
    "import batch_active_learning as bal\n",
    "import utils"
   ]
  },
  {
   "cell_type": "markdown",
   "id": "ac488e0f",
   "metadata": {},
   "source": [
    "## Functions"
   ]
  },
  {
   "cell_type": "code",
   "execution_count": 5,
   "id": "0b42e3a5",
   "metadata": {},
   "outputs": [],
   "source": [
    "def compute_and_save_knn_data(dataset):\n",
    "    if dataset == 'mstar':\n",
    "        model_path = \"./models/SAR10_CNNVAE.pt\"\n",
    "    elif dataset == 'open_sar_ship':\n",
    "        model_path = \"models/OpenSarShip_CNNVAE.pt\"\n",
    "    else:\n",
    "        model_path = \"models/Fusar_CNNVAE.pt\"\n",
    "    \n",
    "    X = utils.encode_dataset(dataset, model_path, batch_size = 1000)\n",
    "    knn_data = gl.weightmatrix.knnsearch(X, 50, method='annoy', similarity='angular')\n",
    "    \n",
    "    np.save(\"knn_data/\" + dataset + \"_knn_ind.npy\", knn_data[0])\n",
    "    np.save(\"knn_data/\" + dataset + \"_knn_dist.npy\", knn_data[1])\n",
    "    \n",
    "    return\n",
    "    "
   ]
  },
  {
   "cell_type": "markdown",
   "id": "47234b84",
   "metadata": {},
   "source": [
    "## MSTAR"
   ]
  },
  {
   "cell_type": "code",
   "execution_count": 6,
   "id": "92616bfe",
   "metadata": {},
   "outputs": [],
   "source": [
    "compute_and_save_knn_data('mstar')"
   ]
  },
  {
   "cell_type": "markdown",
   "id": "2c773e4d",
   "metadata": {},
   "source": [
    "## OpenSAR-Ship"
   ]
  },
  {
   "cell_type": "code",
   "execution_count": 7,
   "id": "2ad6eb35",
   "metadata": {},
   "outputs": [
    {
     "ename": "AttributeError",
     "evalue": "Can't get attribute 'CVAE' on <module '__main__'>",
     "output_type": "error",
     "traceback": [
      "\u001b[0;31m---------------------------------------------------------------------------\u001b[0m",
      "\u001b[0;31mAttributeError\u001b[0m                            Traceback (most recent call last)",
      "Cell \u001b[0;32mIn [7], line 1\u001b[0m\n\u001b[0;32m----> 1\u001b[0m compute_and_save_knn_data(\u001b[39m'\u001b[39;49m\u001b[39mopen_sar_ship\u001b[39;49m\u001b[39m'\u001b[39;49m)\n",
      "Cell \u001b[0;32mIn [5], line 9\u001b[0m, in \u001b[0;36mcompute_and_save_knn_data\u001b[0;34m(dataset)\u001b[0m\n\u001b[1;32m      6\u001b[0m \u001b[39melse\u001b[39;00m:\n\u001b[1;32m      7\u001b[0m     model_path \u001b[39m=\u001b[39m \u001b[39m\"\u001b[39m\u001b[39mmodels/Fusar_CNNVAE.pt\u001b[39m\u001b[39m\"\u001b[39m\n\u001b[0;32m----> 9\u001b[0m X \u001b[39m=\u001b[39m utils\u001b[39m.\u001b[39;49mencode_dataset(dataset, model_path, batch_size \u001b[39m=\u001b[39;49m \u001b[39m1000\u001b[39;49m)\n\u001b[1;32m     10\u001b[0m knn_data \u001b[39m=\u001b[39m gl\u001b[39m.\u001b[39mweightmatrix\u001b[39m.\u001b[39mknnsearch(X, \u001b[39m50\u001b[39m, method\u001b[39m=\u001b[39m\u001b[39m'\u001b[39m\u001b[39mannoy\u001b[39m\u001b[39m'\u001b[39m, similarity\u001b[39m=\u001b[39m\u001b[39m'\u001b[39m\u001b[39mangular\u001b[39m\u001b[39m'\u001b[39m)\n\u001b[1;32m     12\u001b[0m np\u001b[39m.\u001b[39msave(\u001b[39m\"\u001b[39m\u001b[39mknn_data/\u001b[39m\u001b[39m\"\u001b[39m \u001b[39m+\u001b[39m dataset \u001b[39m+\u001b[39m \u001b[39m\"\u001b[39m\u001b[39m_knn_ind.npy\u001b[39m\u001b[39m\"\u001b[39m, knn_data[\u001b[39m0\u001b[39m])\n",
      "File \u001b[0;32m~/Documents/GitHub/SAR_BAL/utils.py:563\u001b[0m, in \u001b[0;36mencode_dataset\u001b[0;34m(dataset, model_path, batch_size)\u001b[0m\n\u001b[1;32m    560\u001b[0m data, _ \u001b[39m=\u001b[39m load_dataset(dataset, return_torch\u001b[39m=\u001b[39m\u001b[39mTrue\u001b[39;00m)\n\u001b[1;32m    562\u001b[0m \u001b[39m# Load model\u001b[39;00m\n\u001b[0;32m--> 563\u001b[0m model \u001b[39m=\u001b[39m torch\u001b[39m.\u001b[39;49mload(model_path, map_location\u001b[39m=\u001b[39;49mdevice)\n\u001b[1;32m    564\u001b[0m model\u001b[39m.\u001b[39meval()\n\u001b[1;32m    565\u001b[0m encoded_data \u001b[39m=\u001b[39m \u001b[39mNone\u001b[39;00m\n",
      "File \u001b[0;32m/Library/Frameworks/Python.framework/Versions/3.9/lib/python3.9/site-packages/torch/serialization.py:789\u001b[0m, in \u001b[0;36mload\u001b[0;34m(f, map_location, pickle_module, weights_only, **pickle_load_args)\u001b[0m\n\u001b[1;32m    787\u001b[0m             \u001b[39mexcept\u001b[39;00m \u001b[39mRuntimeError\u001b[39;00m \u001b[39mas\u001b[39;00m e:\n\u001b[1;32m    788\u001b[0m                 \u001b[39mraise\u001b[39;00m pickle\u001b[39m.\u001b[39mUnpicklingError(UNSAFE_MESSAGE \u001b[39m+\u001b[39m \u001b[39mstr\u001b[39m(e)) \u001b[39mfrom\u001b[39;00m \u001b[39mNone\u001b[39m\n\u001b[0;32m--> 789\u001b[0m         \u001b[39mreturn\u001b[39;00m _load(opened_zipfile, map_location, pickle_module, \u001b[39m*\u001b[39;49m\u001b[39m*\u001b[39;49mpickle_load_args)\n\u001b[1;32m    790\u001b[0m \u001b[39mif\u001b[39;00m weights_only:\n\u001b[1;32m    791\u001b[0m     \u001b[39mtry\u001b[39;00m:\n",
      "File \u001b[0;32m/Library/Frameworks/Python.framework/Versions/3.9/lib/python3.9/site-packages/torch/serialization.py:1131\u001b[0m, in \u001b[0;36m_load\u001b[0;34m(zip_file, map_location, pickle_module, pickle_file, **pickle_load_args)\u001b[0m\n\u001b[1;32m   1129\u001b[0m unpickler \u001b[39m=\u001b[39m UnpicklerWrapper(data_file, \u001b[39m*\u001b[39m\u001b[39m*\u001b[39mpickle_load_args)\n\u001b[1;32m   1130\u001b[0m unpickler\u001b[39m.\u001b[39mpersistent_load \u001b[39m=\u001b[39m persistent_load\n\u001b[0;32m-> 1131\u001b[0m result \u001b[39m=\u001b[39m unpickler\u001b[39m.\u001b[39;49mload()\n\u001b[1;32m   1133\u001b[0m torch\u001b[39m.\u001b[39m_utils\u001b[39m.\u001b[39m_validate_loaded_sparse_tensors()\n\u001b[1;32m   1135\u001b[0m \u001b[39mreturn\u001b[39;00m result\n",
      "File \u001b[0;32m/Library/Frameworks/Python.framework/Versions/3.9/lib/python3.9/site-packages/torch/serialization.py:1124\u001b[0m, in \u001b[0;36m_load.<locals>.UnpicklerWrapper.find_class\u001b[0;34m(self, mod_name, name)\u001b[0m\n\u001b[1;32m   1122\u001b[0m         \u001b[39mpass\u001b[39;00m\n\u001b[1;32m   1123\u001b[0m mod_name \u001b[39m=\u001b[39m load_module_mapping\u001b[39m.\u001b[39mget(mod_name, mod_name)\n\u001b[0;32m-> 1124\u001b[0m \u001b[39mreturn\u001b[39;00m \u001b[39msuper\u001b[39;49m()\u001b[39m.\u001b[39;49mfind_class(mod_name, name)\n",
      "\u001b[0;31mAttributeError\u001b[0m: Can't get attribute 'CVAE' on <module '__main__'>"
     ]
    }
   ],
   "source": [
    "compute_and_save_knn_data('open_sar_ship')"
   ]
  },
  {
   "cell_type": "markdown",
   "id": "a908eb3f",
   "metadata": {},
   "source": [
    "## FUSAR"
   ]
  },
  {
   "cell_type": "code",
   "execution_count": null,
   "id": "3fe1935b",
   "metadata": {},
   "outputs": [],
   "source": [
    "compute_and_save_knn_data('fusar')"
   ]
  }
 ],
 "metadata": {
  "kernelspec": {
   "display_name": "Python 3",
   "language": "python",
   "name": "python3"
  },
  "language_info": {
   "codemirror_mode": {
    "name": "ipython",
    "version": 3
   },
   "file_extension": ".py",
   "mimetype": "text/x-python",
   "name": "python",
   "nbconvert_exporter": "python",
   "pygments_lexer": "ipython3",
   "version": "3.9.5"
  },
  "vscode": {
   "interpreter": {
    "hash": "aee8b7b246df8f9039afb4144a1f6fd8d2ca17a180786b69acc140d282b71a49"
   }
  }
 },
 "nbformat": 4,
 "nbformat_minor": 5
}
