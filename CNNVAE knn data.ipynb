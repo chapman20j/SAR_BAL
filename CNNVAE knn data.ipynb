{
 "cells": [
  {
   "cell_type": "markdown",
   "id": "bd37e354",
   "metadata": {},
   "source": [
    "# CNNVAE knn data\n",
    "This file is used to save cnnvae data so that we can avoid doing the annoy algorithm multiple times. "
   ]
  },
  {
   "cell_type": "code",
   "execution_count": 1,
   "id": "f18f1131",
   "metadata": {},
   "outputs": [],
   "source": [
    "import numpy as np\n",
    "import pandas as pd\n",
    "import torch\n",
    "import matplotlib.pyplot as plt\n",
    "\n",
    "import graphlearning as gl\n",
    "import graphlearning.active_learning as al\n",
    "\n",
    "import batch_active_learning as bal\n",
    "import utils\n",
    "\n",
    "from models import CVAE"
   ]
  },
  {
   "cell_type": "markdown",
   "id": "ac488e0f",
   "metadata": {},
   "source": [
    "## Functions"
   ]
  },
  {
   "cell_type": "code",
   "execution_count": 2,
   "id": "0b42e3a5",
   "metadata": {},
   "outputs": [],
   "source": [
    "def compute_and_save_knn_data(dataset):\n",
    "    if dataset == 'mstar':\n",
    "        model_path = \"./models/SAR10_CNNVAE.pt\"\n",
    "    elif dataset == 'open_sar_ship':\n",
    "        model_path = \"./models/OpenSarShip_CNNVAE.pt\"\n",
    "    else:\n",
    "        model_path = \"./models/Fusar_CNNVAE.pt\"\n",
    "    \n",
    "    X = utils.encode_dataset(dataset, model_path, batch_size = 1000)\n",
    "    knn_data = gl.weightmatrix.knnsearch(X, 50, method='annoy', similarity='angular')\n",
    "    \n",
    "    np.save(\"knn_data/\" + dataset + \"_knn_ind.npy\", knn_data[0])\n",
    "    np.save(\"knn_data/\" + dataset + \"_knn_dist.npy\", knn_data[1])\n",
    "    \n",
    "    return\n",
    "    "
   ]
  },
  {
   "cell_type": "markdown",
   "id": "47234b84",
   "metadata": {},
   "source": [
    "## MSTAR"
   ]
  },
  {
   "cell_type": "code",
   "execution_count": 3,
   "id": "92616bfe",
   "metadata": {},
   "outputs": [],
   "source": [
    "compute_and_save_knn_data('mstar')"
   ]
  },
  {
   "cell_type": "markdown",
   "id": "2c773e4d",
   "metadata": {},
   "source": [
    "## OpenSAR-Ship"
   ]
  },
  {
   "cell_type": "code",
   "execution_count": 4,
   "id": "2ad6eb35",
   "metadata": {},
   "outputs": [],
   "source": [
    "compute_and_save_knn_data('open_sar_ship')"
   ]
  },
  {
   "cell_type": "markdown",
   "id": "a908eb3f",
   "metadata": {},
   "source": [
    "## FUSAR"
   ]
  },
  {
   "cell_type": "code",
   "execution_count": 5,
   "id": "3fe1935b",
   "metadata": {},
   "outputs": [],
   "source": [
    "compute_and_save_knn_data('fusar')"
   ]
  }
 ],
 "metadata": {
  "kernelspec": {
   "display_name": "Python 3",
   "language": "python",
   "name": "python3"
  },
  "language_info": {
   "codemirror_mode": {
    "name": "ipython",
    "version": 3
   },
   "file_extension": ".py",
   "mimetype": "text/x-python",
   "name": "python",
   "nbconvert_exporter": "python",
   "pygments_lexer": "ipython3",
   "version": "3.9.5"
  },
  "vscode": {
   "interpreter": {
    "hash": "aee8b7b246df8f9039afb4144a1f6fd8d2ca17a180786b69acc140d282b71a49"
   }
  }
 },
 "nbformat": 4,
 "nbformat_minor": 5
}
