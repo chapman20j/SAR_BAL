{
 "cells": [
  {
   "attachments": {},
   "cell_type": "markdown",
   "id": "6af5fb27",
   "metadata": {},
   "source": [
    "# Plotting for experiments 1 and 2\n",
    "\n",
    "## TODO: Get this to work properly"
   ]
  },
  {
   "cell_type": "code",
   "execution_count": 1,
   "id": "d10968dd",
   "metadata": {},
   "outputs": [],
   "source": [
    "import numpy as np\n",
    "import pandas as pd\n",
    "import matplotlib.pyplot as plt\n",
    "\n",
    "import graphlearning as gl\n",
    "import graphlearning.active_learning as al\n",
    "\n",
    "import batch_active_learning as bal\n",
    "import utils\n",
    "\n",
    "from matplotlib.ticker import AutoLocator"
   ]
  },
  {
   "cell_type": "code",
   "execution_count": 2,
   "id": "0e7d5ef3",
   "metadata": {},
   "outputs": [],
   "source": [
    "#Non-default Parameters\n",
    "\n",
    "acq_fun_list = ['uc']\n",
    "save_path = \"Experiment Results/Experiment 1/\""
   ]
  },
  {
   "cell_type": "code",
   "execution_count": 3,
   "id": "0c0a0c14",
   "metadata": {},
   "outputs": [],
   "source": [
    "def experiment1_plotter(x_dict, y_dict, dataset, include_sota=False):\n",
    "    fig, ax1 = plt.subplots()\n",
    "    \n",
    "    dataset_size = utils.SAR_DATASET_SIZE_DICT[dataset]\n",
    "\n",
    "    ax1.set_xlabel('Number of Labeled Points')\n",
    "    ax1.set_ylabel('Accuracy (%)')\n",
    "    for i in range(len(utils.AL_METHODS)):\n",
    "        this_key = utils.AL_METHODS[i]\n",
    "        ax1.plot(x_dict[this_key], y_dict[this_key], label=utils.AL_METHOD_NAMES[i])\n",
    "    ax1.tick_params(axis='x')\n",
    "    \n",
    "    #Add SoTA\n",
    "    if dataset != 'mstar' and include_sota:\n",
    "        if dataset == 'open_sar_ship':\n",
    "            sota_val = 78.15\n",
    "        elif dataset == 'fusar':\n",
    "            sota_val = 86.69\n",
    "        ax1.plot(x_dict['local_max'], sota_val * np.ones_like(x_dict['local_max']), label='SoTA', linestyle='--')\n",
    "    \n",
    "    ax1.legend()\n",
    "    \n",
    "    ax2 = ax1.twiny() \n",
    "    \n",
    "    #Get percentages on top\n",
    "    ax2.set_xlabel('Percent of Dataset Labeled')\n",
    "    ax2.plot(100 * x_dict['local_max'] / (1.0 * dataset_size), y_dict['local_max'])\n",
    "    ax2.tick_params(axis='x')\n",
    "    ax2.xaxis.set_major_locator(AutoLocator())\n",
    "    fig.tight_layout()\n",
    "    \n",
    "    file_path = save_path + dataset + '_detailed_plot'\n",
    "    if include_sota:\n",
    "        file_path += '_sota'\n",
    "    file_path += '.png'\n",
    "    \n",
    "    plt.savefig(file_path, bbox_inches='tight')\n",
    "    plt.show()\n",
    "    return\n",
    "\n",
    "def get_data(dataset, file):\n",
    "    return pd.read_pickle(save_path + 'Pickles/' + dataset + \"_\" + file + '.pkl')"
   ]
  },
  {
   "cell_type": "code",
   "execution_count": 4,
   "id": "a9148cae",
   "metadata": {},
   "outputs": [],
   "source": []
  },
  {
   "cell_type": "code",
   "execution_count": 9,
   "id": "7b5bb9ab",
   "metadata": {},
   "outputs": [],
   "source": [
    "df = get_data('mstar', 'full_acc_dict')"
   ]
  },
  {
   "cell_type": "code",
   "execution_count": 10,
   "id": "6c435830",
   "metadata": {},
   "outputs": [
    {
     "name": "stdout",
     "output_type": "stream",
     "text": [
      "                  0          1          2          3          4          5    \\\n",
      "local_max   41.633729  44.190141  49.375092  53.463012  64.392261  69.345767   \n",
      "random      41.633729  46.258803  50.918983  53.816681  55.693398  60.775607   \n",
      "topn_max    41.633729  42.312207  50.610204  56.970233  61.468025  65.556542   \n",
      "acq_sample  41.633729  45.877347  45.949125  51.620984  54.866342  60.997632   \n",
      "global_max  41.633729  42.371889  42.627032  39.469830  41.160100  43.114562   \n",
      "\n",
      "                  6          7          8          9    ...        472  \\\n",
      "local_max   74.291648  75.676479  79.675160  81.810036  ...        NaN   \n",
      "random      60.139445  61.611656  63.969602  64.590800  ...        NaN   \n",
      "topn_max    67.675419  71.602736  74.698257  78.733572  ...        NaN   \n",
      "acq_sample  63.506898  67.246506  69.184920  72.267025  ...        NaN   \n",
      "global_max  43.531136  44.314185  42.796424  43.227792  ...  98.852021   \n",
      "\n",
      "                  473       474        475        476        477        478  \\\n",
      "local_max         NaN       NaN        NaN        NaN        NaN        NaN   \n",
      "random            NaN       NaN        NaN        NaN        NaN        NaN   \n",
      "topn_max          NaN       NaN        NaN        NaN        NaN        NaN   \n",
      "acq_sample        NaN       NaN        NaN        NaN        NaN        NaN   \n",
      "global_max  98.836112  98.85166  98.867212  98.882769  98.882594  98.882418   \n",
      "\n",
      "                  479       480       481  \n",
      "local_max         NaN       NaN       NaN  \n",
      "random            NaN       NaN       NaN  \n",
      "topn_max          NaN       NaN       NaN  \n",
      "acq_sample        NaN       NaN       NaN  \n",
      "global_max  98.882242  98.86632  98.88189  \n",
      "\n",
      "[5 rows x 482 columns]\n"
     ]
    }
   ],
   "source": [
    "print(df)"
   ]
  },
  {
   "cell_type": "code",
   "execution_count": null,
   "id": "de9218a8",
   "metadata": {},
   "outputs": [],
   "source": []
  }
 ],
 "metadata": {
  "kernelspec": {
   "display_name": "Python 3",
   "language": "python",
   "name": "python3"
  },
  "language_info": {
   "codemirror_mode": {
    "name": "ipython",
    "version": 3
   },
   "file_extension": ".py",
   "mimetype": "text/x-python",
   "name": "python",
   "nbconvert_exporter": "python",
   "pygments_lexer": "ipython3",
   "version": "3.9.5"
  },
  "vscode": {
   "interpreter": {
    "hash": "aee8b7b246df8f9039afb4144a1f6fd8d2ca17a180786b69acc140d282b71a49"
   }
  }
 },
 "nbformat": 4,
 "nbformat_minor": 5
}
