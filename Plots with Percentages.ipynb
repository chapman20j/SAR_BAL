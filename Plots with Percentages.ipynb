{
 "cells": [
  {
   "cell_type": "markdown",
   "id": "6af5fb27",
   "metadata": {},
   "source": [
    "# Plotting for experiments 1 and 2\n"
   ]
  },
  {
   "cell_type": "code",
   "execution_count": 1,
   "id": "d10968dd",
   "metadata": {},
   "outputs": [],
   "source": [
    "import numpy as np\n",
    "import pandas as pd\n",
    "import matplotlib.pyplot as plt\n",
    "\n",
    "import graphlearning as gl\n",
    "import graphlearning.active_learning as al\n",
    "\n",
    "import batch_active_learning as bal\n",
    "import utils\n",
    "\n",
    "from matplotlib.ticker import AutoLocator"
   ]
  },
  {
   "cell_type": "code",
   "execution_count": null,
   "id": "0e7d5ef3",
   "metadata": {},
   "outputs": [],
   "source": [
    "#Non-default Parameters\n",
    "\n",
    "acq_fun_list = ['uc']\n",
    "save_path = \"Experiment Results/Experiment 1/\""
   ]
  },
  {
   "cell_type": "code",
   "execution_count": null,
   "id": "0c0a0c14",
   "metadata": {},
   "outputs": [],
   "source": [
    "def experiment1_plotter(x_dict, y_dict, dataset, include_sota=False):\n",
    "    fig, ax1 = plt.subplots()\n",
    "    \n",
    "    dataset_size = utils.SAR_DATASET_SIZE_DICT[dataset]\n",
    "\n",
    "    ax1.set_xlabel('Number of Labeled Points')\n",
    "    ax1.set_ylabel('Accuracy (%)')\n",
    "    for i in range(len(utils.AL_METHODS)):\n",
    "        this_key = utils.AL_METHODS[i]\n",
    "        ax1.plot(x_dict[this_key], y_dict[this_key], label=utils.AL_METHOD_NAMES[i])\n",
    "    ax1.tick_params(axis='x')\n",
    "    \n",
    "    #Add SoTA\n",
    "    if dataset != 'mstar' and include_sota:\n",
    "        if dataset == 'open_sar_ship':\n",
    "            sota_val = 78.15\n",
    "        elif dataset == 'fusar':\n",
    "            sota_val = 86.69\n",
    "        ax1.plot(x_dict['local_max'], sota_val * np.ones_like(x_dict['local_max']), label='SoTA', linestyle='--')\n",
    "    \n",
    "    ax1.legend()\n",
    "    \n",
    "    ax2 = ax1.twiny() \n",
    "    \n",
    "    #Get percentages on top\n",
    "    ax2.set_xlabel('Percent of Dataset Labeled')\n",
    "    ax2.plot(100 * x_dict['local_max'] / (1.0 * dataset_size), y_dict['local_max'])\n",
    "    ax2.tick_params(axis='x')\n",
    "    ax2.xaxis.set_major_locator(AutoLocator())\n",
    "    fig.tight_layout()\n",
    "    \n",
    "    file_path = save_path + dataset + '_detailed_plot'\n",
    "    if include_sota:\n",
    "        file_path += '_sota'\n",
    "    file_path += '.png'\n",
    "    \n",
    "    plt.savefig(file_path, bbox_inches='tight')\n",
    "    plt.show()\n",
    "    return"
   ]
  }
 ],
 "metadata": {
  "kernelspec": {
   "display_name": "Python 3 (ipykernel)",
   "language": "python",
   "name": "python3"
  },
  "language_info": {
   "codemirror_mode": {
    "name": "ipython",
    "version": 3
   },
   "file_extension": ".py",
   "mimetype": "text/x-python",
   "name": "python",
   "nbconvert_exporter": "python",
   "pygments_lexer": "ipython3",
   "version": "3.9.5"
  }
 },
 "nbformat": 4,
 "nbformat_minor": 5
}
