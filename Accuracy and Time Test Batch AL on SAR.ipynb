{
 "cells": [
  {
   "cell_type": "code",
   "execution_count": 1,
   "metadata": {
    "colab": {
     "base_uri": "https://localhost:8080/"
    },
    "id": "swwfFYW1cZRi",
    "outputId": "240eeec7-d64a-4854-dc30-8e6f637a9b2a"
   },
   "outputs": [
    {
     "data": {
      "text/plain": [
       "<module 'batch_active_learning' from '/Users/jameschapman/Documents/GitHub/SAR_BAL/batch_active_learning.py'>"
      ]
     },
     "execution_count": 1,
     "metadata": {},
     "output_type": "execute_result"
    }
   ],
   "source": [
    "import batch_active_learning as bal\n",
    "from importlib import reload\n",
    "reload(bal)"
   ]
  },
  {
   "cell_type": "markdown",
   "metadata": {
    "id": "Q-q-kGW5osmY"
   },
   "source": [
    "# Perform Time Experiements"
   ]
  },
  {
   "cell_type": "markdown",
   "metadata": {
    "id": "oOqaHlETpBN8"
   },
   "source": [
    "OpenSarShip Type I Transfer Learning"
   ]
  },
  {
   "cell_type": "code",
   "execution_count": 2,
   "metadata": {
    "colab": {
     "base_uri": "https://localhost:8080/"
    },
    "id": "aPp06RnSoxTU",
    "outputId": "a93e8bcf-49f7-4216-e894-fa0f71ceee62"
   },
   "outputs": [
    {
     "name": "stdout",
     "output_type": "stream",
     "text": [
      "Transfer learning training data: 111\n",
      "Transfer learning testing data: 48\n"
     ]
    },
    {
     "name": "stderr",
     "output_type": "stream",
     "text": [
      "Using cache found in /Users/jameschapman/.cache/torch/hub/pytorch_vision_v0.10.0\n",
      "/Library/Frameworks/Python.framework/Versions/3.9/lib/python3.9/site-packages/torchvision/models/_utils.py:208: UserWarning: The parameter 'pretrained' is deprecated since 0.13 and will be removed in 0.15, please use 'weights' instead.\n",
      "  warnings.warn(\n",
      "/Library/Frameworks/Python.framework/Versions/3.9/lib/python3.9/site-packages/torchvision/models/_utils.py:223: UserWarning: Arguments other than a weight enum or `None` for 'weights' are deprecated since 0.13 and will be removed in 0.15. The current behavior is equivalent to passing `weights=AlexNet_Weights.IMAGENET1K_V1`. You can also use `weights=AlexNet_Weights.DEFAULT` to get the most up-to-date weights.\n",
      "  warnings.warn(msg)\n"
     ]
    },
    {
     "name": "stdout",
     "output_type": "stream",
     "text": [
      "Constructing Graph Learning Objects\n",
      "Embedding Complete\n",
      "Time taken = 71.59083324999999\n",
      "Coreset Size = 19\t Percent of data = 0.83%\n",
      "Coreset =  [159, 1759, 943, 1409, 1619, 2204, 27, 2155, 1704, 1628, 804, 184, 481, 1199, 1651, 2134, 2156, 933, 1186]\n",
      "uc local_max\n",
      "uc average accuracy: 78.63894139886578\n",
      "uc highest accuracy: 78.63894139886578\n",
      "uc lowest accuracy: 78.63894139886578\n",
      "[]\n",
      "Unusual behavior happens 0 times\n"
     ]
    }
   ],
   "source": [
    "bal.perform_al_experiment('open_sar', acq_fun_list=['uc'], experiment_time=1)"
   ]
  },
  {
   "cell_type": "code",
   "execution_count": 3,
   "metadata": {
    "colab": {
     "base_uri": "https://localhost:8080/"
    },
    "id": "n1qZaHqpo3it",
    "outputId": "14a2cfa0-a11f-4358-eb8e-4cb349dda59d"
   },
   "outputs": [
    {
     "name": "stdout",
     "output_type": "stream",
     "text": [
      "Transfer learning training data: 111\n",
      "Transfer learning testing data: 48\n"
     ]
    },
    {
     "name": "stderr",
     "output_type": "stream",
     "text": [
      "Using cache found in /Users/jameschapman/.cache/torch/hub/pytorch_vision_v0.10.0\n"
     ]
    },
    {
     "name": "stdout",
     "output_type": "stream",
     "text": [
      "Constructing Graph Learning Objects\n",
      "Embedding Complete\n",
      "Time taken = 71.07946833400001\n",
      "Coreset Size = 16\t Percent of data = 0.7%\n",
      "Coreset =  [2125, 485, 715, 1841, 1588, 2062, 890, 436, 372, 2154, 1032, 3, 237, 1549, 320, 1208]\n",
      "uc global_max\n",
      "uc average accuracy: 79.74842767295597\n",
      "uc highest accuracy: 79.74842767295597\n",
      "uc lowest accuracy: 79.74842767295597\n",
      "[]\n",
      "Unusual behavior happens 0 times\n"
     ]
    }
   ],
   "source": [
    "bal.perform_al_experiment('open_sar', acq_fun_list=['uc'], al_mtd='global_max', experiment_time=1)"
   ]
  },
  {
   "cell_type": "markdown",
   "metadata": {
    "id": "KhGwn6FxpGAo"
   },
   "source": [
    "OpenSarShip Type II Transfer Learning"
   ]
  },
  {
   "cell_type": "code",
   "execution_count": 4,
   "metadata": {
    "colab": {
     "base_uri": "https://localhost:8080/"
    },
    "id": "_h9VYJflpIas",
    "outputId": "fb769b97-83d5-4ad6-a88d-5052e443e196"
   },
   "outputs": [
    {
     "name": "stdout",
     "output_type": "stream",
     "text": [
      "Transfer learning training data: 111\n",
      "Transfer learning testing data: 48\n",
      "Epoch 0/29\n",
      "----------\n"
     ]
    },
    {
     "name": "stderr",
     "output_type": "stream",
     "text": [
      "/Users/jameschapman/Documents/GitHub/SAR_BAL/utils.py:338: UserWarning: Implicit dimension choice for log_softmax has been deprecated. Change the call to include dim=X as an argument.\n",
      "  outputs = nn.functional.log_softmax(outputs)\n"
     ]
    },
    {
     "name": "stdout",
     "output_type": "stream",
     "text": [
      "train Loss: 1.0901 Acc: 0.4054\n",
      "val Loss: 1.1019 Acc: 0.3125\n",
      "\n",
      "Epoch 1/29\n",
      "----------\n",
      "train Loss: 1.0884 Acc: 0.4775\n",
      "val Loss: 1.0895 Acc: 0.5208\n",
      "\n",
      "Epoch 2/29\n",
      "----------\n",
      "train Loss: 1.0769 Acc: 0.4595\n",
      "val Loss: 1.0813 Acc: 0.4792\n",
      "\n",
      "Epoch 3/29\n",
      "----------\n",
      "train Loss: 1.0489 Acc: 0.5135\n",
      "val Loss: 1.0651 Acc: 0.4792\n",
      "\n",
      "Epoch 4/29\n",
      "----------\n",
      "train Loss: 1.0505 Acc: 0.5405\n",
      "val Loss: 1.0540 Acc: 0.4792\n",
      "\n",
      "Epoch 5/29\n",
      "----------\n",
      "train Loss: 1.0325 Acc: 0.5135\n",
      "val Loss: 1.0472 Acc: 0.4792\n",
      "\n",
      "Epoch 6/29\n",
      "----------\n",
      "train Loss: 1.0295 Acc: 0.5135\n",
      "val Loss: 1.0475 Acc: 0.4792\n",
      "\n",
      "Epoch 7/29\n",
      "----------\n",
      "train Loss: 1.0278 Acc: 0.5135\n",
      "val Loss: 1.0340 Acc: 0.4792\n",
      "\n",
      "Epoch 8/29\n",
      "----------\n",
      "train Loss: 1.0202 Acc: 0.5135\n",
      "val Loss: 1.0416 Acc: 0.4792\n",
      "\n",
      "Epoch 9/29\n",
      "----------\n",
      "train Loss: 1.0302 Acc: 0.5135\n",
      "val Loss: 1.0424 Acc: 0.4792\n",
      "\n",
      "Epoch 10/29\n",
      "----------\n",
      "train Loss: 1.0357 Acc: 0.5135\n",
      "val Loss: 1.0423 Acc: 0.4792\n",
      "\n",
      "Epoch 11/29\n",
      "----------\n",
      "train Loss: 1.0282 Acc: 0.5135\n",
      "val Loss: 1.0515 Acc: 0.4792\n",
      "\n",
      "Epoch 12/29\n",
      "----------\n",
      "train Loss: 1.0323 Acc: 0.5135\n",
      "val Loss: 1.0399 Acc: 0.4792\n",
      "\n",
      "Epoch 13/29\n",
      "----------\n",
      "train Loss: 1.0252 Acc: 0.5135\n",
      "val Loss: 1.0429 Acc: 0.4792\n",
      "\n",
      "Epoch 14/29\n",
      "----------\n",
      "train Loss: 1.0444 Acc: 0.5135\n",
      "val Loss: 1.0387 Acc: 0.4792\n",
      "\n",
      "Epoch 15/29\n",
      "----------\n",
      "train Loss: 1.0258 Acc: 0.5135\n",
      "val Loss: 1.0374 Acc: 0.4792\n",
      "\n",
      "Epoch 16/29\n",
      "----------\n",
      "train Loss: 1.0166 Acc: 0.5135\n",
      "val Loss: 1.0372 Acc: 0.4792\n",
      "\n",
      "Epoch 17/29\n",
      "----------\n",
      "train Loss: 1.0241 Acc: 0.5135\n",
      "val Loss: 1.0464 Acc: 0.4792\n",
      "\n",
      "Epoch 18/29\n",
      "----------\n",
      "train Loss: 1.0322 Acc: 0.5135\n",
      "val Loss: 1.0295 Acc: 0.4792\n",
      "\n",
      "Epoch 19/29\n",
      "----------\n",
      "train Loss: 1.0373 Acc: 0.5135\n",
      "val Loss: 1.0288 Acc: 0.4792\n",
      "\n",
      "Epoch 20/29\n",
      "----------\n",
      "train Loss: 1.0082 Acc: 0.5135\n",
      "val Loss: 1.0377 Acc: 0.4792\n",
      "\n",
      "Epoch 21/29\n",
      "----------\n",
      "train Loss: 1.0037 Acc: 0.5135\n",
      "val Loss: 1.0388 Acc: 0.4792\n",
      "\n",
      "Epoch 22/29\n",
      "----------\n",
      "train Loss: 1.0355 Acc: 0.5135\n",
      "val Loss: 1.0352 Acc: 0.4792\n",
      "\n",
      "Epoch 23/29\n",
      "----------\n",
      "train Loss: 1.0112 Acc: 0.5135\n",
      "val Loss: 1.0322 Acc: 0.4792\n",
      "\n",
      "Epoch 24/29\n",
      "----------\n",
      "train Loss: 1.0278 Acc: 0.5135\n",
      "val Loss: 1.0370 Acc: 0.4792\n",
      "\n",
      "Epoch 25/29\n",
      "----------\n",
      "train Loss: 1.0286 Acc: 0.5135\n",
      "val Loss: 1.0384 Acc: 0.4792\n",
      "\n",
      "Epoch 26/29\n",
      "----------\n",
      "train Loss: 1.0168 Acc: 0.5135\n",
      "val Loss: 1.0331 Acc: 0.4792\n",
      "\n",
      "Epoch 27/29\n",
      "----------\n",
      "train Loss: 1.0376 Acc: 0.5135\n",
      "val Loss: 1.0361 Acc: 0.4792\n",
      "\n",
      "Epoch 28/29\n",
      "----------\n",
      "train Loss: 1.0296 Acc: 0.5135\n",
      "val Loss: 1.0498 Acc: 0.4792\n",
      "\n",
      "Epoch 29/29\n",
      "----------\n",
      "train Loss: 1.0094 Acc: 0.5135\n",
      "val Loss: 1.0422 Acc: 0.4792\n",
      "\n",
      "Training complete in 1m 22s\n",
      "Best val Acc: 0.520833\n",
      "Constructing Graph Learning Objects\n",
      "Embedding Complete\n",
      "Time taken = 163.56131508299998\n",
      "Coreset Size = 15\t Percent of data = 0.65%\n",
      "Coreset =  [265, 1257, 948, 714, 1964, 1838, 2092, 625, 1867, 1550, 752, 1934, 2103, 1383, 763]\n",
      "uc local_max\n",
      "uc average accuracy: 80.74027603513174\n",
      "uc highest accuracy: 80.74027603513174\n",
      "uc lowest accuracy: 80.74027603513174\n",
      "[]\n",
      "Unusual behavior happens 0 times\n"
     ]
    }
   ],
   "source": [
    "bal.perform_al_experiment('open_sar', embedding_mode='transfer_and_train', acq_fun_list=['uc'], al_mtd='local_max', experiment_time=1)"
   ]
  },
  {
   "cell_type": "markdown",
   "metadata": {},
   "source": [
    "## Actual Debugging"
   ]
  },
  {
   "cell_type": "code",
   "execution_count": 6,
   "metadata": {},
   "outputs": [
    {
     "data": {
      "text/plain": [
       "<module 'batch_active_learning' from '/Users/jameschapman/Documents/GitHub/SAR_BAL/batch_active_learning.py'>"
      ]
     },
     "execution_count": 6,
     "metadata": {},
     "output_type": "execute_result"
    }
   ],
   "source": [
    "reload(bal)\n",
    "#reload(utils)"
   ]
  },
  {
   "cell_type": "code",
   "execution_count": 7,
   "metadata": {},
   "outputs": [
    {
     "name": "stdout",
     "output_type": "stream",
     "text": [
      "Transfer learning training data: 111\n",
      "Transfer learning testing data: 48\n",
      "Epoch 0/29\n",
      "----------\n",
      "train Loss: 1.0979 Acc: 0.3784\n",
      "val Loss: 1.0935 Acc: 0.4792\n",
      "\n",
      "Epoch 1/29\n",
      "----------\n",
      "train Loss: 1.0966 Acc: 0.3694\n",
      "val Loss: 1.0758 Acc: 0.5208\n",
      "\n",
      "Epoch 2/29\n",
      "----------\n",
      "train Loss: 1.0867 Acc: 0.3964\n",
      "val Loss: 1.0660 Acc: 0.5000\n",
      "\n",
      "Epoch 3/29\n",
      "----------\n",
      "train Loss: 1.0652 Acc: 0.4685\n",
      "val Loss: 1.0484 Acc: 0.5417\n",
      "\n",
      "Epoch 4/29\n",
      "----------\n",
      "train Loss: 1.0580 Acc: 0.4685\n",
      "val Loss: 1.0295 Acc: 0.5417\n",
      "\n",
      "Epoch 5/29\n",
      "----------\n",
      "train Loss: 1.0633 Acc: 0.4775\n",
      "val Loss: 1.0143 Acc: 0.5417\n",
      "\n",
      "Epoch 6/29\n",
      "----------\n",
      "train Loss: 1.0393 Acc: 0.5225\n",
      "val Loss: 1.0077 Acc: 0.5417\n",
      "\n",
      "Epoch 7/29\n",
      "----------\n",
      "train Loss: 1.0371 Acc: 0.4775\n",
      "val Loss: 0.9967 Acc: 0.5417\n",
      "\n",
      "Epoch 8/29\n",
      "----------\n",
      "train Loss: 1.0436 Acc: 0.4865\n",
      "val Loss: 1.0002 Acc: 0.5417\n",
      "\n",
      "Epoch 9/29\n",
      "----------\n",
      "train Loss: 1.0388 Acc: 0.4865\n",
      "val Loss: 1.0038 Acc: 0.5417\n",
      "\n",
      "Epoch 10/29\n",
      "----------\n",
      "train Loss: 1.0391 Acc: 0.4865\n",
      "val Loss: 1.0020 Acc: 0.5417\n",
      "\n",
      "Epoch 11/29\n",
      "----------\n",
      "train Loss: 1.0405 Acc: 0.4865\n",
      "val Loss: 1.0041 Acc: 0.5417\n",
      "\n",
      "Epoch 12/29\n",
      "----------\n",
      "train Loss: 1.0308 Acc: 0.4865\n",
      "val Loss: 1.0005 Acc: 0.5417\n",
      "\n",
      "Epoch 13/29\n",
      "----------\n",
      "train Loss: 1.0362 Acc: 0.4865\n",
      "val Loss: 0.9989 Acc: 0.5417\n",
      "\n",
      "Epoch 14/29\n",
      "----------\n",
      "train Loss: 1.0202 Acc: 0.4775\n",
      "val Loss: 0.9987 Acc: 0.5417\n",
      "\n",
      "Epoch 15/29\n",
      "----------\n",
      "train Loss: 1.0361 Acc: 0.4865\n",
      "val Loss: 0.9976 Acc: 0.5417\n",
      "\n",
      "Epoch 16/29\n",
      "----------\n",
      "train Loss: 1.0271 Acc: 0.4865\n",
      "val Loss: 0.9967 Acc: 0.5417\n",
      "\n",
      "Epoch 17/29\n",
      "----------\n",
      "train Loss: 1.0415 Acc: 0.4775\n",
      "val Loss: 0.9969 Acc: 0.5417\n",
      "\n",
      "Epoch 18/29\n",
      "----------\n",
      "train Loss: 1.0286 Acc: 0.4865\n",
      "val Loss: 0.9931 Acc: 0.5417\n",
      "\n",
      "Epoch 19/29\n",
      "----------\n",
      "train Loss: 1.0224 Acc: 0.4865\n",
      "val Loss: 1.0003 Acc: 0.5417\n",
      "\n",
      "Epoch 20/29\n",
      "----------\n",
      "train Loss: 1.0343 Acc: 0.4865\n",
      "val Loss: 0.9949 Acc: 0.5417\n",
      "\n",
      "Epoch 21/29\n",
      "----------\n",
      "train Loss: 1.0299 Acc: 0.4865\n",
      "val Loss: 1.0015 Acc: 0.5417\n",
      "\n",
      "Epoch 22/29\n",
      "----------\n",
      "train Loss: 1.0234 Acc: 0.4775\n",
      "val Loss: 0.9981 Acc: 0.5417\n",
      "\n",
      "Epoch 23/29\n",
      "----------\n",
      "train Loss: 1.0429 Acc: 0.4955\n",
      "val Loss: 0.9963 Acc: 0.5417\n",
      "\n",
      "Epoch 24/29\n",
      "----------\n",
      "train Loss: 1.0331 Acc: 0.4775\n",
      "val Loss: 0.9919 Acc: 0.5417\n",
      "\n",
      "Epoch 25/29\n",
      "----------\n",
      "train Loss: 1.0330 Acc: 0.4865\n",
      "val Loss: 0.9995 Acc: 0.5417\n",
      "\n",
      "Epoch 26/29\n",
      "----------\n",
      "train Loss: 1.0250 Acc: 0.4865\n",
      "val Loss: 0.9990 Acc: 0.5417\n",
      "\n",
      "Epoch 27/29\n",
      "----------\n",
      "train Loss: 1.0399 Acc: 0.4865\n",
      "val Loss: 1.0072 Acc: 0.5417\n",
      "\n",
      "Epoch 28/29\n",
      "----------\n",
      "train Loss: 1.0222 Acc: 0.4955\n",
      "val Loss: 0.9926 Acc: 0.5417\n",
      "\n",
      "Epoch 29/29\n",
      "----------\n",
      "train Loss: 1.0275 Acc: 0.4955\n",
      "val Loss: 0.9964 Acc: 0.5417\n",
      "\n",
      "Training complete in 1m 21s\n",
      "Best val Acc: 0.541667\n",
      "Constructing Graph Learning Objects\n",
      "Embedding Complete\n",
      "Time taken = 165.346424167\n",
      "Coreset Size = 19\t Percent of data = 0.83%\n",
      "Coreset =  [1383, 573, 974, 1687, 402, 530, 2225, 1635, 177, 745, 992, 103, 1491, 1035, 719, 1604, 1075, 1342, 1250]\n",
      "uc local_max\n",
      "uc average accuracy: 71.89666036546944\n",
      "uc highest accuracy: 71.89666036546944\n",
      "uc lowest accuracy: 71.89666036546944\n",
      "[]\n",
      "Unusual behavior happens 0 times\n"
     ]
    }
   ],
   "source": [
    "bal.perform_al_experiment('open_sar', embedding_mode='transfer_and_train', acq_fun_list=['uc'], al_mtd='local_max', experiment_time=1)"
   ]
  },
  {
   "cell_type": "markdown",
   "metadata": {},
   "source": [
    "## DONE DEBUGGING\n",
    "## Accuracy testing on MSTAR"
   ]
  },
  {
   "cell_type": "code",
   "execution_count": null,
   "metadata": {},
   "outputs": [],
   "source": []
  },
  {
   "cell_type": "code",
   "execution_count": null,
   "metadata": {},
   "outputs": [],
   "source": []
  },
  {
   "cell_type": "code",
   "execution_count": null,
   "metadata": {},
   "outputs": [],
   "source": []
  },
  {
   "cell_type": "markdown",
   "metadata": {},
   "source": [
    "## Done with accuracy testing on MSTAR"
   ]
  },
  {
   "cell_type": "code",
   "execution_count": 8,
   "metadata": {
    "colab": {
     "base_uri": "https://localhost:8080/"
    },
    "id": "4eQYG4OlpFlc",
    "outputId": "d9417c8f-14e4-45ae-8aa2-74a1566436de"
   },
   "outputs": [
    {
     "name": "stdout",
     "output_type": "stream",
     "text": [
      "Transfer learning training data: 111\n",
      "Transfer learning testing data: 48\n",
      "Epoch 0/29\n",
      "----------\n",
      "train Loss: 1.1023 Acc: 0.3243\n",
      "val Loss: 1.0977 Acc: 0.3542\n",
      "\n",
      "Epoch 1/29\n",
      "----------\n",
      "train Loss: 1.1007 Acc: 0.3243\n",
      "val Loss: 1.1031 Acc: 0.3750\n",
      "\n",
      "Epoch 2/29\n",
      "----------\n",
      "train Loss: 1.0772 Acc: 0.4234\n",
      "val Loss: 1.0913 Acc: 0.3750\n",
      "\n",
      "Epoch 3/29\n",
      "----------\n",
      "train Loss: 1.0607 Acc: 0.4955\n",
      "val Loss: 1.0897 Acc: 0.3750\n",
      "\n",
      "Epoch 4/29\n",
      "----------\n",
      "train Loss: 1.0434 Acc: 0.5315\n",
      "val Loss: 1.0881 Acc: 0.3750\n",
      "\n",
      "Epoch 5/29\n",
      "----------\n",
      "train Loss: 0.9978 Acc: 0.5586\n",
      "val Loss: 1.0880 Acc: 0.3750\n",
      "\n",
      "Epoch 6/29\n",
      "----------\n",
      "train Loss: 1.0074 Acc: 0.5586\n",
      "val Loss: 1.1053 Acc: 0.3750\n",
      "\n",
      "Epoch 7/29\n",
      "----------\n",
      "train Loss: 0.9951 Acc: 0.5586\n",
      "val Loss: 1.1100 Acc: 0.3750\n",
      "\n",
      "Epoch 8/29\n",
      "----------\n",
      "train Loss: 0.9981 Acc: 0.5586\n",
      "val Loss: 1.0998 Acc: 0.3750\n",
      "\n",
      "Epoch 9/29\n",
      "----------\n",
      "train Loss: 0.9777 Acc: 0.5586\n",
      "val Loss: 1.1031 Acc: 0.3750\n",
      "\n",
      "Epoch 10/29\n",
      "----------\n",
      "train Loss: 0.9910 Acc: 0.5586\n",
      "val Loss: 1.1239 Acc: 0.3750\n",
      "\n",
      "Epoch 11/29\n",
      "----------\n",
      "train Loss: 0.9933 Acc: 0.5586\n",
      "val Loss: 1.1230 Acc: 0.3750\n",
      "\n",
      "Epoch 12/29\n",
      "----------\n",
      "train Loss: 0.9653 Acc: 0.5586\n",
      "val Loss: 1.1147 Acc: 0.3750\n",
      "\n",
      "Epoch 13/29\n",
      "----------\n",
      "train Loss: 0.9538 Acc: 0.5586\n",
      "val Loss: 1.1200 Acc: 0.3750\n",
      "\n",
      "Epoch 14/29\n",
      "----------\n",
      "train Loss: 0.9947 Acc: 0.5586\n",
      "val Loss: 1.1123 Acc: 0.3750\n",
      "\n",
      "Epoch 15/29\n",
      "----------\n",
      "train Loss: 0.9836 Acc: 0.5586\n",
      "val Loss: 1.1240 Acc: 0.3750\n",
      "\n",
      "Epoch 16/29\n",
      "----------\n",
      "train Loss: 0.9676 Acc: 0.5586\n",
      "val Loss: 1.1073 Acc: 0.3750\n",
      "\n",
      "Epoch 17/29\n",
      "----------\n",
      "train Loss: 0.9942 Acc: 0.5586\n",
      "val Loss: 1.1186 Acc: 0.3750\n",
      "\n",
      "Epoch 18/29\n",
      "----------\n",
      "train Loss: 0.9880 Acc: 0.5586\n",
      "val Loss: 1.1282 Acc: 0.3750\n",
      "\n",
      "Epoch 19/29\n",
      "----------\n",
      "train Loss: 0.9827 Acc: 0.5586\n",
      "val Loss: 1.1303 Acc: 0.3750\n",
      "\n",
      "Epoch 20/29\n",
      "----------\n",
      "train Loss: 0.9757 Acc: 0.5586\n",
      "val Loss: 1.1237 Acc: 0.3750\n",
      "\n",
      "Epoch 21/29\n",
      "----------\n",
      "train Loss: 0.9855 Acc: 0.5586\n",
      "val Loss: 1.1132 Acc: 0.3750\n",
      "\n",
      "Epoch 22/29\n",
      "----------\n",
      "train Loss: 0.9867 Acc: 0.5586\n",
      "val Loss: 1.1145 Acc: 0.3750\n",
      "\n",
      "Epoch 23/29\n",
      "----------\n",
      "train Loss: 0.9632 Acc: 0.5586\n",
      "val Loss: 1.1242 Acc: 0.3750\n",
      "\n",
      "Epoch 24/29\n",
      "----------\n",
      "train Loss: 0.9838 Acc: 0.5586\n",
      "val Loss: 1.1135 Acc: 0.3750\n",
      "\n",
      "Epoch 25/29\n",
      "----------\n",
      "train Loss: 0.9802 Acc: 0.5586\n",
      "val Loss: 1.1125 Acc: 0.3750\n",
      "\n",
      "Epoch 26/29\n",
      "----------\n",
      "train Loss: 0.9690 Acc: 0.5586\n",
      "val Loss: 1.1098 Acc: 0.3750\n",
      "\n",
      "Epoch 27/29\n",
      "----------\n",
      "train Loss: 0.9746 Acc: 0.5586\n",
      "val Loss: 1.1076 Acc: 0.3750\n",
      "\n",
      "Epoch 28/29\n",
      "----------\n",
      "train Loss: 0.9818 Acc: 0.5586\n",
      "val Loss: 1.1230 Acc: 0.3750\n",
      "\n",
      "Epoch 29/29\n",
      "----------\n",
      "train Loss: 0.9783 Acc: 0.5586\n",
      "val Loss: 1.1345 Acc: 0.3750\n",
      "\n",
      "Training complete in 1m 22s\n",
      "Best val Acc: 0.375000\n",
      "Constructing Graph Learning Objects\n",
      "Embedding Complete\n",
      "Time taken = 164.88766333399997\n",
      "Coreset Size = 17\t Percent of data = 0.74%\n",
      "Coreset =  [1383, 573, 974, 2200, 1786, 1930, 1629, 677, 432, 2193, 1650, 184, 45, 1601, 1180, 1646, 2111]\n",
      "uc global_max\n",
      "uc average accuracy: 80.99433606041535\n",
      "uc highest accuracy: 80.99433606041535\n",
      "uc lowest accuracy: 80.99433606041535\n",
      "[]\n",
      "Unusual behavior happens 0 times\n"
     ]
    }
   ],
   "source": [
    "bal.perform_al_experiment('open_sar', embedding_mode='transfer_and_train', acq_fun_list=['uc'], al_mtd='global_max', experiment_time=1)"
   ]
  },
  {
   "cell_type": "markdown",
   "metadata": {
    "id": "w4T5LxLOwyRc"
   },
   "source": [
    "Fusar Type I Transfer Learning"
   ]
  },
  {
   "cell_type": "code",
   "execution_count": 9,
   "metadata": {
    "colab": {
     "base_uri": "https://localhost:8080/",
     "height": 1000,
     "referenced_widgets": [
      "a1bf824c41b54da2a430ea5cf870fa70",
      "49f5803234074c5183ca2f256ad29a1d",
      "e566b0f2e6c14d1d929f66c746c2ebb0",
      "ea4b7165bd8146d4b6bc469600f6e750",
      "61a031d69baa4778b90456bc9bf35ab3",
      "d497a8480a324ba2a1683e019d3f6af0",
      "fef64ba52f4b43159f5f774849404a27",
      "515fd7fb39db40a0a6626a0d5ef2ff86",
      "9c4031ec79ba41c59a022cc3d8417cbb",
      "332da361d9c545e2925265ab3baaf8fc",
      "280865e6027546ba9ff80d70ea676b26"
     ]
    },
    "id": "4zV3Znb2w0fP",
    "outputId": "27903dae-7497-4ac2-dbc3-547e9d12a508"
   },
   "outputs": [
    {
     "name": "stdout",
     "output_type": "stream",
     "text": [
      "Transfer learning training data: 237\n",
      "Transfer learning testing data: 101\n"
     ]
    },
    {
     "name": "stderr",
     "output_type": "stream",
     "text": [
      "Using cache found in /Users/jameschapman/.cache/torch/hub/pytorch_vision_v0.10.0\n",
      "/Library/Frameworks/Python.framework/Versions/3.9/lib/python3.9/site-packages/torchvision/models/_utils.py:223: UserWarning: Arguments other than a weight enum or `None` for 'weights' are deprecated since 0.13 and will be removed in 0.15. The current behavior is equivalent to passing `weights=ShuffleNet_V2_X1_0_Weights.IMAGENET1K_V1`. You can also use `weights=ShuffleNet_V2_X1_0_Weights.DEFAULT` to get the most up-to-date weights.\n",
      "  warnings.warn(msg)\n"
     ]
    },
    {
     "name": "stdout",
     "output_type": "stream",
     "text": [
      "Constructing Graph Learning Objects\n",
      "Embedding Complete\n",
      "Time taken = 41.08378225000001\n",
      "Coreset Size = 19\t Percent of data = 0.39%\n",
      "Coreset =  [3330, 1342, 1297, 3536, 2634, 1085, 2125, 2003, 1473, 1370, 547, 4702, 3819, 3223, 885, 653, 1702, 1235, 10]\n",
      "uc local_max\n",
      "uc average accuracy: 90.51321928460342\n",
      "uc highest accuracy: 90.51321928460342\n",
      "uc lowest accuracy: 90.51321928460342\n",
      "[]\n",
      "Unusual behavior happens 0 times\n"
     ]
    }
   ],
   "source": [
    "bal.perform_al_experiment('fusar', acq_fun_list=['uc'], al_mtd='local_max', experiment_time=1)"
   ]
  },
  {
   "cell_type": "code",
   "execution_count": 10,
   "metadata": {
    "colab": {
     "base_uri": "https://localhost:8080/"
    },
    "id": "vnUqwjHWw7Tw",
    "outputId": "609383e6-a781-481f-9cb7-51e209886db7"
   },
   "outputs": [
    {
     "name": "stdout",
     "output_type": "stream",
     "text": [
      "Transfer learning training data: 237\n",
      "Transfer learning testing data: 101\n"
     ]
    },
    {
     "name": "stderr",
     "output_type": "stream",
     "text": [
      "Using cache found in /Users/jameschapman/.cache/torch/hub/pytorch_vision_v0.10.0\n"
     ]
    },
    {
     "name": "stdout",
     "output_type": "stream",
     "text": [
      "Constructing Graph Learning Objects\n",
      "Embedding Complete\n",
      "Time taken = 40.57342504200005\n",
      "Coreset Size = 20\t Percent of data = 0.41%\n",
      "Coreset =  [1368, 3766, 2763, 1762, 2556, 4579, 1690, 1670, 3582, 2151, 356, 4208, 1982, 4798, 2384, 30, 3686, 4100, 135, 1004]\n",
      "uc global_max\n",
      "uc average accuracy: 89.97923156801662\n",
      "uc highest accuracy: 89.97923156801662\n",
      "uc lowest accuracy: 89.97923156801662\n",
      "[]\n",
      "Unusual behavior happens 0 times\n"
     ]
    }
   ],
   "source": [
    "bal.perform_al_experiment('fusar', acq_fun_list=['uc'], al_mtd='global_max', experiment_time=1)"
   ]
  },
  {
   "cell_type": "markdown",
   "metadata": {
    "id": "QTdNazWgzAaI"
   },
   "source": [
    "Fusar Type II Transfer Learning"
   ]
  },
  {
   "cell_type": "code",
   "execution_count": 11,
   "metadata": {
    "colab": {
     "base_uri": "https://localhost:8080/",
     "height": 1000,
     "referenced_widgets": [
      "374ee38544a24cf49836b7171b779336",
      "dda7bfa943914f54b63b0da6525a5c98",
      "a83e39fb560248b2abd2f68504949b44",
      "332af3c72d9c4e50b850a1931e1a64ca",
      "599f0cbbadab438e90a29b1ecdd08ec2",
      "661fa4baaa6740c4a97a9bfb5c1c3ee5",
      "2359d84aa01b4a2ab941e95fb9cdfaa5",
      "3a9d6b7048764f4dbf8156f19540fb08",
      "d3199b465df9484099cded663097dec1",
      "2112dff9ba464e12b2bad7069c7c373f",
      "0453bdea287c49ca86155ebbdc09c011"
     ]
    },
    "id": "eo07raKrzCs4",
    "outputId": "0cac09d2-2fc7-405c-f0ff-91478da44882"
   },
   "outputs": [
    {
     "name": "stdout",
     "output_type": "stream",
     "text": [
      "Transfer learning training data: 237\n",
      "Transfer learning testing data: 101\n"
     ]
    },
    {
     "name": "stderr",
     "output_type": "stream",
     "text": [
      "Using cache found in /Users/jameschapman/.cache/torch/hub/pytorch_vision_v0.10.0\n",
      "/Library/Frameworks/Python.framework/Versions/3.9/lib/python3.9/site-packages/torchvision/models/_utils.py:223: UserWarning: Arguments other than a weight enum or `None` for 'weights' are deprecated since 0.13 and will be removed in 0.15. The current behavior is equivalent to passing `weights=ShuffleNet_V2_X0_5_Weights.IMAGENET1K_V1`. You can also use `weights=ShuffleNet_V2_X0_5_Weights.DEFAULT` to get the most up-to-date weights.\n",
      "  warnings.warn(msg)\n"
     ]
    },
    {
     "name": "stdout",
     "output_type": "stream",
     "text": [
      "Epoch 0/29\n",
      "----------\n",
      "train Loss: 1.5987 Acc: 0.2321\n",
      "val Loss: 1.5989 Acc: 0.2772\n",
      "\n",
      "Epoch 1/29\n",
      "----------\n",
      "train Loss: 1.5962 Acc: 0.2954\n",
      "val Loss: 1.5949 Acc: 0.3564\n",
      "\n",
      "Epoch 2/29\n",
      "----------\n",
      "train Loss: 1.5922 Acc: 0.3882\n",
      "val Loss: 1.5893 Acc: 0.4455\n",
      "\n",
      "Epoch 3/29\n",
      "----------\n",
      "train Loss: 1.5872 Acc: 0.4346\n",
      "val Loss: 1.5844 Acc: 0.4356\n",
      "\n",
      "Epoch 4/29\n",
      "----------\n",
      "train Loss: 1.5822 Acc: 0.4262\n",
      "val Loss: 1.5765 Acc: 0.4455\n",
      "\n",
      "Epoch 5/29\n",
      "----------\n",
      "train Loss: 1.5764 Acc: 0.4262\n",
      "val Loss: 1.5695 Acc: 0.4455\n",
      "\n",
      "Epoch 6/29\n",
      "----------\n",
      "train Loss: 1.5697 Acc: 0.4219\n",
      "val Loss: 1.5637 Acc: 0.4455\n",
      "\n",
      "Epoch 7/29\n",
      "----------\n",
      "train Loss: 1.5665 Acc: 0.4304\n",
      "val Loss: 1.5633 Acc: 0.4455\n",
      "\n",
      "Epoch 8/29\n",
      "----------\n",
      "train Loss: 1.5655 Acc: 0.4304\n",
      "val Loss: 1.5615 Acc: 0.4356\n",
      "\n",
      "Epoch 9/29\n",
      "----------\n",
      "train Loss: 1.5649 Acc: 0.4346\n",
      "val Loss: 1.5618 Acc: 0.4455\n",
      "\n",
      "Epoch 10/29\n",
      "----------\n",
      "train Loss: 1.5631 Acc: 0.4346\n",
      "val Loss: 1.5584 Acc: 0.4455\n",
      "\n",
      "Epoch 11/29\n",
      "----------\n",
      "train Loss: 1.5641 Acc: 0.4262\n",
      "val Loss: 1.5593 Acc: 0.4455\n",
      "\n",
      "Epoch 12/29\n",
      "----------\n",
      "train Loss: 1.5626 Acc: 0.4304\n",
      "val Loss: 1.5597 Acc: 0.4455\n",
      "\n",
      "Epoch 13/29\n",
      "----------\n",
      "train Loss: 1.5624 Acc: 0.4304\n",
      "val Loss: 1.5593 Acc: 0.4455\n",
      "\n",
      "Epoch 14/29\n",
      "----------\n",
      "train Loss: 1.5618 Acc: 0.4304\n",
      "val Loss: 1.5599 Acc: 0.4455\n",
      "\n",
      "Epoch 15/29\n",
      "----------\n",
      "train Loss: 1.5617 Acc: 0.4304\n",
      "val Loss: 1.5607 Acc: 0.4455\n",
      "\n",
      "Epoch 16/29\n",
      "----------\n",
      "train Loss: 1.5616 Acc: 0.4304\n",
      "val Loss: 1.5599 Acc: 0.4455\n",
      "\n",
      "Epoch 17/29\n",
      "----------\n",
      "train Loss: 1.5607 Acc: 0.4304\n",
      "val Loss: 1.5586 Acc: 0.4455\n",
      "\n",
      "Epoch 18/29\n",
      "----------\n",
      "train Loss: 1.5620 Acc: 0.4304\n",
      "val Loss: 1.5590 Acc: 0.4455\n",
      "\n",
      "Epoch 19/29\n",
      "----------\n",
      "train Loss: 1.5612 Acc: 0.4304\n",
      "val Loss: 1.5587 Acc: 0.4455\n",
      "\n",
      "Epoch 20/29\n",
      "----------\n",
      "train Loss: 1.5620 Acc: 0.4304\n",
      "val Loss: 1.5600 Acc: 0.4455\n",
      "\n",
      "Epoch 21/29\n",
      "----------\n",
      "train Loss: 1.5625 Acc: 0.4346\n",
      "val Loss: 1.5599 Acc: 0.4455\n",
      "\n",
      "Epoch 22/29\n",
      "----------\n",
      "train Loss: 1.5614 Acc: 0.4304\n",
      "val Loss: 1.5609 Acc: 0.4455\n",
      "\n",
      "Epoch 23/29\n",
      "----------\n",
      "train Loss: 1.5621 Acc: 0.4304\n",
      "val Loss: 1.5606 Acc: 0.4455\n",
      "\n",
      "Epoch 24/29\n",
      "----------\n",
      "train Loss: 1.5608 Acc: 0.4304\n",
      "val Loss: 1.5599 Acc: 0.4455\n",
      "\n",
      "Epoch 25/29\n",
      "----------\n",
      "train Loss: 1.5616 Acc: 0.4304\n",
      "val Loss: 1.5613 Acc: 0.4455\n",
      "\n",
      "Epoch 26/29\n",
      "----------\n",
      "train Loss: 1.5618 Acc: 0.4304\n",
      "val Loss: 1.5608 Acc: 0.4455\n",
      "\n",
      "Epoch 27/29\n",
      "----------\n",
      "train Loss: 1.5614 Acc: 0.4304\n",
      "val Loss: 1.5598 Acc: 0.4455\n",
      "\n",
      "Epoch 28/29\n",
      "----------\n",
      "train Loss: 1.5611 Acc: 0.4304\n",
      "val Loss: 1.5603 Acc: 0.4455\n",
      "\n",
      "Epoch 29/29\n",
      "----------\n",
      "train Loss: 1.5603 Acc: 0.4304\n",
      "val Loss: 1.5601 Acc: 0.4455\n",
      "\n",
      "Training complete in 16m 51s\n",
      "Best val Acc: 0.445545\n",
      "Constructing Graph Learning Objects\n",
      "Embedding Complete\n",
      "Time taken = 420.1554425420002\n",
      "Coreset Size = 18\t Percent of data = 0.37%\n",
      "Coreset =  [1048, 1520, 3650, 2854, 1603, 2589, 1248, 1792, 37, 2194, 1754, 1542, 2748, 340, 625, 332, 4362, 4386]\n",
      "uc local_max\n",
      "uc average accuracy: 86.77385892116183\n",
      "uc highest accuracy: 86.77385892116183\n",
      "uc lowest accuracy: 86.77385892116183\n",
      "[]\n",
      "Unusual behavior happens 0 times\n"
     ]
    }
   ],
   "source": [
    "bal.perform_al_experiment('fusar', embedding_mode='transfer_and_train', acq_fun_list=['uc'], al_mtd='local_max', experiment_time=1)"
   ]
  },
  {
   "cell_type": "code",
   "execution_count": 12,
   "metadata": {
    "colab": {
     "base_uri": "https://localhost:8080/"
    },
    "id": "A9lAvGYXzH90",
    "outputId": "60759968-bdef-4c44-f746-7583455fa541"
   },
   "outputs": [
    {
     "name": "stdout",
     "output_type": "stream",
     "text": [
      "Transfer learning training data: 237\n",
      "Transfer learning testing data: 101\n"
     ]
    },
    {
     "name": "stderr",
     "output_type": "stream",
     "text": [
      "Using cache found in /Users/jameschapman/.cache/torch/hub/pytorch_vision_v0.10.0\n"
     ]
    },
    {
     "name": "stdout",
     "output_type": "stream",
     "text": [
      "Epoch 0/29\n",
      "----------\n",
      "train Loss: 1.6144 Acc: 0.1097\n",
      "val Loss: 1.6155 Acc: 0.0792\n",
      "\n",
      "Epoch 1/29\n",
      "----------\n",
      "train Loss: 1.6100 Acc: 0.1688\n",
      "val Loss: 1.6141 Acc: 0.1188\n",
      "\n",
      "Epoch 2/29\n",
      "----------\n",
      "train Loss: 1.6052 Acc: 0.3586\n",
      "val Loss: 1.6100 Acc: 0.1386\n",
      "\n",
      "Epoch 3/29\n",
      "----------\n",
      "train Loss: 1.5997 Acc: 0.4177\n",
      "val Loss: 1.6042 Acc: 0.3168\n",
      "\n",
      "Epoch 4/29\n",
      "----------\n",
      "train Loss: 1.5941 Acc: 0.4599\n",
      "val Loss: 1.5971 Acc: 0.3762\n",
      "\n",
      "Epoch 5/29\n",
      "----------\n",
      "train Loss: 1.5855 Acc: 0.4599\n",
      "val Loss: 1.5915 Acc: 0.3762\n",
      "\n",
      "Epoch 6/29\n",
      "----------\n",
      "train Loss: 1.5804 Acc: 0.4599\n",
      "val Loss: 1.5851 Acc: 0.3762\n",
      "\n",
      "Epoch 7/29\n",
      "----------\n",
      "train Loss: 1.5736 Acc: 0.4599\n",
      "val Loss: 1.5850 Acc: 0.3762\n",
      "\n",
      "Epoch 8/29\n",
      "----------\n",
      "train Loss: 1.5728 Acc: 0.4599\n",
      "val Loss: 1.5864 Acc: 0.3762\n",
      "\n",
      "Epoch 9/29\n",
      "----------\n",
      "train Loss: 1.5728 Acc: 0.4599\n",
      "val Loss: 1.5832 Acc: 0.3762\n",
      "\n",
      "Epoch 10/29\n",
      "----------\n",
      "train Loss: 1.5720 Acc: 0.4599\n",
      "val Loss: 1.5822 Acc: 0.3762\n",
      "\n",
      "Epoch 11/29\n",
      "----------\n",
      "train Loss: 1.5703 Acc: 0.4599\n",
      "val Loss: 1.5821 Acc: 0.3762\n",
      "\n",
      "Epoch 12/29\n",
      "----------\n",
      "train Loss: 1.5699 Acc: 0.4599\n",
      "val Loss: 1.5805 Acc: 0.3762\n",
      "\n",
      "Epoch 13/29\n",
      "----------\n",
      "train Loss: 1.5699 Acc: 0.4599\n",
      "val Loss: 1.5781 Acc: 0.3762\n",
      "\n",
      "Epoch 14/29\n",
      "----------\n",
      "train Loss: 1.5690 Acc: 0.4599\n",
      "val Loss: 1.5800 Acc: 0.3762\n",
      "\n",
      "Epoch 15/29\n",
      "----------\n",
      "train Loss: 1.5705 Acc: 0.4599\n",
      "val Loss: 1.5792 Acc: 0.3762\n",
      "\n",
      "Epoch 16/29\n",
      "----------\n",
      "train Loss: 1.5692 Acc: 0.4599\n",
      "val Loss: 1.5795 Acc: 0.3762\n",
      "\n",
      "Epoch 17/29\n",
      "----------\n",
      "train Loss: 1.5677 Acc: 0.4599\n",
      "val Loss: 1.5784 Acc: 0.3762\n",
      "\n",
      "Epoch 18/29\n",
      "----------\n",
      "train Loss: 1.5695 Acc: 0.4599\n",
      "val Loss: 1.5819 Acc: 0.3762\n",
      "\n",
      "Epoch 19/29\n",
      "----------\n",
      "train Loss: 1.5696 Acc: 0.4599\n",
      "val Loss: 1.5795 Acc: 0.3762\n",
      "\n",
      "Epoch 20/29\n",
      "----------\n",
      "train Loss: 1.5700 Acc: 0.4599\n",
      "val Loss: 1.5806 Acc: 0.3762\n",
      "\n",
      "Epoch 21/29\n",
      "----------\n",
      "train Loss: 1.5688 Acc: 0.4599\n",
      "val Loss: 1.5777 Acc: 0.3762\n",
      "\n",
      "Epoch 22/29\n",
      "----------\n",
      "train Loss: 1.5695 Acc: 0.4599\n",
      "val Loss: 1.5777 Acc: 0.3762\n",
      "\n",
      "Epoch 23/29\n",
      "----------\n",
      "train Loss: 1.5689 Acc: 0.4599\n",
      "val Loss: 1.5811 Acc: 0.3762\n",
      "\n",
      "Epoch 24/29\n",
      "----------\n",
      "train Loss: 1.5688 Acc: 0.4599\n",
      "val Loss: 1.5784 Acc: 0.3762\n",
      "\n",
      "Epoch 25/29\n",
      "----------\n",
      "train Loss: 1.5686 Acc: 0.4599\n",
      "val Loss: 1.5783 Acc: 0.3762\n",
      "\n",
      "Epoch 26/29\n",
      "----------\n",
      "train Loss: 1.5686 Acc: 0.4599\n",
      "val Loss: 1.5807 Acc: 0.3762\n",
      "\n",
      "Epoch 27/29\n",
      "----------\n",
      "train Loss: 1.5698 Acc: 0.4599\n",
      "val Loss: 1.5792 Acc: 0.3762\n",
      "\n",
      "Epoch 28/29\n",
      "----------\n",
      "train Loss: 1.5693 Acc: 0.4599\n",
      "val Loss: 1.5772 Acc: 0.3762\n",
      "\n",
      "Epoch 29/29\n",
      "----------\n",
      "train Loss: 1.5695 Acc: 0.4599\n",
      "val Loss: 1.5783 Acc: 0.3762\n",
      "\n",
      "Training complete in 5m 23s\n",
      "Best val Acc: 0.376238\n",
      "Constructing Graph Learning Objects\n",
      "Embedding Complete\n",
      "Time taken = 392.2645850839999\n",
      "Coreset Size = 15\t Percent of data = 0.31%\n",
      "Coreset =  [4064, 3561, 2564, 3541, 1599, 4182, 1626, 4732, 1497, 2907, 1582, 2221, 4712, 4696, 4499]\n",
      "uc global_max\n",
      "uc average accuracy: 89.43552563438632\n",
      "uc highest accuracy: 89.43552563438632\n",
      "uc lowest accuracy: 89.43552563438632\n",
      "[]\n",
      "Unusual behavior happens 0 times\n"
     ]
    }
   ],
   "source": [
    "bal.perform_al_experiment('fusar', embedding_mode='transfer_and_train', acq_fun_list=['uc'], al_mtd='global_max', experiment_time=1)"
   ]
  },
  {
   "cell_type": "markdown",
   "metadata": {
    "id": "WXbjjEIGsgnL"
   },
   "source": [
    "# Perform Average Accuracy Experiments"
   ]
  },
  {
   "cell_type": "code",
   "execution_count": 13,
   "metadata": {
    "colab": {
     "base_uri": "https://localhost:8080/"
    },
    "id": "LQxRECyscgFL",
    "outputId": "e7a32821-2bd4-4be8-e2d2-dc4c3d97034d"
   },
   "outputs": [
    {
     "name": "stdout",
     "output_type": "stream",
     "text": [
      "Transfer learning training data: 111\n",
      "Transfer learning testing data: 48\n"
     ]
    },
    {
     "name": "stderr",
     "output_type": "stream",
     "text": [
      "Using cache found in /Users/jameschapman/.cache/torch/hub/pytorch_vision_v0.10.0\n"
     ]
    },
    {
     "ename": "KeyboardInterrupt",
     "evalue": "",
     "output_type": "error",
     "traceback": [
      "\u001b[0;31m---------------------------------------------------------------------------\u001b[0m",
      "\u001b[0;31mKeyboardInterrupt\u001b[0m                         Traceback (most recent call last)",
      "Cell \u001b[0;32mIn [13], line 1\u001b[0m\n\u001b[0;32m----> 1\u001b[0m \u001b[43mbal\u001b[49m\u001b[38;5;241;43m.\u001b[39;49m\u001b[43mperform_al_experiment\u001b[49m\u001b[43m(\u001b[49m\u001b[38;5;124;43m'\u001b[39;49m\u001b[38;5;124;43mopen_sar\u001b[39;49m\u001b[38;5;124;43m'\u001b[39;49m\u001b[43m,\u001b[49m\u001b[43m \u001b[49m\u001b[43mexperiment_time\u001b[49m\u001b[38;5;241;43m=\u001b[39;49m\u001b[38;5;241;43m10\u001b[39;49m\u001b[43m)\u001b[49m\n",
      "File \u001b[0;32m~/Documents/GitHub/SAR_BAL/batch_active_learning.py:1267\u001b[0m, in \u001b[0;36mperform_al_experiment\u001b[0;34m(dataset_chosen, embedding_mode, acq_fun_list, density_radius_param, knn_num, num_iter, method, display, use_prior, al_mtd, debug, acq_fun, knn_data, mtd_para, savefig, savefig_folder, batchsize, dist_metric, knn_size, q, thresholding, randseed, experiment_time)\u001b[0m\n\u001b[1;32m   1265\u001b[0m     \u001b[38;5;66;03m#Load labels\u001b[39;00m\n\u001b[1;32m   1266\u001b[0m     _, labels \u001b[38;5;241m=\u001b[39m utils\u001b[38;5;241m.\u001b[39mload_dataset(\u001b[38;5;124m'\u001b[39m\u001b[38;5;124mopen_sar_ship\u001b[39m\u001b[38;5;124m'\u001b[39m, return_torch \u001b[38;5;241m=\u001b[39m \u001b[38;5;28;01mFalse\u001b[39;00m, concatenate \u001b[38;5;241m=\u001b[39m \u001b[38;5;28;01mTrue\u001b[39;00m)\n\u001b[0;32m-> 1267\u001b[0m     knn_data \u001b[38;5;241m=\u001b[39m \u001b[43mgl\u001b[49m\u001b[38;5;241;43m.\u001b[39;49m\u001b[43mweightmatrix\u001b[49m\u001b[38;5;241;43m.\u001b[39;49m\u001b[43mknnsearch\u001b[49m\u001b[43m(\u001b[49m\u001b[43mX\u001b[49m\u001b[43m,\u001b[49m\u001b[43m \u001b[49m\u001b[43mknn_num\u001b[49m\u001b[43m,\u001b[49m\u001b[43m \u001b[49m\u001b[43mmethod\u001b[49m\u001b[38;5;241;43m=\u001b[39;49m\u001b[38;5;124;43m'\u001b[39;49m\u001b[38;5;124;43mannoy\u001b[39;49m\u001b[38;5;124;43m'\u001b[39;49m\u001b[43m,\u001b[49m\u001b[43m \u001b[49m\u001b[43msimilarity\u001b[49m\u001b[38;5;241;43m=\u001b[39;49m\u001b[38;5;124;43m'\u001b[39;49m\u001b[38;5;124;43mangular\u001b[39;49m\u001b[38;5;124;43m'\u001b[39;49m\u001b[43m)\u001b[49m\n\u001b[1;32m   1268\u001b[0m \u001b[38;5;28;01melif\u001b[39;00m dataset_chosen \u001b[38;5;241m==\u001b[39m \u001b[38;5;124m'\u001b[39m\u001b[38;5;124mfusar\u001b[39m\u001b[38;5;124m'\u001b[39m:\n\u001b[1;32m   1269\u001b[0m     \u001b[38;5;66;03m#Load encoded dataset\u001b[39;00m\n\u001b[1;32m   1270\u001b[0m     \u001b[38;5;28;01mif\u001b[39;00m embedding_mode \u001b[38;5;241m==\u001b[39m \u001b[38;5;124m'\u001b[39m\u001b[38;5;124mjust_transfer\u001b[39m\u001b[38;5;124m'\u001b[39m:\n",
      "File \u001b[0;32m/Library/Frameworks/Python.framework/Versions/3.9/lib/python3.9/site-packages/graphlearning/weightmatrix.py:289\u001b[0m, in \u001b[0;36mknnsearch\u001b[0;34m(X, k, method, similarity, dataset, metric)\u001b[0m\n\u001b[1;32m    287\u001b[0m knn_ind \u001b[38;5;241m=\u001b[39m []\n\u001b[1;32m    288\u001b[0m \u001b[38;5;28;01mfor\u001b[39;00m i \u001b[38;5;129;01min\u001b[39;00m \u001b[38;5;28mrange\u001b[39m(n):\n\u001b[0;32m--> 289\u001b[0m     A \u001b[38;5;241m=\u001b[39m \u001b[43mu\u001b[49m\u001b[38;5;241;43m.\u001b[39;49m\u001b[43mget_nns_by_item\u001b[49m\u001b[43m(\u001b[49m\u001b[43mi\u001b[49m\u001b[43m,\u001b[49m\u001b[43m \u001b[49m\u001b[43mk\u001b[49m\u001b[43m,\u001b[49m\u001b[43m \u001b[49m\u001b[43minclude_distances\u001b[49m\u001b[38;5;241;43m=\u001b[39;49m\u001b[38;5;28;43;01mTrue\u001b[39;49;00m\u001b[43m,\u001b[49m\u001b[43m \u001b[49m\u001b[43msearch_k\u001b[49m\u001b[38;5;241;43m=\u001b[39;49m\u001b[38;5;241;43m-\u001b[39;49m\u001b[38;5;241;43m1\u001b[39;49m\u001b[43m)\u001b[49m\n\u001b[1;32m    290\u001b[0m     knn_ind\u001b[38;5;241m.\u001b[39mappend(A[\u001b[38;5;241m0\u001b[39m])\n\u001b[1;32m    291\u001b[0m     knn_dist\u001b[38;5;241m.\u001b[39mappend(A[\u001b[38;5;241m1\u001b[39m])\n",
      "\u001b[0;31mKeyboardInterrupt\u001b[0m: "
     ]
    }
   ],
   "source": [
    "bal.perform_al_experiment('open_sar', experiment_time=10)"
   ]
  },
  {
   "cell_type": "code",
   "execution_count": null,
   "metadata": {
    "colab": {
     "base_uri": "https://localhost:8080/"
    },
    "id": "Fy14n6rZfPH8",
    "outputId": "3423070f-e090-4a51-c2f4-6b085a5a663a"
   },
   "outputs": [],
   "source": [
    "bal.perform_al_experiment('open_sar', 'transfer_and_train', experiment_time=10)"
   ]
  },
  {
   "cell_type": "code",
   "execution_count": null,
   "metadata": {
    "colab": {
     "base_uri": "https://localhost:8080/"
    },
    "id": "Aaz70iUYlxUZ",
    "outputId": "3537c81c-2172-45d7-c56b-33b871d6c512"
   },
   "outputs": [],
   "source": [
    "bal.perform_al_experiment('fusar', experiment_time=10)"
   ]
  },
  {
   "cell_type": "code",
   "execution_count": null,
   "metadata": {
    "colab": {
     "base_uri": "https://localhost:8080/"
    },
    "id": "pqrkGsXjqeRV",
    "outputId": "801dd5e1-89f6-454a-f6e5-f580a2a6e761"
   },
   "outputs": [],
   "source": [
    "bal.perform_al_experiment('fusar', 'transfer_and_train', experiment_time=10)"
   ]
  },
  {
   "cell_type": "markdown",
   "metadata": {
    "id": "CNkIFBOIYeBQ"
   },
   "source": [
    "# New Version Accuracy Test"
   ]
  },
  {
   "cell_type": "code",
   "execution_count": null,
   "metadata": {
    "colab": {
     "base_uri": "https://localhost:8080/"
    },
    "id": "GYiPGHT5Yhyu",
    "outputId": "61e116be-ab76-4706-e202-62c1b1500ddb"
   },
   "outputs": [],
   "source": [
    "bal.perform_al_experiment('open_sar', 'just_transfer', experiment_time=10)"
   ]
  },
  {
   "cell_type": "code",
   "execution_count": null,
   "metadata": {
    "colab": {
     "base_uri": "https://localhost:8080/"
    },
    "id": "tbJXWWCFYtas",
    "outputId": "90c4ce87-2382-4c21-db8d-a89b3c33ddb5"
   },
   "outputs": [],
   "source": [
    "bal.perform_al_experiment('open_sar', 'transfer_and_train', experiment_time=10)"
   ]
  },
  {
   "cell_type": "code",
   "execution_count": null,
   "metadata": {
    "colab": {
     "base_uri": "https://localhost:8080/",
     "height": 1000,
     "referenced_widgets": [
      "256c5dc4028a4643a0cbae4a77be1983",
      "6c4619e1abb748af9aa2d122440a1620",
      "05db4d281ac54989bb9afbe6cd5c1c54",
      "980737f6c7bf4f17913a9a80e3348023",
      "f04688b9ff874fdcb2b9a0c34defd99d",
      "2af0aa251b3b40fa81ce393575f5e216",
      "56e9e6a01df34d1caf1b874e1f4cbae5",
      "03496563d9854f98ae6600748e3edefb",
      "c872f7e480e24bb6910e090a8bccc5a7",
      "8d2436ab8b0e4047b2c48a1b833c350c",
      "8a87fb0a52b441acb071c7f6720ccca2"
     ]
    },
    "id": "ouW8Re1seRJ1",
    "outputId": "f68bc222-3f4c-4467-d388-294592081f2b"
   },
   "outputs": [],
   "source": [
    "bal.perform_al_experiment('fusar', 'just_transfer', experiment_time=10)"
   ]
  },
  {
   "cell_type": "code",
   "execution_count": null,
   "metadata": {
    "colab": {
     "base_uri": "https://localhost:8080/"
    },
    "id": "fOQl3VZ7eXxU",
    "outputId": "cb913224-2f3c-48ef-8936-c6b6e21d657d"
   },
   "outputs": [],
   "source": [
    "bal.perform_al_experiment('fusar', 'train_and_transfer', experiment_time=10)"
   ]
  },
  {
   "cell_type": "markdown",
   "metadata": {
    "id": "j2A0bl8mCPwL"
   },
   "source": [
    "Test for variance of fusar type II transfer learning"
   ]
  },
  {
   "cell_type": "code",
   "execution_count": null,
   "metadata": {
    "colab": {
     "base_uri": "https://localhost:8080/"
    },
    "id": "it53_NZtGdOv",
    "outputId": "c314e4c5-3e2f-49bd-c7db-b77650cb903f"
   },
   "outputs": [],
   "source": [
    "bal.perform_al_experiment('fusar', 'train_and_transfer', acq_fun_list=['uc'], experiment_time=10)"
   ]
  },
  {
   "cell_type": "code",
   "execution_count": null,
   "metadata": {
    "colab": {
     "base_uri": "https://localhost:8080/"
    },
    "id": "2s0gs-mCR3_e",
    "outputId": "181805c3-d0a0-4c37-ecd8-dec7a1fb15db"
   },
   "outputs": [],
   "source": [
    "bal.perform_al_experiment('fusar', 'train_and_transfer', acq_fun_list=['uc'], experiment_time=50)"
   ]
  },
  {
   "cell_type": "code",
   "execution_count": null,
   "metadata": {},
   "outputs": [],
   "source": []
  }
 ],
 "metadata": {
  "accelerator": "GPU",
  "colab": {
   "collapsed_sections": [],
   "machine_shape": "hm",
   "name": "Accuracy and Time Test Batch AL on SAR.ipynb",
   "provenance": []
  },
  "gpuClass": "standard",
  "kernelspec": {
   "display_name": "Python 3 (ipykernel)",
   "language": "python",
   "name": "python3"
  },
  "language_info": {
   "codemirror_mode": {
    "name": "ipython",
    "version": 3
   },
   "file_extension": ".py",
   "mimetype": "text/x-python",
   "name": "python",
   "nbconvert_exporter": "python",
   "pygments_lexer": "ipython3",
   "version": "3.9.5"
  },
  "widgets": {
   "application/vnd.jupyter.widget-state+json": {
    "03496563d9854f98ae6600748e3edefb": {
     "model_module": "@jupyter-widgets/base",
     "model_module_version": "1.2.0",
     "model_name": "LayoutModel",
     "state": {
      "_model_module": "@jupyter-widgets/base",
      "_model_module_version": "1.2.0",
      "_model_name": "LayoutModel",
      "_view_count": null,
      "_view_module": "@jupyter-widgets/base",
      "_view_module_version": "1.2.0",
      "_view_name": "LayoutView",
      "align_content": null,
      "align_items": null,
      "align_self": null,
      "border": null,
      "bottom": null,
      "display": null,
      "flex": null,
      "flex_flow": null,
      "grid_area": null,
      "grid_auto_columns": null,
      "grid_auto_flow": null,
      "grid_auto_rows": null,
      "grid_column": null,
      "grid_gap": null,
      "grid_row": null,
      "grid_template_areas": null,
      "grid_template_columns": null,
      "grid_template_rows": null,
      "height": null,
      "justify_content": null,
      "justify_items": null,
      "left": null,
      "margin": null,
      "max_height": null,
      "max_width": null,
      "min_height": null,
      "min_width": null,
      "object_fit": null,
      "object_position": null,
      "order": null,
      "overflow": null,
      "overflow_x": null,
      "overflow_y": null,
      "padding": null,
      "right": null,
      "top": null,
      "visibility": null,
      "width": null
     }
    },
    "0453bdea287c49ca86155ebbdc09c011": {
     "model_module": "@jupyter-widgets/controls",
     "model_module_version": "1.5.0",
     "model_name": "DescriptionStyleModel",
     "state": {
      "_model_module": "@jupyter-widgets/controls",
      "_model_module_version": "1.5.0",
      "_model_name": "DescriptionStyleModel",
      "_view_count": null,
      "_view_module": "@jupyter-widgets/base",
      "_view_module_version": "1.2.0",
      "_view_name": "StyleView",
      "description_width": ""
     }
    },
    "05db4d281ac54989bb9afbe6cd5c1c54": {
     "model_module": "@jupyter-widgets/controls",
     "model_module_version": "1.5.0",
     "model_name": "FloatProgressModel",
     "state": {
      "_dom_classes": [],
      "_model_module": "@jupyter-widgets/controls",
      "_model_module_version": "1.5.0",
      "_model_name": "FloatProgressModel",
      "_view_count": null,
      "_view_module": "@jupyter-widgets/controls",
      "_view_module_version": "1.5.0",
      "_view_name": "ProgressView",
      "bar_style": "success",
      "description": "",
      "description_tooltip": null,
      "layout": "IPY_MODEL_03496563d9854f98ae6600748e3edefb",
      "max": 9218294,
      "min": 0,
      "orientation": "horizontal",
      "style": "IPY_MODEL_c872f7e480e24bb6910e090a8bccc5a7",
      "value": 9218294
     }
    },
    "2112dff9ba464e12b2bad7069c7c373f": {
     "model_module": "@jupyter-widgets/base",
     "model_module_version": "1.2.0",
     "model_name": "LayoutModel",
     "state": {
      "_model_module": "@jupyter-widgets/base",
      "_model_module_version": "1.2.0",
      "_model_name": "LayoutModel",
      "_view_count": null,
      "_view_module": "@jupyter-widgets/base",
      "_view_module_version": "1.2.0",
      "_view_name": "LayoutView",
      "align_content": null,
      "align_items": null,
      "align_self": null,
      "border": null,
      "bottom": null,
      "display": null,
      "flex": null,
      "flex_flow": null,
      "grid_area": null,
      "grid_auto_columns": null,
      "grid_auto_flow": null,
      "grid_auto_rows": null,
      "grid_column": null,
      "grid_gap": null,
      "grid_row": null,
      "grid_template_areas": null,
      "grid_template_columns": null,
      "grid_template_rows": null,
      "height": null,
      "justify_content": null,
      "justify_items": null,
      "left": null,
      "margin": null,
      "max_height": null,
      "max_width": null,
      "min_height": null,
      "min_width": null,
      "object_fit": null,
      "object_position": null,
      "order": null,
      "overflow": null,
      "overflow_x": null,
      "overflow_y": null,
      "padding": null,
      "right": null,
      "top": null,
      "visibility": null,
      "width": null
     }
    },
    "2359d84aa01b4a2ab941e95fb9cdfaa5": {
     "model_module": "@jupyter-widgets/controls",
     "model_module_version": "1.5.0",
     "model_name": "DescriptionStyleModel",
     "state": {
      "_model_module": "@jupyter-widgets/controls",
      "_model_module_version": "1.5.0",
      "_model_name": "DescriptionStyleModel",
      "_view_count": null,
      "_view_module": "@jupyter-widgets/base",
      "_view_module_version": "1.2.0",
      "_view_name": "StyleView",
      "description_width": ""
     }
    },
    "256c5dc4028a4643a0cbae4a77be1983": {
     "model_module": "@jupyter-widgets/controls",
     "model_module_version": "1.5.0",
     "model_name": "HBoxModel",
     "state": {
      "_dom_classes": [],
      "_model_module": "@jupyter-widgets/controls",
      "_model_module_version": "1.5.0",
      "_model_name": "HBoxModel",
      "_view_count": null,
      "_view_module": "@jupyter-widgets/controls",
      "_view_module_version": "1.5.0",
      "_view_name": "HBoxView",
      "box_style": "",
      "children": [
       "IPY_MODEL_6c4619e1abb748af9aa2d122440a1620",
       "IPY_MODEL_05db4d281ac54989bb9afbe6cd5c1c54",
       "IPY_MODEL_980737f6c7bf4f17913a9a80e3348023"
      ],
      "layout": "IPY_MODEL_f04688b9ff874fdcb2b9a0c34defd99d"
     }
    },
    "280865e6027546ba9ff80d70ea676b26": {
     "model_module": "@jupyter-widgets/controls",
     "model_module_version": "1.5.0",
     "model_name": "DescriptionStyleModel",
     "state": {
      "_model_module": "@jupyter-widgets/controls",
      "_model_module_version": "1.5.0",
      "_model_name": "DescriptionStyleModel",
      "_view_count": null,
      "_view_module": "@jupyter-widgets/base",
      "_view_module_version": "1.2.0",
      "_view_name": "StyleView",
      "description_width": ""
     }
    },
    "2af0aa251b3b40fa81ce393575f5e216": {
     "model_module": "@jupyter-widgets/base",
     "model_module_version": "1.2.0",
     "model_name": "LayoutModel",
     "state": {
      "_model_module": "@jupyter-widgets/base",
      "_model_module_version": "1.2.0",
      "_model_name": "LayoutModel",
      "_view_count": null,
      "_view_module": "@jupyter-widgets/base",
      "_view_module_version": "1.2.0",
      "_view_name": "LayoutView",
      "align_content": null,
      "align_items": null,
      "align_self": null,
      "border": null,
      "bottom": null,
      "display": null,
      "flex": null,
      "flex_flow": null,
      "grid_area": null,
      "grid_auto_columns": null,
      "grid_auto_flow": null,
      "grid_auto_rows": null,
      "grid_column": null,
      "grid_gap": null,
      "grid_row": null,
      "grid_template_areas": null,
      "grid_template_columns": null,
      "grid_template_rows": null,
      "height": null,
      "justify_content": null,
      "justify_items": null,
      "left": null,
      "margin": null,
      "max_height": null,
      "max_width": null,
      "min_height": null,
      "min_width": null,
      "object_fit": null,
      "object_position": null,
      "order": null,
      "overflow": null,
      "overflow_x": null,
      "overflow_y": null,
      "padding": null,
      "right": null,
      "top": null,
      "visibility": null,
      "width": null
     }
    },
    "332af3c72d9c4e50b850a1931e1a64ca": {
     "model_module": "@jupyter-widgets/controls",
     "model_module_version": "1.5.0",
     "model_name": "HTMLModel",
     "state": {
      "_dom_classes": [],
      "_model_module": "@jupyter-widgets/controls",
      "_model_module_version": "1.5.0",
      "_model_name": "HTMLModel",
      "_view_count": null,
      "_view_module": "@jupyter-widgets/controls",
      "_view_module_version": "1.5.0",
      "_view_name": "HTMLView",
      "description": "",
      "description_tooltip": null,
      "layout": "IPY_MODEL_2112dff9ba464e12b2bad7069c7c373f",
      "placeholder": "​",
      "style": "IPY_MODEL_0453bdea287c49ca86155ebbdc09c011",
      "value": " 5.28M/5.28M [00:00&lt;00:00, 19.2MB/s]"
     }
    },
    "332da361d9c545e2925265ab3baaf8fc": {
     "model_module": "@jupyter-widgets/base",
     "model_module_version": "1.2.0",
     "model_name": "LayoutModel",
     "state": {
      "_model_module": "@jupyter-widgets/base",
      "_model_module_version": "1.2.0",
      "_model_name": "LayoutModel",
      "_view_count": null,
      "_view_module": "@jupyter-widgets/base",
      "_view_module_version": "1.2.0",
      "_view_name": "LayoutView",
      "align_content": null,
      "align_items": null,
      "align_self": null,
      "border": null,
      "bottom": null,
      "display": null,
      "flex": null,
      "flex_flow": null,
      "grid_area": null,
      "grid_auto_columns": null,
      "grid_auto_flow": null,
      "grid_auto_rows": null,
      "grid_column": null,
      "grid_gap": null,
      "grid_row": null,
      "grid_template_areas": null,
      "grid_template_columns": null,
      "grid_template_rows": null,
      "height": null,
      "justify_content": null,
      "justify_items": null,
      "left": null,
      "margin": null,
      "max_height": null,
      "max_width": null,
      "min_height": null,
      "min_width": null,
      "object_fit": null,
      "object_position": null,
      "order": null,
      "overflow": null,
      "overflow_x": null,
      "overflow_y": null,
      "padding": null,
      "right": null,
      "top": null,
      "visibility": null,
      "width": null
     }
    },
    "374ee38544a24cf49836b7171b779336": {
     "model_module": "@jupyter-widgets/controls",
     "model_module_version": "1.5.0",
     "model_name": "HBoxModel",
     "state": {
      "_dom_classes": [],
      "_model_module": "@jupyter-widgets/controls",
      "_model_module_version": "1.5.0",
      "_model_name": "HBoxModel",
      "_view_count": null,
      "_view_module": "@jupyter-widgets/controls",
      "_view_module_version": "1.5.0",
      "_view_name": "HBoxView",
      "box_style": "",
      "children": [
       "IPY_MODEL_dda7bfa943914f54b63b0da6525a5c98",
       "IPY_MODEL_a83e39fb560248b2abd2f68504949b44",
       "IPY_MODEL_332af3c72d9c4e50b850a1931e1a64ca"
      ],
      "layout": "IPY_MODEL_599f0cbbadab438e90a29b1ecdd08ec2"
     }
    },
    "3a9d6b7048764f4dbf8156f19540fb08": {
     "model_module": "@jupyter-widgets/base",
     "model_module_version": "1.2.0",
     "model_name": "LayoutModel",
     "state": {
      "_model_module": "@jupyter-widgets/base",
      "_model_module_version": "1.2.0",
      "_model_name": "LayoutModel",
      "_view_count": null,
      "_view_module": "@jupyter-widgets/base",
      "_view_module_version": "1.2.0",
      "_view_name": "LayoutView",
      "align_content": null,
      "align_items": null,
      "align_self": null,
      "border": null,
      "bottom": null,
      "display": null,
      "flex": null,
      "flex_flow": null,
      "grid_area": null,
      "grid_auto_columns": null,
      "grid_auto_flow": null,
      "grid_auto_rows": null,
      "grid_column": null,
      "grid_gap": null,
      "grid_row": null,
      "grid_template_areas": null,
      "grid_template_columns": null,
      "grid_template_rows": null,
      "height": null,
      "justify_content": null,
      "justify_items": null,
      "left": null,
      "margin": null,
      "max_height": null,
      "max_width": null,
      "min_height": null,
      "min_width": null,
      "object_fit": null,
      "object_position": null,
      "order": null,
      "overflow": null,
      "overflow_x": null,
      "overflow_y": null,
      "padding": null,
      "right": null,
      "top": null,
      "visibility": null,
      "width": null
     }
    },
    "49f5803234074c5183ca2f256ad29a1d": {
     "model_module": "@jupyter-widgets/controls",
     "model_module_version": "1.5.0",
     "model_name": "HTMLModel",
     "state": {
      "_dom_classes": [],
      "_model_module": "@jupyter-widgets/controls",
      "_model_module_version": "1.5.0",
      "_model_name": "HTMLModel",
      "_view_count": null,
      "_view_module": "@jupyter-widgets/controls",
      "_view_module_version": "1.5.0",
      "_view_name": "HTMLView",
      "description": "",
      "description_tooltip": null,
      "layout": "IPY_MODEL_d497a8480a324ba2a1683e019d3f6af0",
      "placeholder": "​",
      "style": "IPY_MODEL_fef64ba52f4b43159f5f774849404a27",
      "value": "100%"
     }
    },
    "515fd7fb39db40a0a6626a0d5ef2ff86": {
     "model_module": "@jupyter-widgets/base",
     "model_module_version": "1.2.0",
     "model_name": "LayoutModel",
     "state": {
      "_model_module": "@jupyter-widgets/base",
      "_model_module_version": "1.2.0",
      "_model_name": "LayoutModel",
      "_view_count": null,
      "_view_module": "@jupyter-widgets/base",
      "_view_module_version": "1.2.0",
      "_view_name": "LayoutView",
      "align_content": null,
      "align_items": null,
      "align_self": null,
      "border": null,
      "bottom": null,
      "display": null,
      "flex": null,
      "flex_flow": null,
      "grid_area": null,
      "grid_auto_columns": null,
      "grid_auto_flow": null,
      "grid_auto_rows": null,
      "grid_column": null,
      "grid_gap": null,
      "grid_row": null,
      "grid_template_areas": null,
      "grid_template_columns": null,
      "grid_template_rows": null,
      "height": null,
      "justify_content": null,
      "justify_items": null,
      "left": null,
      "margin": null,
      "max_height": null,
      "max_width": null,
      "min_height": null,
      "min_width": null,
      "object_fit": null,
      "object_position": null,
      "order": null,
      "overflow": null,
      "overflow_x": null,
      "overflow_y": null,
      "padding": null,
      "right": null,
      "top": null,
      "visibility": null,
      "width": null
     }
    },
    "56e9e6a01df34d1caf1b874e1f4cbae5": {
     "model_module": "@jupyter-widgets/controls",
     "model_module_version": "1.5.0",
     "model_name": "DescriptionStyleModel",
     "state": {
      "_model_module": "@jupyter-widgets/controls",
      "_model_module_version": "1.5.0",
      "_model_name": "DescriptionStyleModel",
      "_view_count": null,
      "_view_module": "@jupyter-widgets/base",
      "_view_module_version": "1.2.0",
      "_view_name": "StyleView",
      "description_width": ""
     }
    },
    "599f0cbbadab438e90a29b1ecdd08ec2": {
     "model_module": "@jupyter-widgets/base",
     "model_module_version": "1.2.0",
     "model_name": "LayoutModel",
     "state": {
      "_model_module": "@jupyter-widgets/base",
      "_model_module_version": "1.2.0",
      "_model_name": "LayoutModel",
      "_view_count": null,
      "_view_module": "@jupyter-widgets/base",
      "_view_module_version": "1.2.0",
      "_view_name": "LayoutView",
      "align_content": null,
      "align_items": null,
      "align_self": null,
      "border": null,
      "bottom": null,
      "display": null,
      "flex": null,
      "flex_flow": null,
      "grid_area": null,
      "grid_auto_columns": null,
      "grid_auto_flow": null,
      "grid_auto_rows": null,
      "grid_column": null,
      "grid_gap": null,
      "grid_row": null,
      "grid_template_areas": null,
      "grid_template_columns": null,
      "grid_template_rows": null,
      "height": null,
      "justify_content": null,
      "justify_items": null,
      "left": null,
      "margin": null,
      "max_height": null,
      "max_width": null,
      "min_height": null,
      "min_width": null,
      "object_fit": null,
      "object_position": null,
      "order": null,
      "overflow": null,
      "overflow_x": null,
      "overflow_y": null,
      "padding": null,
      "right": null,
      "top": null,
      "visibility": null,
      "width": null
     }
    },
    "61a031d69baa4778b90456bc9bf35ab3": {
     "model_module": "@jupyter-widgets/base",
     "model_module_version": "1.2.0",
     "model_name": "LayoutModel",
     "state": {
      "_model_module": "@jupyter-widgets/base",
      "_model_module_version": "1.2.0",
      "_model_name": "LayoutModel",
      "_view_count": null,
      "_view_module": "@jupyter-widgets/base",
      "_view_module_version": "1.2.0",
      "_view_name": "LayoutView",
      "align_content": null,
      "align_items": null,
      "align_self": null,
      "border": null,
      "bottom": null,
      "display": null,
      "flex": null,
      "flex_flow": null,
      "grid_area": null,
      "grid_auto_columns": null,
      "grid_auto_flow": null,
      "grid_auto_rows": null,
      "grid_column": null,
      "grid_gap": null,
      "grid_row": null,
      "grid_template_areas": null,
      "grid_template_columns": null,
      "grid_template_rows": null,
      "height": null,
      "justify_content": null,
      "justify_items": null,
      "left": null,
      "margin": null,
      "max_height": null,
      "max_width": null,
      "min_height": null,
      "min_width": null,
      "object_fit": null,
      "object_position": null,
      "order": null,
      "overflow": null,
      "overflow_x": null,
      "overflow_y": null,
      "padding": null,
      "right": null,
      "top": null,
      "visibility": null,
      "width": null
     }
    },
    "661fa4baaa6740c4a97a9bfb5c1c3ee5": {
     "model_module": "@jupyter-widgets/base",
     "model_module_version": "1.2.0",
     "model_name": "LayoutModel",
     "state": {
      "_model_module": "@jupyter-widgets/base",
      "_model_module_version": "1.2.0",
      "_model_name": "LayoutModel",
      "_view_count": null,
      "_view_module": "@jupyter-widgets/base",
      "_view_module_version": "1.2.0",
      "_view_name": "LayoutView",
      "align_content": null,
      "align_items": null,
      "align_self": null,
      "border": null,
      "bottom": null,
      "display": null,
      "flex": null,
      "flex_flow": null,
      "grid_area": null,
      "grid_auto_columns": null,
      "grid_auto_flow": null,
      "grid_auto_rows": null,
      "grid_column": null,
      "grid_gap": null,
      "grid_row": null,
      "grid_template_areas": null,
      "grid_template_columns": null,
      "grid_template_rows": null,
      "height": null,
      "justify_content": null,
      "justify_items": null,
      "left": null,
      "margin": null,
      "max_height": null,
      "max_width": null,
      "min_height": null,
      "min_width": null,
      "object_fit": null,
      "object_position": null,
      "order": null,
      "overflow": null,
      "overflow_x": null,
      "overflow_y": null,
      "padding": null,
      "right": null,
      "top": null,
      "visibility": null,
      "width": null
     }
    },
    "6c4619e1abb748af9aa2d122440a1620": {
     "model_module": "@jupyter-widgets/controls",
     "model_module_version": "1.5.0",
     "model_name": "HTMLModel",
     "state": {
      "_dom_classes": [],
      "_model_module": "@jupyter-widgets/controls",
      "_model_module_version": "1.5.0",
      "_model_name": "HTMLModel",
      "_view_count": null,
      "_view_module": "@jupyter-widgets/controls",
      "_view_module_version": "1.5.0",
      "_view_name": "HTMLView",
      "description": "",
      "description_tooltip": null,
      "layout": "IPY_MODEL_2af0aa251b3b40fa81ce393575f5e216",
      "placeholder": "​",
      "style": "IPY_MODEL_56e9e6a01df34d1caf1b874e1f4cbae5",
      "value": "100%"
     }
    },
    "8a87fb0a52b441acb071c7f6720ccca2": {
     "model_module": "@jupyter-widgets/controls",
     "model_module_version": "1.5.0",
     "model_name": "DescriptionStyleModel",
     "state": {
      "_model_module": "@jupyter-widgets/controls",
      "_model_module_version": "1.5.0",
      "_model_name": "DescriptionStyleModel",
      "_view_count": null,
      "_view_module": "@jupyter-widgets/base",
      "_view_module_version": "1.2.0",
      "_view_name": "StyleView",
      "description_width": ""
     }
    },
    "8d2436ab8b0e4047b2c48a1b833c350c": {
     "model_module": "@jupyter-widgets/base",
     "model_module_version": "1.2.0",
     "model_name": "LayoutModel",
     "state": {
      "_model_module": "@jupyter-widgets/base",
      "_model_module_version": "1.2.0",
      "_model_name": "LayoutModel",
      "_view_count": null,
      "_view_module": "@jupyter-widgets/base",
      "_view_module_version": "1.2.0",
      "_view_name": "LayoutView",
      "align_content": null,
      "align_items": null,
      "align_self": null,
      "border": null,
      "bottom": null,
      "display": null,
      "flex": null,
      "flex_flow": null,
      "grid_area": null,
      "grid_auto_columns": null,
      "grid_auto_flow": null,
      "grid_auto_rows": null,
      "grid_column": null,
      "grid_gap": null,
      "grid_row": null,
      "grid_template_areas": null,
      "grid_template_columns": null,
      "grid_template_rows": null,
      "height": null,
      "justify_content": null,
      "justify_items": null,
      "left": null,
      "margin": null,
      "max_height": null,
      "max_width": null,
      "min_height": null,
      "min_width": null,
      "object_fit": null,
      "object_position": null,
      "order": null,
      "overflow": null,
      "overflow_x": null,
      "overflow_y": null,
      "padding": null,
      "right": null,
      "top": null,
      "visibility": null,
      "width": null
     }
    },
    "980737f6c7bf4f17913a9a80e3348023": {
     "model_module": "@jupyter-widgets/controls",
     "model_module_version": "1.5.0",
     "model_name": "HTMLModel",
     "state": {
      "_dom_classes": [],
      "_model_module": "@jupyter-widgets/controls",
      "_model_module_version": "1.5.0",
      "_model_name": "HTMLModel",
      "_view_count": null,
      "_view_module": "@jupyter-widgets/controls",
      "_view_module_version": "1.5.0",
      "_view_name": "HTMLView",
      "description": "",
      "description_tooltip": null,
      "layout": "IPY_MODEL_8d2436ab8b0e4047b2c48a1b833c350c",
      "placeholder": "​",
      "style": "IPY_MODEL_8a87fb0a52b441acb071c7f6720ccca2",
      "value": " 8.79M/8.79M [00:00&lt;00:00, 24.8MB/s]"
     }
    },
    "9c4031ec79ba41c59a022cc3d8417cbb": {
     "model_module": "@jupyter-widgets/controls",
     "model_module_version": "1.5.0",
     "model_name": "ProgressStyleModel",
     "state": {
      "_model_module": "@jupyter-widgets/controls",
      "_model_module_version": "1.5.0",
      "_model_name": "ProgressStyleModel",
      "_view_count": null,
      "_view_module": "@jupyter-widgets/base",
      "_view_module_version": "1.2.0",
      "_view_name": "StyleView",
      "bar_color": null,
      "description_width": ""
     }
    },
    "a1bf824c41b54da2a430ea5cf870fa70": {
     "model_module": "@jupyter-widgets/controls",
     "model_module_version": "1.5.0",
     "model_name": "HBoxModel",
     "state": {
      "_dom_classes": [],
      "_model_module": "@jupyter-widgets/controls",
      "_model_module_version": "1.5.0",
      "_model_name": "HBoxModel",
      "_view_count": null,
      "_view_module": "@jupyter-widgets/controls",
      "_view_module_version": "1.5.0",
      "_view_name": "HBoxView",
      "box_style": "",
      "children": [
       "IPY_MODEL_49f5803234074c5183ca2f256ad29a1d",
       "IPY_MODEL_e566b0f2e6c14d1d929f66c746c2ebb0",
       "IPY_MODEL_ea4b7165bd8146d4b6bc469600f6e750"
      ],
      "layout": "IPY_MODEL_61a031d69baa4778b90456bc9bf35ab3"
     }
    },
    "a83e39fb560248b2abd2f68504949b44": {
     "model_module": "@jupyter-widgets/controls",
     "model_module_version": "1.5.0",
     "model_name": "FloatProgressModel",
     "state": {
      "_dom_classes": [],
      "_model_module": "@jupyter-widgets/controls",
      "_model_module_version": "1.5.0",
      "_model_name": "FloatProgressModel",
      "_view_count": null,
      "_view_module": "@jupyter-widgets/controls",
      "_view_module_version": "1.5.0",
      "_view_name": "ProgressView",
      "bar_style": "success",
      "description": "",
      "description_tooltip": null,
      "layout": "IPY_MODEL_3a9d6b7048764f4dbf8156f19540fb08",
      "max": 5538128,
      "min": 0,
      "orientation": "horizontal",
      "style": "IPY_MODEL_d3199b465df9484099cded663097dec1",
      "value": 5538128
     }
    },
    "c872f7e480e24bb6910e090a8bccc5a7": {
     "model_module": "@jupyter-widgets/controls",
     "model_module_version": "1.5.0",
     "model_name": "ProgressStyleModel",
     "state": {
      "_model_module": "@jupyter-widgets/controls",
      "_model_module_version": "1.5.0",
      "_model_name": "ProgressStyleModel",
      "_view_count": null,
      "_view_module": "@jupyter-widgets/base",
      "_view_module_version": "1.2.0",
      "_view_name": "StyleView",
      "bar_color": null,
      "description_width": ""
     }
    },
    "d3199b465df9484099cded663097dec1": {
     "model_module": "@jupyter-widgets/controls",
     "model_module_version": "1.5.0",
     "model_name": "ProgressStyleModel",
     "state": {
      "_model_module": "@jupyter-widgets/controls",
      "_model_module_version": "1.5.0",
      "_model_name": "ProgressStyleModel",
      "_view_count": null,
      "_view_module": "@jupyter-widgets/base",
      "_view_module_version": "1.2.0",
      "_view_name": "StyleView",
      "bar_color": null,
      "description_width": ""
     }
    },
    "d497a8480a324ba2a1683e019d3f6af0": {
     "model_module": "@jupyter-widgets/base",
     "model_module_version": "1.2.0",
     "model_name": "LayoutModel",
     "state": {
      "_model_module": "@jupyter-widgets/base",
      "_model_module_version": "1.2.0",
      "_model_name": "LayoutModel",
      "_view_count": null,
      "_view_module": "@jupyter-widgets/base",
      "_view_module_version": "1.2.0",
      "_view_name": "LayoutView",
      "align_content": null,
      "align_items": null,
      "align_self": null,
      "border": null,
      "bottom": null,
      "display": null,
      "flex": null,
      "flex_flow": null,
      "grid_area": null,
      "grid_auto_columns": null,
      "grid_auto_flow": null,
      "grid_auto_rows": null,
      "grid_column": null,
      "grid_gap": null,
      "grid_row": null,
      "grid_template_areas": null,
      "grid_template_columns": null,
      "grid_template_rows": null,
      "height": null,
      "justify_content": null,
      "justify_items": null,
      "left": null,
      "margin": null,
      "max_height": null,
      "max_width": null,
      "min_height": null,
      "min_width": null,
      "object_fit": null,
      "object_position": null,
      "order": null,
      "overflow": null,
      "overflow_x": null,
      "overflow_y": null,
      "padding": null,
      "right": null,
      "top": null,
      "visibility": null,
      "width": null
     }
    },
    "dda7bfa943914f54b63b0da6525a5c98": {
     "model_module": "@jupyter-widgets/controls",
     "model_module_version": "1.5.0",
     "model_name": "HTMLModel",
     "state": {
      "_dom_classes": [],
      "_model_module": "@jupyter-widgets/controls",
      "_model_module_version": "1.5.0",
      "_model_name": "HTMLModel",
      "_view_count": null,
      "_view_module": "@jupyter-widgets/controls",
      "_view_module_version": "1.5.0",
      "_view_name": "HTMLView",
      "description": "",
      "description_tooltip": null,
      "layout": "IPY_MODEL_661fa4baaa6740c4a97a9bfb5c1c3ee5",
      "placeholder": "​",
      "style": "IPY_MODEL_2359d84aa01b4a2ab941e95fb9cdfaa5",
      "value": "100%"
     }
    },
    "e566b0f2e6c14d1d929f66c746c2ebb0": {
     "model_module": "@jupyter-widgets/controls",
     "model_module_version": "1.5.0",
     "model_name": "FloatProgressModel",
     "state": {
      "_dom_classes": [],
      "_model_module": "@jupyter-widgets/controls",
      "_model_module_version": "1.5.0",
      "_model_name": "FloatProgressModel",
      "_view_count": null,
      "_view_module": "@jupyter-widgets/controls",
      "_view_module_version": "1.5.0",
      "_view_name": "ProgressView",
      "bar_style": "success",
      "description": "",
      "description_tooltip": null,
      "layout": "IPY_MODEL_515fd7fb39db40a0a6626a0d5ef2ff86",
      "max": 9218294,
      "min": 0,
      "orientation": "horizontal",
      "style": "IPY_MODEL_9c4031ec79ba41c59a022cc3d8417cbb",
      "value": 9218294
     }
    },
    "ea4b7165bd8146d4b6bc469600f6e750": {
     "model_module": "@jupyter-widgets/controls",
     "model_module_version": "1.5.0",
     "model_name": "HTMLModel",
     "state": {
      "_dom_classes": [],
      "_model_module": "@jupyter-widgets/controls",
      "_model_module_version": "1.5.0",
      "_model_name": "HTMLModel",
      "_view_count": null,
      "_view_module": "@jupyter-widgets/controls",
      "_view_module_version": "1.5.0",
      "_view_name": "HTMLView",
      "description": "",
      "description_tooltip": null,
      "layout": "IPY_MODEL_332da361d9c545e2925265ab3baaf8fc",
      "placeholder": "​",
      "style": "IPY_MODEL_280865e6027546ba9ff80d70ea676b26",
      "value": " 8.79M/8.79M [00:00&lt;00:00, 42.4MB/s]"
     }
    },
    "f04688b9ff874fdcb2b9a0c34defd99d": {
     "model_module": "@jupyter-widgets/base",
     "model_module_version": "1.2.0",
     "model_name": "LayoutModel",
     "state": {
      "_model_module": "@jupyter-widgets/base",
      "_model_module_version": "1.2.0",
      "_model_name": "LayoutModel",
      "_view_count": null,
      "_view_module": "@jupyter-widgets/base",
      "_view_module_version": "1.2.0",
      "_view_name": "LayoutView",
      "align_content": null,
      "align_items": null,
      "align_self": null,
      "border": null,
      "bottom": null,
      "display": null,
      "flex": null,
      "flex_flow": null,
      "grid_area": null,
      "grid_auto_columns": null,
      "grid_auto_flow": null,
      "grid_auto_rows": null,
      "grid_column": null,
      "grid_gap": null,
      "grid_row": null,
      "grid_template_areas": null,
      "grid_template_columns": null,
      "grid_template_rows": null,
      "height": null,
      "justify_content": null,
      "justify_items": null,
      "left": null,
      "margin": null,
      "max_height": null,
      "max_width": null,
      "min_height": null,
      "min_width": null,
      "object_fit": null,
      "object_position": null,
      "order": null,
      "overflow": null,
      "overflow_x": null,
      "overflow_y": null,
      "padding": null,
      "right": null,
      "top": null,
      "visibility": null,
      "width": null
     }
    },
    "fef64ba52f4b43159f5f774849404a27": {
     "model_module": "@jupyter-widgets/controls",
     "model_module_version": "1.5.0",
     "model_name": "DescriptionStyleModel",
     "state": {
      "_model_module": "@jupyter-widgets/controls",
      "_model_module_version": "1.5.0",
      "_model_name": "DescriptionStyleModel",
      "_view_count": null,
      "_view_module": "@jupyter-widgets/base",
      "_view_module_version": "1.2.0",
      "_view_name": "StyleView",
      "description_width": ""
     }
    }
   }
  }
 },
 "nbformat": 4,
 "nbformat_minor": 1
}
