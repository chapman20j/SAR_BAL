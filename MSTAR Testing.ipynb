{
 "cells": [
  {
   "cell_type": "markdown",
   "id": "f577bbed",
   "metadata": {},
   "source": [
    "# MSTAR Testing\n",
    "\n",
    "encode_pretrained returns data and labels\n",
    "encode_dataset returns just data\n",
    "\n",
    "\n",
    "This is taking a while. I am going through this step by step and fixing it. \n",
    "\n",
    "\n",
    "## Clean this up"
   ]
  },
  {
   "cell_type": "code",
   "execution_count": 1,
   "id": "2b77febf",
   "metadata": {},
   "outputs": [],
   "source": [
    "import graphlearning.active_learning as al\n",
    "import graphlearning as gl\n",
    "import numpy as np\n",
    "import sys\n",
    "import os\n",
    "import matplotlib.pyplot as plt\n",
    "import torchvision.models as torch_models\n",
    "import timeit\n",
    "import torch\n",
    "import random\n",
    "\n",
    "import utils\n",
    "import batch_active_learning as bal\n",
    "from importlib import reload"
   ]
  },
  {
   "cell_type": "code",
   "execution_count": 2,
   "id": "49c61b4c",
   "metadata": {},
   "outputs": [
    {
     "data": {
      "text/plain": [
       "<module 'utils' from '/Users/jameschapman/Documents/GitHub/SAR_BAL/utils.py'>"
      ]
     },
     "execution_count": 2,
     "metadata": {},
     "output_type": "execute_result"
    }
   ],
   "source": [
    "reload(bal)\n",
    "reload(utils)"
   ]
  },
  {
   "cell_type": "code",
   "execution_count": 3,
   "id": "a2581356",
   "metadata": {},
   "outputs": [],
   "source": [
    "#Pick one of 'mstar', 'open_sar', 'fusar'\n",
    "dataset_chosen = 'mstar'\n",
    "\n",
    "#This uses a CNNVAE to get embeddings\n",
    "# **I think this actually uses the fully trained and not a CNNVAE\n",
    "#Currently we always use the VAE for MSTAR since the knn_data is already stored for this\n",
    "\n",
    "use_fully_trained_features = True\n",
    "just_transfer              = False\n",
    "transfer_and_train         = False\n",
    "\n",
    "assert(use_fully_trained_features + just_transfer + transfer_and_train == 1)\n",
    "\n",
    "#If you specify this, then it will use a specific trained NN for embeddings\n",
    "#If none, it will pick the ones deemed optimal from prior testing\n",
    "#  I recommend using None\n",
    "transfer_encoding = None\n",
    "\n",
    "#Determines the number of points in the coreset\n",
    "#Larger values correspond to smaller coresets\n",
    "density_radius_param = .5\n",
    "\n",
    "knn_num = 17"
   ]
  },
  {
   "cell_type": "code",
   "execution_count": 4,
   "id": "0012688e",
   "metadata": {
    "scrolled": false
   },
   "outputs": [
    {
     "name": "stdout",
     "output_type": "stream",
     "text": [
      "237\n",
      "101\n",
      "Constructing knn_data\n",
      "Constructing Graph Learning Objects\n",
      "(6874, 7744)\n",
      "Complete\n",
      "Time taken = 14.215898917\n"
     ]
    }
   ],
   "source": [
    "start = timeit.default_timer()\n",
    "with torch.no_grad():\n",
    "  torch.cuda.empty_cache()\n",
    "\n",
    "if dataset_chosen == 'open_sar':\n",
    "  #Load labels\n",
    "  data, labels = utils.load_dataset('open_sar_ship', return_torch = False, concatenate = True)\n",
    "elif dataset_chosen == 'fusar':\n",
    "  #Load labels\n",
    "  data, labels = utils.load_dataset('fusar', return_torch = False, concatenate = True)\n",
    "elif dataset_chosen == 'mstar':\n",
    "  hdr, fields, mag, phase = utils.load_MSTAR('data/MSTAR/')\n",
    "  data = utils.polar_transform(mag, phase)\n",
    "  labels, target_names = utils.targets_to_labels(hdr)\n",
    "else:\n",
    "  assert False, \"Chosen dataset could not be loaded. Check for typos\"\n",
    "\n",
    "knn_data = None\n",
    "\n",
    "#Mimic that we know a percentage of data, and don't know for the rest\n",
    "#Do transfer learning merely using these\n",
    "percent_known_data = 0.05\n",
    "known_data_ind = gl.trainsets.generate(labels, rate=percent_known_data).tolist()\n",
    "known_data = data[known_data_ind]\n",
    "known_labels = labels[known_data_ind]\n",
    "\n",
    "# print(len(known_data))\n",
    "\n",
    "#Generate the initial set\n",
    "initial = gl.trainsets.generate(labels, rate=1).tolist()\n",
    "\n",
    "#Percent of known data to use as training data for transfer learning\n",
    "training_percent = 0.7\n",
    "transfer_train_ind = random.sample(range(len(known_data)), round(len(known_data)*training_percent))\n",
    "transfer_testing_ind = np.array([ind for ind in range(len(known_data)) if ind not in transfer_train_ind]).astype(int)\n",
    "\n",
    "#Convert to torch for use\n",
    "known_data = torch.from_numpy(known_data)\n",
    "known_labels = torch.from_numpy(known_labels)\n",
    "\n",
    "\n",
    "#print(len(transfer_testing_ind))\n",
    "training_data = known_data[transfer_train_ind]\n",
    "training_label = known_labels[transfer_train_ind]\n",
    "testing_data = known_data[transfer_testing_ind]\n",
    "testing_label = known_labels[transfer_testing_ind]\n",
    "\n",
    "print(len(training_data))\n",
    "print(len(testing_data))\n",
    "\n",
    "data_info=[training_data, training_label, testing_data, testing_label]\n",
    "for item in data_info:\n",
    "  item = item.float()\n",
    "\n",
    "        \n",
    "if dataset_chosen == 'open_sar':\n",
    "    #Load encoded dataset\n",
    "    if use_fully_trained_features:\n",
    "        X = utils.encode_dataset('open_sar_ship','./models/open_sar_ship_CNN.pt')\n",
    "    elif just_transfer:\n",
    "        X, labels = utils.encode_pretrained('open_sar_ship', 'AlexNet', transformed=True)\n",
    "    else:\n",
    "        X = utils.encode_transfer_learning('open_sar_ship', model_type='AlexNet', transfer_batch_size=64, epochs=30, data_info=data_info)\n",
    "    #Load labels\n",
    "    _, labels = utils.load_dataset('open_sar_ship', return_torch = False, concatenate = True)\n",
    "    knn_data = gl.weightmatrix.knnsearch(X, knn_num, method='annoy', similarity='angular')\n",
    "elif dataset_chosen == 'fusar':\n",
    "    #Load encoded dataset\n",
    "    if use_fully_trained_features:\n",
    "        X = utils.encode_dataset('fusar','./models/fusar_CNN.pt')\n",
    "    elif just_transfer:\n",
    "        X, labels = utils.encode_pretrained('fusar', 'ShuffleNet', normalized=True, transformed=True)\n",
    "    else:\n",
    "        X = utils.encode_transfer_learning('fusar', model_type='ShuffleNet', transfer_batch_size=64, epochs=30, data_info=data_info)\n",
    "    #Load labels\n",
    "    _, labels = utils.load_dataset('fusar', return_torch = False, concatenate = True)\n",
    "    knn_data = gl.weightmatrix.knnsearch(X, knn_num, method='annoy', similarity='angular')\n",
    "elif dataset_chosen == 'mstar':\n",
    "    knn_constructed = False\n",
    "    if use_fully_trained_features:\n",
    "        X = utils.encodeMSTAR('./models/SAR10_CNNVAE.pt', cuda=False)\n",
    "        knn_data = gl.weightmatrix.load_knn_data('sar10', metric='cnnvae') #('knn_data/sar10_cnnvae.npz')\n",
    "        knn_constructed = True\n",
    "    elif just_transfer:\n",
    "        X, labels = utils.encode_pretrained('mstar', 'ResNet', transformed=False)\n",
    "    else:\n",
    "        X = utils.encode_transfer_learning('mstar', model_type = None, transfer_batch_size=64, epochs=10, data_info=data_info)\n",
    "    # X = utils.encode_transfer_learning(path, data_info=data_info, transformed=False)\n",
    "    \n",
    "    ##TODO: DUMB TESTING. COMMENT This out\n",
    "    #X = X[:500]\n",
    "    #labels = labels[:500]\n",
    "    print(\"Constructing knn_data\")\n",
    "    if not knn_constructed:\n",
    "        knn_data = gl.weightmatrix.knnsearch(X, knn_num, method='annoy', similarity='angular')\n",
    "    \n",
    "    \n",
    "else:\n",
    "    assert False, \"Chosen dataset could not be loaded. Check for typos\"\n",
    "\n",
    "print(\"Constructing Graph Learning Objects\")\n",
    "W = gl.weightmatrix.knn(X, knn_num, kernel = 'gaussian', knn_data=knn_data)\n",
    "G = gl.graph(W)\n",
    "end = timeit.default_timer()\n",
    "\n",
    "print(X.shape)\n",
    "\n",
    "print(\"Complete\")\n",
    "print(f\"Time taken = {end - start}\")"
   ]
  },
  {
   "cell_type": "code",
   "execution_count": 5,
   "id": "941dca6c",
   "metadata": {},
   "outputs": [
    {
     "name": "stdout",
     "output_type": "stream",
     "text": [
      "Coreset Size = 16\t Percent of data = 0.23%\n",
      "Coreset =  [3361, 889, 6212, 4650, 4595, 3536, 4832, 3860, 471, 1454, 4652, 1953, 5809, 6870, 1218, 289]\n",
      "[0 1 2 3 4 5 6 7 8 9 3 8 7 3 1 8]\n"
     ]
    }
   ],
   "source": [
    "#Use the percent radius because it should be more robust across datasets\n",
    "coreset = bal.coreset_dijkstras(G, rad = .2, DEBUGGING=False, data = X, initial=initial, \n",
    "                                density_info = (True, density_radius_param, 1), knn_data=knn_data)\n",
    "print(\"Coreset Size = {}\\t Percent of data = {}%\".format(len(coreset), round(100 * len(coreset) / len(X), 2)))\n",
    "print(\"Coreset = \", coreset)\n",
    "print(labels[coreset])"
   ]
  },
  {
   "cell_type": "code",
   "execution_count": 6,
   "id": "8a9290f0",
   "metadata": {},
   "outputs": [
    {
     "name": "stdout",
     "output_type": "stream",
     "text": [
      "uc local_max\n"
     ]
    }
   ],
   "source": [
    "#acq_fun_list = ['uc', 'vopt', 'mc', 'mcvopt']\n",
    "##TODO: Use the above one for actual testing\n",
    "acq_fun_list = ['uc']\n",
    "max_new_samples = 700\n",
    "#max_new_samples = 3060\n",
    "# max_new_samples = 2000\n",
    "batchsize=15\n",
    "\n",
    "L_time = []\n",
    "L_num_labels = []\n",
    "L_acc = []\n",
    "L_names = []\n",
    "for acq_fun in acq_fun_list:\n",
    "\n",
    "  num_iter = int(max_new_samples/batchsize)\n",
    "\n",
    "  al_mtd = 'local_max'\n",
    "  print(acq_fun, al_mtd)\n",
    "  start = timeit.default_timer() \n",
    "  _, list_num_labels, list_acc = bal.coreset_run_experiment(X, labels, W, coreset, num_iter=num_iter, method='Laplace',\n",
    "                           display=False, use_prior=False, al_mtd=al_mtd, debug=False,\n",
    "                           acq_fun=acq_fun, knn_data=knn_data, mtd_para=None,\n",
    "                           savefig=False, savefig_folder='../BAL_figures', batchsize=batchsize,\n",
    "                           dist_metric='angular', q=1, thresholding=0, randseed=0)\n",
    "  stop = timeit.default_timer()\n",
    "  L_time.append(stop - start)\n",
    "  L_num_labels.append(list_num_labels)\n",
    "  L_acc.append(list_acc)\n",
    "  L_names.append(al_mtd)"
   ]
  },
  {
   "cell_type": "code",
   "execution_count": 7,
   "id": "3dc48bac",
   "metadata": {},
   "outputs": [
    {
     "data": {
      "image/png": "[encoded data removed]",
      "text/plain": [
       "<Figure size 640x480 with 1 Axes>"
      ]
     },
     "metadata": {},
     "output_type": "display_data"
    }
   ],
   "source": [
    "i=0\n",
    "fig = plt.figure()\n",
    "plt.plot(L_num_labels[i], L_acc[i])\n",
    "#plt.set_ylim([None, 100])\n",
    "plt.show()"
   ]
  },
  {
   "cell_type": "code",
   "execution_count": null,
   "id": "3d0a897e",
   "metadata": {},
   "outputs": [],
   "source": []
  }
 ],
 "metadata": {
  "kernelspec": {
   "display_name": "Python 3 (ipykernel)",
   "language": "python",
   "name": "python3"
  },
  "language_info": {
   "codemirror_mode": {
    "name": "ipython",
    "version": 3
   },
   "file_extension": ".py",
   "mimetype": "text/x-python",
   "name": "python",
   "nbconvert_exporter": "python",
   "pygments_lexer": "ipython3",
   "version": "3.9.5"
  }
 },
 "nbformat": 4,
 "nbformat_minor": 5
}
