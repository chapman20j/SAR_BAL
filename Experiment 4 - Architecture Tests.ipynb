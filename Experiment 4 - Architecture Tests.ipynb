{
 "cells": [
  {
   "attachments": {},
   "cell_type": "markdown",
   "id": "1c036319",
   "metadata": {},
   "source": [
    "# Experiment 4: Architecture Tests\n",
    "This notebook tests the impact of varrying the neural network architecture in the active learning process when using zero-shot transfer learning. \n",
    "\n",
    "Network Architectures:\n",
    "- ResNet\n",
    "- ShuffleNet\n",
    "- AlexNet\n",
    "- DenseNet\n",
    "- GoogLeNet\n",
    "- MobileNetV2\n",
    "- ResNeXt\n",
    "- Wide ResNet\n",
    "\n",
    "Datasets:\n",
    "- OpenSARShip\n",
    "- FUSAR-Ship"
   ]
  },
  {
   "cell_type": "code",
   "execution_count": 1,
   "id": "26dd455c",
   "metadata": {},
   "outputs": [],
   "source": [
    "import pandas as pd\n",
    "\n",
    "import utils\n",
    "from experiments import experiment_4, EXPERIMENT_4_SAVE_PATH"
   ]
  },
  {
   "cell_type": "markdown",
   "id": "ad4538d7",
   "metadata": {},
   "source": [
    "## Parameters and Function Definitions"
   ]
  },
  {
   "cell_type": "code",
   "execution_count": 2,
   "id": "2d8119f0",
   "metadata": {},
   "outputs": [],
   "source": [
    "#Non-Default Parameters\n",
    "\n",
    "HARDWARE_ACCELERATION = True\n"
   ]
  },
  {
   "cell_type": "markdown",
   "id": "3d356916",
   "metadata": {},
   "source": [
    "## Experiments"
   ]
  },
  {
   "cell_type": "code",
   "execution_count": 3,
   "id": "0c0bbbed",
   "metadata": {},
   "outputs": [
    {
     "name": "stdout",
     "output_type": "stream",
     "text": [
      "open_sar_ship_ResNet\n"
     ]
    },
    {
     "name": "stderr",
     "output_type": "stream",
     "text": [
      "Using cache found in /Users/jameschapman/.cache/torch/hub/pytorch_vision_v0.10.0\n",
      "/Library/Frameworks/Python.framework/Versions/3.9/lib/python3.9/site-packages/torchvision/models/_utils.py:208: UserWarning: The parameter 'pretrained' is deprecated since 0.13 and may be removed in the future, please use 'weights' instead.\n",
      "  warnings.warn(\n",
      "/Library/Frameworks/Python.framework/Versions/3.9/lib/python3.9/site-packages/torchvision/models/_utils.py:223: UserWarning: Arguments other than a weight enum or `None` for 'weights' are deprecated since 0.13 and may be removed in the future. The current behavior is equivalent to passing `weights=AlexNet_Weights.IMAGENET1K_V1`. You can also use `weights=AlexNet_Weights.DEFAULT` to get the most up-to-date weights.\n",
      "  warnings.warn(msg)\n"
     ]
    },
    {
     "ename": "KeyboardInterrupt",
     "evalue": "",
     "output_type": "error",
     "traceback": [
      "\u001b[0;31m---------------------------------------------------------------------------\u001b[0m",
      "\u001b[0;31mKeyboardInterrupt\u001b[0m                         Traceback (most recent call last)",
      "Cell \u001b[0;32mIn [3], line 6\u001b[0m\n\u001b[1;32m      4\u001b[0m \u001b[39mfor\u001b[39;00m network \u001b[39min\u001b[39;00m utils\u001b[39m.\u001b[39mPYTORCH_NEURAL_NETWORKS:\n\u001b[1;32m      5\u001b[0m     \u001b[39mprint\u001b[39m(dataset \u001b[39m+\u001b[39m \u001b[39m\"\u001b[39m\u001b[39m_\u001b[39m\u001b[39m\"\u001b[39m \u001b[39m+\u001b[39m network)\n\u001b[0;32m----> 6\u001b[0m     results_dict[dataset][network] \u001b[39m=\u001b[39m experiment_4(\n\u001b[1;32m      7\u001b[0m         dataset, network, hardware_acceleration\u001b[39m=\u001b[39;49mHARDWARE_ACCELERATION\n\u001b[1;32m      8\u001b[0m     )\n",
      "File \u001b[0;32m~/Documents/GitHub/SAR_BAL/experiments.py:314\u001b[0m, in \u001b[0;36mexperiment_4\u001b[0;34m(dataset, network, hardware_acceleration)\u001b[0m\n\u001b[1;32m    311\u001b[0m \u001b[39massert\u001b[39;00m network \u001b[39min\u001b[39;00m utils\u001b[39m.\u001b[39mPYTORCH_NEURAL_NETWORKS, \u001b[39m\"\u001b[39m\u001b[39mInvalid Neural Network\u001b[39m\u001b[39m\"\u001b[39m\n\u001b[1;32m    313\u001b[0m \u001b[39m# Zero-Shot TL\u001b[39;00m\n\u001b[0;32m--> 314\u001b[0m X, labels, knn_data, initial \u001b[39m=\u001b[39m utils\u001b[39m.\u001b[39;49mzero_shot_tl(\n\u001b[1;32m    315\u001b[0m     dataset, hardware_acceleration\u001b[39m=\u001b[39;49mhardware_acceleration\n\u001b[1;32m    316\u001b[0m )\n\u001b[1;32m    317\u001b[0m num_new_samples \u001b[39m=\u001b[39m bal\u001b[39m.\u001b[39mMAX_NEW_SAMPLES_DICT[dataset] \u001b[39m-\u001b[39m \u001b[39mlen\u001b[39m(initial)\n\u001b[1;32m    319\u001b[0m \u001b[39m# Create graph objects\u001b[39;00m\n",
      "File \u001b[0;32m~/Documents/GitHub/SAR_BAL/utils.py:178\u001b[0m, in \u001b[0;36mzero_shot_tl\u001b[0;34m(dataset, knn_num, hardware_acceleration)\u001b[0m\n\u001b[1;32m    175\u001b[0m \u001b[39mif\u001b[39;00m \u001b[39misinstance\u001b[39m(labels, torch\u001b[39m.\u001b[39mTensor):\n\u001b[1;32m    176\u001b[0m     labels \u001b[39m=\u001b[39m labels\u001b[39m.\u001b[39mnumpy()\n\u001b[0;32m--> 178\u001b[0m knn_data \u001b[39m=\u001b[39m gl\u001b[39m.\u001b[39;49mweightmatrix\u001b[39m.\u001b[39;49mknnsearch(\n\u001b[1;32m    179\u001b[0m     data, knn_num, method\u001b[39m=\u001b[39;49m\u001b[39m\"\u001b[39;49m\u001b[39mannoy\u001b[39;49m\u001b[39m\"\u001b[39;49m, similarity\u001b[39m=\u001b[39;49m\u001b[39m\"\u001b[39;49m\u001b[39mangular\u001b[39;49m\u001b[39m\"\u001b[39;49m\n\u001b[1;32m    180\u001b[0m )\n\u001b[1;32m    182\u001b[0m train_ind \u001b[39m=\u001b[39m gl\u001b[39m.\u001b[39mtrainsets\u001b[39m.\u001b[39mgenerate(labels, rate\u001b[39m=\u001b[39m\u001b[39m1\u001b[39m)\n\u001b[1;32m    184\u001b[0m \u001b[39mreturn\u001b[39;00m data, labels, knn_data, train_ind\n",
      "File \u001b[0;32m/Library/Frameworks/Python.framework/Versions/3.9/lib/python3.9/site-packages/graphlearning/weightmatrix.py:289\u001b[0m, in \u001b[0;36mknnsearch\u001b[0;34m(X, k, method, similarity, dataset, metric)\u001b[0m\n\u001b[1;32m    287\u001b[0m knn_ind \u001b[39m=\u001b[39m []\n\u001b[1;32m    288\u001b[0m \u001b[39mfor\u001b[39;00m i \u001b[39min\u001b[39;00m \u001b[39mrange\u001b[39m(n):\n\u001b[0;32m--> 289\u001b[0m     A \u001b[39m=\u001b[39m u\u001b[39m.\u001b[39;49mget_nns_by_item(i, k, include_distances\u001b[39m=\u001b[39;49m\u001b[39mTrue\u001b[39;49;00m, search_k\u001b[39m=\u001b[39;49m\u001b[39m-\u001b[39;49m\u001b[39m1\u001b[39;49m)\n\u001b[1;32m    290\u001b[0m     knn_ind\u001b[39m.\u001b[39mappend(A[\u001b[39m0\u001b[39m])\n\u001b[1;32m    291\u001b[0m     knn_dist\u001b[39m.\u001b[39mappend(A[\u001b[39m1\u001b[39m])\n",
      "\u001b[0;31mKeyboardInterrupt\u001b[0m: "
     ]
    }
   ],
   "source": [
    "results_dict = {'open_sar_ship': {}, 'fusar': {}}\n",
    "\n",
    "for dataset in utils.AVAILABLE_SAR_DATASETS[1:]:\n",
    "    for network in utils.PYTORCH_NEURAL_NETWORKS:\n",
    "        print(dataset + \"_\" + network)\n",
    "        results_dict[dataset][network] = experiment_4(\n",
    "            dataset, network, hardware_acceleration=HARDWARE_ACCELERATION\n",
    "        )\n"
   ]
  },
  {
   "cell_type": "code",
   "execution_count": null,
   "id": "7c1ff2a7",
   "metadata": {},
   "outputs": [
    {
     "name": "stdout",
     "output_type": "stream",
     "text": [
      "                  ResNet  ShuffleNet    AlexNet   DenseNet  GoogLeNet  \\\n",
      "open_sar_ship  69.208038   68.004398  80.881400  72.511848  74.486415   \n",
      "fusar          85.655738   86.374269  82.896305  88.940901  85.046729   \n",
      "\n",
      "               MobileNetV2    ResNeXt  Wide ResNet  \n",
      "open_sar_ship    72.225666  74.035517    72.229141  \n",
      "fusar            85.058824  88.266509    85.462036  \n"
     ]
    }
   ],
   "source": [
    "df = pd.DataFrame.from_dict(results_dict, orient='index')\n",
    "df.to_pickle(EXPERIMENT_4_SAVE_PATH + 'results_.pkl')\n",
    "\n",
    "print(df)"
   ]
  }
 ],
 "metadata": {
  "kernelspec": {
   "display_name": "Python 3",
   "language": "python",
   "name": "python3"
  },
  "language_info": {
   "codemirror_mode": {
    "name": "ipython",
    "version": 3
   },
   "file_extension": ".py",
   "mimetype": "text/x-python",
   "name": "python",
   "nbconvert_exporter": "python",
   "pygments_lexer": "ipython3",
   "version": "3.9.5"
  },
  "vscode": {
   "interpreter": {
    "hash": "aee8b7b246df8f9039afb4144a1f6fd8d2ca17a180786b69acc140d282b71a49"
   }
  }
 },
 "nbformat": 4,
 "nbformat_minor": 5
}
