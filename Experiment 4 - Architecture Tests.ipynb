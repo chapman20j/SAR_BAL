{
 "cells": [
  {
   "cell_type": "markdown",
   "id": "1c036319",
   "metadata": {},
   "source": [
    "# Experiment 4: Architecture Tests\n",
    "1. Look through errors\n",
    "2. This should be done up to the TODO comments\n",
    "3. This runs. It takes a long time on my computer (even with M1). \n",
    "4. Results are saved. Ran this 12/27/22 at like 1am. \n",
    "5. It might be inneficient because the batch size is really large. It shouldn't have taken hours to run this. \n",
    "6. Should we do this without data augmentation so we can isolate this source of noise? This is without data augmentation. "
   ]
  },
  {
   "cell_type": "code",
   "execution_count": 1,
   "id": "26dd455c",
   "metadata": {},
   "outputs": [],
   "source": [
    "import numpy as np\n",
    "import pandas as pd\n",
    "import matplotlib.pyplot as plt\n",
    "import torch as th\n",
    "\n",
    "import graphlearning as gl\n",
    "import graphlearning.active_learning as al\n",
    "\n",
    "import batch_active_learning as bal\n",
    "import utils"
   ]
  },
  {
   "cell_type": "markdown",
   "id": "ad4538d7",
   "metadata": {},
   "source": [
    "## Parameters and Function Definitions"
   ]
  },
  {
   "cell_type": "code",
   "execution_count": 2,
   "id": "2d8119f0",
   "metadata": {},
   "outputs": [],
   "source": [
    "#Non-Default Parameters\n",
    "\n",
    "num_experiments = 1\n",
    "\n",
    "save_path = \"Experiment Results/Experiment 4/\""
   ]
  },
  {
   "cell_type": "code",
   "execution_count": 3,
   "id": "7b68a611",
   "metadata": {},
   "outputs": [],
   "source": [
    "#Does this use data augmentation? I believe so\n",
    "#Zero-shot TL\n",
    "def experiment4(dataset, network, num_experiments):\n",
    "    assert dataset in utils.AVAILABLE_SAR_DATASETS, \"Invalid dataset\"\n",
    "    assert dataset != 'mstar', \"Invalid dataset: not testing MSTAR\"\n",
    "    assert network in utils.PYTORCH_NEURAL_NETWORKS, \"Invalid Neural Network\"\n",
    "    \n",
    "    #Zero-Shot TL\n",
    "    max_new_samples = utils.MAX_NEW_SAMPLES_DICT[dataset]\n",
    "    X, labels = utils.encode_pretrained(dataset, network, transformed=False)\n",
    "    knn_data = gl.weightmatrix.knnsearch(X, utils.KNN_NUM, method='annoy', similarity='angular')\n",
    "    \n",
    "    if type(X) == th.Tensor:\n",
    "        X = X.numpy()\n",
    "    if type(labels) == th.Tensor:\n",
    "        labels = labels.numpy()\n",
    "    \n",
    "    #Create graph objects\n",
    "    W = gl.weightmatrix.knn(X, utils.KNN_NUM, kernel = 'gaussian', knn_data=knn_data)\n",
    "    G = gl.graph(W)\n",
    "    \n",
    "    num_iter = max_new_samples // bal.BATCH_SIZE\n",
    "    acc_results = np.zeros(num_experiments)\n",
    "    \n",
    "    for i in range(num_experiments):\n",
    "        #Ensure each label is represented in core set\n",
    "        initial = gl.trainsets.generate(labels, rate=1).tolist()\n",
    "        \n",
    "        coreset = bal.coreset_dijkstras(G, rad = bal.DENSITY_RADIUS, data = X, initial=initial, \n",
    "                                    density_info = (True, bal.DENSITY_RADIUS, 1), knn_data=knn_data)\n",
    "            \n",
    "        #TODO: Need to get the parameters correct\n",
    "        _, num_labels, acc_vals, _ = bal.coreset_run_experiment(X, labels, W, coreset, num_iter=num_iter,\n",
    "                       method='Laplace', display=False, use_prior=False, al_mtd='local_max',\n",
    "                       acq_fun='uc', knn_data=knn_data, mtd_para=None, savefig=False, batchsize=bal.BATCH_SIZE,\n",
    "                       dist_metric='angular', knn_size=utils.KNN_NUM, q=1, thresholding=0, randseed=0)\n",
    "        \n",
    "        acc_results[i] = acc_vals[-1]\n",
    "    end_labels = num_labels[-1]\n",
    "    \n",
    "    return np.mean(acc_results)"
   ]
  },
  {
   "cell_type": "markdown",
   "id": "3d356916",
   "metadata": {},
   "source": [
    "## Experiments"
   ]
  },
  {
   "cell_type": "code",
   "execution_count": 4,
   "id": "0c0bbbed",
   "metadata": {},
   "outputs": [
    {
     "name": "stderr",
     "output_type": "stream",
     "text": [
      "Using cache found in /Users/jameschapman/.cache/torch/hub/pytorch_vision_v0.10.0\n",
      "/Library/Frameworks/Python.framework/Versions/3.9/lib/python3.9/site-packages/torchvision/models/_utils.py:208: UserWarning: The parameter 'pretrained' is deprecated since 0.13 and may be removed in the future, please use 'weights' instead.\n",
      "  warnings.warn(\n",
      "/Library/Frameworks/Python.framework/Versions/3.9/lib/python3.9/site-packages/torchvision/models/_utils.py:223: UserWarning: Arguments other than a weight enum or `None` for 'weights' are deprecated since 0.13 and may be removed in the future. The current behavior is equivalent to passing `weights=ResNet18_Weights.IMAGENET1K_V1`. You can also use `weights=ResNet18_Weights.DEFAULT` to get the most up-to-date weights.\n",
      "  warnings.warn(msg)\n",
      "Using cache found in /Users/jameschapman/.cache/torch/hub/pytorch_vision_v0.10.0\n",
      "/Library/Frameworks/Python.framework/Versions/3.9/lib/python3.9/site-packages/torchvision/models/_utils.py:223: UserWarning: Arguments other than a weight enum or `None` for 'weights' are deprecated since 0.13 and may be removed in the future. The current behavior is equivalent to passing `weights=ShuffleNet_V2_X0_5_Weights.IMAGENET1K_V1`. You can also use `weights=ShuffleNet_V2_X0_5_Weights.DEFAULT` to get the most up-to-date weights.\n",
      "  warnings.warn(msg)\n",
      "Using cache found in /Users/jameschapman/.cache/torch/hub/pytorch_vision_v0.10.0\n",
      "/Library/Frameworks/Python.framework/Versions/3.9/lib/python3.9/site-packages/torchvision/models/_utils.py:223: UserWarning: Arguments other than a weight enum or `None` for 'weights' are deprecated since 0.13 and may be removed in the future. The current behavior is equivalent to passing `weights=AlexNet_Weights.IMAGENET1K_V1`. You can also use `weights=AlexNet_Weights.DEFAULT` to get the most up-to-date weights.\n",
      "  warnings.warn(msg)\n",
      "Using cache found in /Users/jameschapman/.cache/torch/hub/pytorch_vision_v0.10.0\n",
      "/Library/Frameworks/Python.framework/Versions/3.9/lib/python3.9/site-packages/torchvision/models/_utils.py:223: UserWarning: Arguments other than a weight enum or `None` for 'weights' are deprecated since 0.13 and may be removed in the future. The current behavior is equivalent to passing `weights=DenseNet121_Weights.IMAGENET1K_V1`. You can also use `weights=DenseNet121_Weights.DEFAULT` to get the most up-to-date weights.\n",
      "  warnings.warn(msg)\n",
      "Downloading: \"https://download.pytorch.org/models/densenet121-a639ec97.pth\" to /Users/jameschapman/.cache/torch/hub/checkpoints/densenet121-a639ec97.pth\n"
     ]
    },
    {
     "data": {
      "application/vnd.jupyter.widget-view+json": {
       "model_id": "65225ef405be43c4b65dc187e66d1aa4",
       "version_major": 2,
       "version_minor": 0
      },
      "text/plain": [
       "  0%|          | 0.00/30.8M [00:00<?, ?B/s]"
      ]
     },
     "metadata": {},
     "output_type": "display_data"
    },
    {
     "name": "stderr",
     "output_type": "stream",
     "text": [
      "Using cache found in /Users/jameschapman/.cache/torch/hub/pytorch_vision_v0.10.0\n",
      "/Library/Frameworks/Python.framework/Versions/3.9/lib/python3.9/site-packages/torchvision/models/_utils.py:223: UserWarning: Arguments other than a weight enum or `None` for 'weights' are deprecated since 0.13 and may be removed in the future. The current behavior is equivalent to passing `weights=GoogLeNet_Weights.IMAGENET1K_V1`. You can also use `weights=GoogLeNet_Weights.DEFAULT` to get the most up-to-date weights.\n",
      "  warnings.warn(msg)\n",
      "Downloading: \"https://download.pytorch.org/models/googlenet-1378be20.pth\" to /Users/jameschapman/.cache/torch/hub/checkpoints/googlenet-1378be20.pth\n"
     ]
    },
    {
     "data": {
      "application/vnd.jupyter.widget-view+json": {
       "model_id": "a68388d335514b77926dcfdadfbd2441",
       "version_major": 2,
       "version_minor": 0
      },
      "text/plain": [
       "  0%|          | 0.00/49.7M [00:00<?, ?B/s]"
      ]
     },
     "metadata": {},
     "output_type": "display_data"
    },
    {
     "name": "stderr",
     "output_type": "stream",
     "text": [
      "Using cache found in /Users/jameschapman/.cache/torch/hub/pytorch_vision_v0.10.0\n",
      "/Library/Frameworks/Python.framework/Versions/3.9/lib/python3.9/site-packages/torchvision/models/_utils.py:223: UserWarning: Arguments other than a weight enum or `None` for 'weights' are deprecated since 0.13 and may be removed in the future. The current behavior is equivalent to passing `weights=MobileNet_V2_Weights.IMAGENET1K_V1`. You can also use `weights=MobileNet_V2_Weights.DEFAULT` to get the most up-to-date weights.\n",
      "  warnings.warn(msg)\n",
      "Downloading: \"https://download.pytorch.org/models/mobilenet_v2-b0353104.pth\" to /Users/jameschapman/.cache/torch/hub/checkpoints/mobilenet_v2-b0353104.pth\n"
     ]
    },
    {
     "data": {
      "application/vnd.jupyter.widget-view+json": {
       "model_id": "144257fabb974ba280b0f3de91758df5",
       "version_major": 2,
       "version_minor": 0
      },
      "text/plain": [
       "  0%|          | 0.00/13.6M [00:00<?, ?B/s]"
      ]
     },
     "metadata": {},
     "output_type": "display_data"
    },
    {
     "name": "stderr",
     "output_type": "stream",
     "text": [
      "Using cache found in /Users/jameschapman/.cache/torch/hub/pytorch_vision_v0.10.0\n",
      "/Library/Frameworks/Python.framework/Versions/3.9/lib/python3.9/site-packages/torchvision/models/_utils.py:223: UserWarning: Arguments other than a weight enum or `None` for 'weights' are deprecated since 0.13 and may be removed in the future. The current behavior is equivalent to passing `weights=ResNeXt50_32X4D_Weights.IMAGENET1K_V1`. You can also use `weights=ResNeXt50_32X4D_Weights.DEFAULT` to get the most up-to-date weights.\n",
      "  warnings.warn(msg)\n",
      "Downloading: \"https://download.pytorch.org/models/resnext50_32x4d-7cdf4587.pth\" to /Users/jameschapman/.cache/torch/hub/checkpoints/resnext50_32x4d-7cdf4587.pth\n"
     ]
    },
    {
     "data": {
      "application/vnd.jupyter.widget-view+json": {
       "model_id": "121d5191a097407894926c1b478cb75c",
       "version_major": 2,
       "version_minor": 0
      },
      "text/plain": [
       "  0%|          | 0.00/95.8M [00:00<?, ?B/s]"
      ]
     },
     "metadata": {},
     "output_type": "display_data"
    },
    {
     "name": "stderr",
     "output_type": "stream",
     "text": [
      "Using cache found in /Users/jameschapman/.cache/torch/hub/pytorch_vision_v0.10.0\n",
      "/Library/Frameworks/Python.framework/Versions/3.9/lib/python3.9/site-packages/torchvision/models/_utils.py:223: UserWarning: Arguments other than a weight enum or `None` for 'weights' are deprecated since 0.13 and may be removed in the future. The current behavior is equivalent to passing `weights=Wide_ResNet50_2_Weights.IMAGENET1K_V1`. You can also use `weights=Wide_ResNet50_2_Weights.DEFAULT` to get the most up-to-date weights.\n",
      "  warnings.warn(msg)\n",
      "Downloading: \"https://download.pytorch.org/models/wide_resnet50_2-95faca4d.pth\" to /Users/jameschapman/.cache/torch/hub/checkpoints/wide_resnet50_2-95faca4d.pth\n"
     ]
    },
    {
     "data": {
      "application/vnd.jupyter.widget-view+json": {
       "model_id": "cf1abf76fdf549b89c7b0334f97b612c",
       "version_major": 2,
       "version_minor": 0
      },
      "text/plain": [
       "  0%|          | 0.00/132M [00:00<?, ?B/s]"
      ]
     },
     "metadata": {},
     "output_type": "display_data"
    },
    {
     "name": "stderr",
     "output_type": "stream",
     "text": [
      "Using cache found in /Users/jameschapman/.cache/torch/hub/pytorch_vision_v0.10.0\n",
      "Using cache found in /Users/jameschapman/.cache/torch/hub/pytorch_vision_v0.10.0\n",
      "Using cache found in /Users/jameschapman/.cache/torch/hub/pytorch_vision_v0.10.0\n",
      "Using cache found in /Users/jameschapman/.cache/torch/hub/pytorch_vision_v0.10.0\n",
      "Using cache found in /Users/jameschapman/.cache/torch/hub/pytorch_vision_v0.10.0\n",
      "Using cache found in /Users/jameschapman/.cache/torch/hub/pytorch_vision_v0.10.0\n",
      "Using cache found in /Users/jameschapman/.cache/torch/hub/pytorch_vision_v0.10.0\n",
      "Using cache found in /Users/jameschapman/.cache/torch/hub/pytorch_vision_v0.10.0\n"
     ]
    }
   ],
   "source": [
    "results_dict = {'open_sar_ship': {}, 'fusar': {}}\n",
    "\n",
    "for dataset in utils.AVAILABLE_SAR_DATASETS[1:]:\n",
    "    for network in utils.PYTORCH_NEURAL_NETWORKS:\n",
    "        print(dataset + \"_\" + network)\n",
    "        results_dict[dataset][network] = experiment4(dataset, network, num_experiments=num_experiments)\n"
   ]
  },
  {
   "cell_type": "code",
   "execution_count": 5,
   "id": "7c1ff2a7",
   "metadata": {},
   "outputs": [
    {
     "name": "stdout",
     "output_type": "stream",
     "text": [
      "                  ResNet  ShuffleNet    AlexNet   DenseNet  GoogLeNet  \\\n",
      "open_sar_ship  69.208038   68.004398  80.881400  72.511848  74.486415   \n",
      "fusar          85.655738   86.374269  82.896305  88.940901  85.046729   \n",
      "\n",
      "               MobileNetV2    ResNeXt  Wide ResNet  \n",
      "open_sar_ship    72.225666  74.035517    72.229141  \n",
      "fusar            85.058824  88.266509    85.462036  \n"
     ]
    }
   ],
   "source": [
    "df = pd.DataFrame.from_dict(results_dict, orient='index')\n",
    "df.to_pickle(save_path + 'results_' + str(num_experiments) + '.pkl')\n",
    "\n",
    "print(df)"
   ]
  }
 ],
 "metadata": {
  "kernelspec": {
   "display_name": "Python 3 (ipykernel)",
   "language": "python",
   "name": "python3"
  },
  "language_info": {
   "codemirror_mode": {
    "name": "ipython",
    "version": 3
   },
   "file_extension": ".py",
   "mimetype": "text/x-python",
   "name": "python",
   "nbconvert_exporter": "python",
   "pygments_lexer": "ipython3",
   "version": "3.9.5"
  }
 },
 "nbformat": 4,
 "nbformat_minor": 5
}
