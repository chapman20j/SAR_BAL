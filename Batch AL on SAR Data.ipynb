{
 "cells": [
  {
   "cell_type": "markdown",
   "id": "ce9961ca",
   "metadata": {
    "id": "ce9961ca"
   },
   "source": [
    "# Batch AL on SAR Data\n",
    "This code runs some of the batch active learning things we've been working on. The main purpose is to load the SAR datasets and run code on them. \n",
    "\n",
    "**Change things to encode_pretrained and this can use the pretrained stuff**\n",
    "\n",
    "Use the encode_pretrained\n",
    "1. Current results are for fully trained CNN embeddings\n",
    "2. The transfer learning is fully supervised from image net\n",
    "3. Need to make updates in the cell below \"Load datasets and generate graph learning objects\""
   ]
  },
  {
   "cell_type": "code",
   "execution_count": 1,
   "id": "d156a037",
   "metadata": {
    "id": "d156a037"
   },
   "outputs": [],
   "source": [
    "import graphlearning.active_learning as al\n",
    "import graphlearning as gl\n",
    "import numpy as np\n",
    "import sys\n",
    "import os\n",
    "import matplotlib.pyplot as plt\n",
    "import torchvision.models as torch_models\n",
    "import timeit\n",
    "import torch\n",
    "import random\n",
    "\n",
    "import utils\n",
    "import batch_active_learning as bal\n"
   ]
  },
  {
   "cell_type": "code",
   "execution_count": 2,
   "id": "Ty51i9szH9pR",
   "metadata": {
    "colab": {
     "base_uri": "https://localhost:8080/"
    },
    "id": "Ty51i9szH9pR",
    "outputId": "fc562895-6dac-4ccc-989f-87f3818446b3"
   },
   "outputs": [
    {
     "data": {
      "text/plain": [
       "<module 'utils' from '/Users/jameschapman/Documents/GitHub/SAR_BAL/utils.py'>"
      ]
     },
     "execution_count": 2,
     "metadata": {},
     "output_type": "execute_result"
    }
   ],
   "source": [
    "from importlib import reload\n",
    "reload(bal)\n",
    "reload(utils)"
   ]
  },
  {
   "cell_type": "markdown",
   "id": "17b258ea",
   "metadata": {
    "id": "17b258ea"
   },
   "source": [
    "## User Input"
   ]
  },
  {
   "cell_type": "code",
   "execution_count": 3,
   "id": "b1fd3e62",
   "metadata": {
    "id": "b1fd3e62"
   },
   "outputs": [],
   "source": [
    "#Pick one of 'mstar', 'open_sar', 'fusar', 'all'\n",
    "dataset_chosen = 'fusar'\n",
    "\n",
    "#This uses a CNNVAE to get embeddings\n",
    "# **I think this actually uses the fully trained and not a CNNVAE\n",
    "#Currently we always use the VAE for MSTAR since the knn_data is already stored for this\n",
    "use_fully_trained_features = False\n",
    "just_transfer              = True\n",
    "transfer_and_train         = False\n",
    "\n",
    "assert(use_fully_trained_features + just_transfer + transfer_and_train == 1)\n",
    "\n",
    "#If you specify this, then it will use a specific trained NN for embeddings\n",
    "#If none, it will pick the ones deemed optimal from prior testing\n",
    "#  I recommend using None\n",
    "transfer_encoding = None\n",
    "\n",
    "#Determines the number of points in the coreset\n",
    "#Larger values correspond to smaller coresets\n",
    "density_radius_param = .5"
   ]
  },
  {
   "cell_type": "markdown",
   "id": "4d794614",
   "metadata": {
    "id": "4d794614"
   },
   "source": [
    "## Fixed Parameters"
   ]
  },
  {
   "cell_type": "code",
   "execution_count": 4,
   "id": "75e31cf5",
   "metadata": {
    "id": "75e31cf5"
   },
   "outputs": [],
   "source": [
    "#knn number, etc. \n",
    "knn_num = 20\n",
    "\n",
    "if not use_fully_trained_features and transfer_encoding == None:\n",
    "    if dataset_chosen == 'mstar':\n",
    "        transfer_encoding = None\n",
    "    if dataset_chosen == 'open_sar':\n",
    "        transfer_encoding = 'AlexNet'\n",
    "    if dataset_chosen == 'fusar':\n",
    "        transfer_encoding = 'ShuffleNet'"
   ]
  },
  {
   "cell_type": "markdown",
   "id": "192c1de7",
   "metadata": {
    "id": "192c1de7"
   },
   "source": [
    "## Load Datasets and Generate Graph Learning Objects"
   ]
  },
  {
   "cell_type": "code",
   "execution_count": 7,
   "id": "cdc7e9e7",
   "metadata": {
    "colab": {
     "base_uri": "https://localhost:8080/",
     "height": 277,
     "referenced_widgets": [
      "30e0f56536aa4798a2b7c67ec9a04a81",
      "99d23f61f0bb493aac1668c4cd5b04f7",
      "8fb1904898bf4b1f87f512bcdd3839c8",
      "9e3fd50685c143d3bab4e5afa291cbda",
      "993ff7c00e7f48dea7810ea92bfb9589",
      "5822c4085f2b4d639afd364da84e3109",
      "990ddab8ddb4447ab2722729c71b0fd8",
      "8916e2c5bbc548bea251cf9f241cf301",
      "a19cf97cdd8449d69ec47239286a55f6",
      "0ea75cae6e6b479687a5daaab325276a",
      "91d6af1054514a89bacadf1e2a0b797e"
     ]
    },
    "id": "cdc7e9e7",
    "outputId": "147d0283-2123-4d7d-a89a-dedc160a09b8"
   },
   "outputs": [
    {
     "name": "stdout",
     "output_type": "stream",
     "text": [
      "0\n",
      "0\n"
     ]
    },
    {
     "name": "stderr",
     "output_type": "stream",
     "text": [
      "Using cache found in /Users/jameschapman/.cache/torch/hub/pytorch_vision_v0.10.0\n"
     ]
    },
    {
     "name": "stdout",
     "output_type": "stream",
     "text": [
      "Constructing Graph Learning Objects\n",
      "(4856, 1024)\n",
      "Complete\n",
      "Time taken = 41.242593916000004\n"
     ]
    }
   ],
   "source": [
    "start = timeit.default_timer()\n",
    "torch.cuda.empty_cache()\n",
    "\n",
    "if dataset_chosen == 'open_sar':\n",
    "  #Load labels\n",
    "  data, labels = utils.load_dataset('open_sar_ship', return_torch = False, concatenate = True)\n",
    "elif dataset_chosen == 'fusar':\n",
    "  #Load labels\n",
    "  data, labels = utils.load_dataset('fusar', return_torch = False, concatenate = True)\n",
    "else:\n",
    "  assert False, \"Chosen dataset could not be loaded. Check for typos\"\n",
    "\n",
    "#Mimic that we know a percentage of data, and don't know for the rest\n",
    "#Do transfer learning merely using these\n",
    "percent_known_data = 0\n",
    "if dataset_chosen == 'open_sar':\n",
    "  percent_known_data = 0.07\n",
    "else:\n",
    "  percent_known_data == 0.07\n",
    "known_data_ind = gl.trainsets.generate(labels, rate=percent_known_data).tolist()\n",
    "known_data = data[known_data_ind]\n",
    "known_labels = labels[known_data_ind]\n",
    "\n",
    "# print(len(known_data))\n",
    "\n",
    "#Generate the initial set\n",
    "initial = gl.trainsets.generate(labels, rate=1).tolist()\n",
    "\n",
    "#Percent of known data to use as training data for transfer learning\n",
    "training_percent = 0.7\n",
    "transfer_train_ind = random.sample(range(len(known_data)), round(len(known_data)*training_percent))\n",
    "transfer_testing_ind = np.array([ind for ind in range(len(known_data)) if ind not in transfer_train_ind]).astype(int)\n",
    "\n",
    "#Convert to torch for use\n",
    "known_data = torch.from_numpy(known_data)\n",
    "known_labels = torch.from_numpy(known_labels)\n",
    "\n",
    "\n",
    "#print(len(transfer_testing_ind))\n",
    "training_data = known_data[transfer_train_ind]\n",
    "training_label = known_labels[transfer_train_ind]\n",
    "testing_data = known_data[transfer_testing_ind]\n",
    "testing_label = known_labels[transfer_testing_ind]\n",
    "\n",
    "print(len(training_data))\n",
    "print(len(testing_data))\n",
    "\n",
    "data_info=[training_data, training_label, testing_data, testing_label]\n",
    "\n",
    "        \n",
    "if dataset_chosen == 'open_sar':\n",
    "    #Load encoded dataset\n",
    "    if use_fully_trained_features:\n",
    "        X = utils.encode_dataset('open_sar_ship','./models/open_sar_ship_CNN.pt')\n",
    "    elif just_transfer:\n",
    "        X = utils.encode_pretrained('open_sar_ship', 'AlexNet', transformed=True)\n",
    "    else:\n",
    "        X = utils.encode_transfer_learning('open_sar_ship', model_type='AlexNet', transfer_batch_size=64, epochs=30, data_info=data_info)\n",
    "    #Load labels\n",
    "    _, labels = utils.load_dataset('open_sar_ship', return_torch = False, concatenate = True)\n",
    "    knn_data = gl.weightmatrix.knnsearch(X, knn_num, method='annoy', similarity='angular')\n",
    "elif dataset_chosen == 'fusar':\n",
    "    #Load encoded dataset\n",
    "    if use_fully_trained_features:\n",
    "        X, labels = utils.encode_dataset('fusar','./models/fusar_CNN.pt')\n",
    "    elif just_transfer:\n",
    "        X, labels = utils.encode_pretrained('fusar', 'ShuffleNet', normalized=True, transformed=True)\n",
    "    else:\n",
    "        X, labels = utils.encode_transfer_learning('fusar', model_type='ShuffleNet', transfer_batch_size=64, epochs=30, data_info=data_info)\n",
    "    #Load labels\n",
    "    #_, labels = utils.load_dataset('fusar', return_torch = False, concatenate = True)\n",
    "    knn_data = gl.weightmatrix.knnsearch(X, knn_num, method='annoy', similarity='angular')\n",
    "elif dataset_chosen == 'all':\n",
    "    pass\n",
    "else:\n",
    "    assert False, \"Chosen dataset could not be loaded. Check for typos\"\n",
    "\n",
    "print(\"Constructing Graph Learning Objects\")\n",
    "W = gl.weightmatrix.knn(X, knn_num, kernel = 'gaussian', knn_data=knn_data)\n",
    "G = gl.graph(W)\n",
    "end = timeit.default_timer()\n",
    "\n",
    "print(X.shape)\n",
    "\n",
    "print(\"Complete\")\n",
    "print(f\"Time taken = {end - start}\")"
   ]
  },
  {
   "cell_type": "markdown",
   "id": "eb8199f3",
   "metadata": {
    "id": "eb8199f3"
   },
   "source": [
    "## Generate Coreset"
   ]
  },
  {
   "cell_type": "code",
   "execution_count": 8,
   "id": "4504209b",
   "metadata": {
    "colab": {
     "base_uri": "https://localhost:8080/"
    },
    "id": "4504209b",
    "outputId": "04c4a6e3-7916-473a-e9d0-359c369ea8b9"
   },
   "outputs": [
    {
     "name": "stdout",
     "output_type": "stream",
     "text": [
      "Coreset Size = 20\t Percent of data = 0.41%\n",
      "Coreset =  [587, 39, 830, 3895, 2339, 3979, 3655, 2588, 1302, 3100, 370, 1312, 2772, 4721, 918, 3586, 657, 4555, 586, 4681]\n",
      "[0 1 2 3 4 4 4 2 4 3 4 0 2 2 2 4 4 0 4 4]\n"
     ]
    }
   ],
   "source": [
    "#Use the percent radius because it should be more robust across datasets\n",
    "coreset = bal.coreset_dijkstras(G, rad = .2, DEBUGGING=False, data = X, initial=initial, \n",
    "                                density_info = (True, density_radius_param, 1), knn_data=knn_data)\n",
    "print(\"Coreset Size = {}\\t Percent of data = {}%\".format(len(coreset), round(100 * len(coreset) / len(X), 2)))\n",
    "print(\"Coreset = \", coreset)\n",
    "print(labels[coreset])"
   ]
  },
  {
   "cell_type": "markdown",
   "id": "dd5f3a20",
   "metadata": {
    "id": "dd5f3a20"
   },
   "source": [
    "## Perform Batch AL"
   ]
  },
  {
   "cell_type": "markdown",
   "id": "9xkjrc5kiGzb",
   "metadata": {
    "id": "9xkjrc5kiGzb"
   },
   "source": [
    "Feature Extraction OpenSarShip (Sometimes the accuracy will be a bit lower than SoTA)"
   ]
  },
  {
   "cell_type": "code",
   "execution_count": 9,
   "id": "l2mScoHYiBxE",
   "metadata": {
    "colab": {
     "base_uri": "https://localhost:8080/"
    },
    "id": "l2mScoHYiBxE",
    "outputId": "e7516b3c-71cf-4e4f-e954-e3ed70e80e43"
   },
   "outputs": [
    {
     "name": "stdout",
     "output_type": "stream",
     "text": [
      "uc local_max\n",
      "vopt local_max\n",
      "mc local_max\n",
      "mcvopt local_max\n"
     ]
    }
   ],
   "source": [
    "acq_fun_list = ['uc', 'vopt', 'mc', 'mcvopt']\n",
    "# acq_fun_list = ['uc']\n",
    "max_new_samples = 690\n",
    "batchsize=15\n",
    "\n",
    "L_time = []\n",
    "L_num_labels = []\n",
    "L_acc = []\n",
    "L_names = []\n",
    "\n",
    "al_mtd = 'local_max'\n",
    "method='Laplace'\n",
    "\n",
    "for acq_fun in acq_fun_list:\n",
    "\n",
    "    num_iter = int(max_new_samples/batchsize)\n",
    "\n",
    "    if acq_fun == 'vopt' or acq_fun == 'mcvopt':\n",
    "         num_iter += 1\n",
    "\n",
    "\n",
    "    print(acq_fun, al_mtd)\n",
    "    start = timeit.default_timer() \n",
    "    _, list_num_labels, list_acc = bal.coreset_run_experiment(X, labels, W, coreset, num_iter=num_iter, method=method,\n",
    "                            display=False, use_prior=False, al_mtd=al_mtd, debug=False,\n",
    "                            acq_fun=acq_fun, knn_data=knn_data, mtd_para=None,\n",
    "                            savefig=False, savefig_folder='../BAL_figures', batchsize=batchsize,\n",
    "                            dist_metric='angular', q=10, thresholding=0, randseed=0)\n",
    "    stop = timeit.default_timer()\n",
    "    L_time.append(stop - start)\n",
    "    L_num_labels.append(list_num_labels)\n",
    "    L_acc.append(list_acc)\n",
    "    L_names.append(acq_fun)\n",
    "      "
   ]
  },
  {
   "cell_type": "code",
   "execution_count": 10,
   "id": "UF8R5iwJiGHZ",
   "metadata": {
    "colab": {
     "base_uri": "https://localhost:8080/",
     "height": 356
    },
    "id": "UF8R5iwJiGHZ",
    "outputId": "a5546338-80bc-478a-a1f6-b36371c110fc"
   },
   "outputs": [
    {
     "name": "stdout",
     "output_type": "stream",
     "text": [
      "uc highest accuracy: 6816.208393632416%\n"
     ]
    },
    {
     "data": {
      "image/png": "[encoded data removed]",
      "text/plain": [
       "<Figure size 640x480 with 2 Axes>"
      ]
     },
     "metadata": {},
     "output_type": "display_data"
    }
   ],
   "source": [
    "fig = plt.figure()\n",
    "ax1 = fig.add_subplot(111)\n",
    "ax2 = ax1.twiny()\n",
    "\n",
    "print(\"uc highest accuracy: \" + str(100*L_acc[0][-1]) + \"%\")\n",
    "for i in range(len(L_acc)):\n",
    "    ax1.plot(L_num_labels[i], 100*L_acc[i], label=L_names[i])\n",
    "ax1.plot(L_num_labels[0], 78.72 * np.ones_like(L_num_labels[0]), label='SoTA', linestyle='--')\n",
    "ax1.plot(L_num_labels[0], 76.99 * np.ones_like(L_num_labels[0]), label='TL', linestyle='--')\n",
    "ax1.legend()\n",
    "ax1.set_xlabel(r\"Number of labeled points\")\n",
    "ax1.set_ylabel(\"Accuracy (%)\")\n",
    "ax1.set_ylim((50, 100))\n",
    "\n",
    "title_str = 'Coreset size: ' + str(len(coreset)) + '; GL method: ' + method + '; AL method: ' + al_mtd + '\\n'\n",
    "title_str += 'OpenSarShip: KNN: ' + str(knn_num) + '; Total num data: ' + str(X.shape[0])\n",
    "\n",
    "plt.title(title_str)\n",
    "\n",
    "new_tick_locations = np.linspace(0.05, 0.3, 5) * 2296\n",
    "\n",
    "def tick_function(X, n):\n",
    "    V = X / n\n",
    "    return [\"%d%%\" % (100*z) for z in V]\n",
    "\n",
    "ax2.set_xlim(ax1.get_xlim())\n",
    "ax2.set_xticks(new_tick_locations)\n",
    "ax2.set_xticklabels(tick_function(new_tick_locations, X.shape[0]))\n",
    "ax2.set_xlabel(r\"Percentage of Training Data\")\n",
    "# plt.savefig(os.path.join('../BAL_figures', 'OpenSarShip_diff_acq_' + al_mtd + '.png'), bbox_inches='tight')\n",
    "plt.show()"
   ]
  },
  {
   "cell_type": "markdown",
   "id": "vpL0BIOLiTUq",
   "metadata": {
    "id": "vpL0BIOLiTUq"
   },
   "source": [
    "Feature Extraction Fusar"
   ]
  },
  {
   "cell_type": "code",
   "execution_count": 11,
   "id": "AOnV6HvtiU9H",
   "metadata": {
    "colab": {
     "base_uri": "https://localhost:8080/"
    },
    "id": "AOnV6HvtiU9H",
    "outputId": "f5edf343-72cc-48b4-e3d5-79cdb9700c22"
   },
   "outputs": [
    {
     "name": "stdout",
     "output_type": "stream",
     "text": [
      "uc local_max\n",
      "(4856, 1024)\n",
      "vopt local_max\n",
      "(4856, 1024)\n",
      "mc local_max\n",
      "(4856, 1024)\n",
      "mcvopt local_max\n",
      "(4856, 1024)\n"
     ]
    }
   ],
   "source": [
    "acq_fun_list = ['uc', 'vopt', 'mc', 'mcvopt']\n",
    "# acq_fun_list = ['uc']\n",
    "max_new_samples = 2910\n",
    "batchsize=15\n",
    "\n",
    "L_time = []\n",
    "L_num_labels = []\n",
    "L_acc = []\n",
    "L_names = []\n",
    "\n",
    "al_mtd = 'local_max'\n",
    "method='Laplace'\n",
    "\n",
    "for acq_fun in acq_fun_list:\n",
    "\n",
    "    num_iter = int(max_new_samples/batchsize)\n",
    "\n",
    "    if acq_fun == 'vopt' or acq_fun == 'mcvopt':\n",
    "         num_iter += 1\n",
    "\n",
    "\n",
    "    print(acq_fun, al_mtd)\n",
    "    start = timeit.default_timer() \n",
    "    print(X.shape)\n",
    "    _, list_num_labels, list_acc = bal.coreset_run_experiment(X, labels, W, coreset, num_iter=num_iter, method=method,\n",
    "                            display=False, use_prior=False, al_mtd=al_mtd, debug=False,\n",
    "                            acq_fun=acq_fun, knn_data=knn_data, mtd_para=None,\n",
    "                            savefig=False, savefig_folder='../BAL_figures', batchsize=batchsize,\n",
    "                            dist_metric='angular', q=10, thresholding=0, randseed=0)\n",
    "    stop = timeit.default_timer()\n",
    "    L_time.append(stop - start)\n",
    "    L_num_labels.append(list_num_labels)\n",
    "    L_acc.append(list_acc)\n",
    "    L_names.append(acq_fun)\n",
    "      "
   ]
  },
  {
   "cell_type": "code",
   "execution_count": 12,
   "id": "XzHnnn3fiZuj",
   "metadata": {
    "colab": {
     "base_uri": "https://localhost:8080/",
     "height": 356
    },
    "id": "XzHnnn3fiZuj",
    "outputId": "69fa4e79-cce3-48e9-d86b-701ef8138ab1"
   },
   "outputs": [
    {
     "name": "stdout",
     "output_type": "stream",
     "text": [
      "uc highest accuracy: 8873.312564901351%\n"
     ]
    },
    {
     "data": {
      "image/png": "[encoded data removed]",
      "text/plain": [
       "<Figure size 640x480 with 2 Axes>"
      ]
     },
     "metadata": {},
     "output_type": "display_data"
    }
   ],
   "source": [
    "fig = plt.figure()\n",
    "ax1 = fig.add_subplot(111)\n",
    "ax2 = ax1.twiny()\n",
    "\n",
    "print(\"uc highest accuracy: \" + str(100*L_acc[0][-1]) + \"%\")\n",
    "for i in range(len(L_acc)):\n",
    "    ax1.plot(L_num_labels[i], 100*L_acc[i], label=L_names[i])\n",
    "ax1.plot(L_num_labels[0], 88.16 * np.ones_like(L_num_labels[0]), label='SoTA', linestyle='--')\n",
    "ax1.plot(L_num_labels[0], 75.36 * np.ones_like(L_num_labels[0]), label='TL', linestyle='--')\n",
    "ax1.legend()\n",
    "ax1.set_xlabel(r\"Number of labeled points\")\n",
    "ax1.set_ylabel(\"Accuracy (%)\")\n",
    "ax1.set_ylim((50, 100))\n",
    "\n",
    "title_str = 'Coreset size: ' + str(len(coreset)) + '; GL method: ' + method + '; AL method: ' + al_mtd + '\\n'\n",
    "title_str += 'OpenSarShip: KNN: ' + str(knn_num) + '; Total num data: ' + str(X.shape[0])\n",
    "\n",
    "plt.title(title_str)\n",
    "\n",
    "new_tick_locations = np.linspace(0.05, 0.6, 5) * 4856\n",
    "\n",
    "def tick_function(X, n):\n",
    "    V = X / n\n",
    "    return [\"%d%%\" % (100*z) for z in V]\n",
    "\n",
    "ax2.set_xlim(ax1.get_xlim())\n",
    "ax2.set_xticks(new_tick_locations)\n",
    "ax2.set_xticklabels(tick_function(new_tick_locations, X.shape[0]))\n",
    "ax2.set_xlabel(r\"Percentage of Training Data\")\n",
    "# plt.savefig(os.path.join('../BAL_figures', 'OpenSarShip_diff_acq_' + al_mtd + '.png'), bbox_inches='tight')\n",
    "plt.show()"
   ]
  },
  {
   "cell_type": "markdown",
   "id": "2qEULNYNh6tZ",
   "metadata": {
    "id": "2qEULNYNh6tZ"
   },
   "source": [
    "Transfer Learning OpenSarShip"
   ]
  },
  {
   "cell_type": "code",
   "execution_count": 13,
   "id": "KTGwxrqQg7FN",
   "metadata": {
    "colab": {
     "base_uri": "https://localhost:8080/"
    },
    "id": "KTGwxrqQg7FN",
    "outputId": "5611aac3-2dd6-4115-daad-aa5710279d88"
   },
   "outputs": [
    {
     "name": "stdout",
     "output_type": "stream",
     "text": [
      "uc local_max\n",
      "vopt local_max\n",
      "mc local_max\n",
      "mcvopt local_max\n"
     ]
    }
   ],
   "source": [
    "acq_fun_list = ['uc', 'vopt', 'mc', 'mcvopt']\n",
    "# acq_fun_list = ['uc']\n",
    "max_new_samples = 690\n",
    "batchsize=15\n",
    "\n",
    "L_time = []\n",
    "L_num_labels = []\n",
    "L_acc = []\n",
    "L_names = []\n",
    "\n",
    "al_mtd = 'local_max'\n",
    "method='Laplace'\n",
    "\n",
    "for acq_fun in acq_fun_list:\n",
    "\n",
    "    num_iter = int(max_new_samples/batchsize)\n",
    "\n",
    "    if acq_fun == 'vopt' or acq_fun == 'mcvopt':\n",
    "         num_iter += 1\n",
    "\n",
    "\n",
    "    print(acq_fun, al_mtd)\n",
    "    start = timeit.default_timer() \n",
    "    _, list_num_labels, list_acc = bal.coreset_run_experiment(X, labels, W, coreset, num_iter=num_iter, method=method,\n",
    "                            display=False, use_prior=False, al_mtd=al_mtd, debug=False,\n",
    "                            acq_fun=acq_fun, knn_data=knn_data, mtd_para=None,\n",
    "                            savefig=False, savefig_folder='../BAL_figures', batchsize=batchsize,\n",
    "                            dist_metric='angular', q=10, thresholding=0, randseed=0)\n",
    "    stop = timeit.default_timer()\n",
    "    L_time.append(stop - start)\n",
    "    L_num_labels.append(list_num_labels)\n",
    "    L_acc.append(list_acc)\n",
    "    L_names.append(acq_fun)\n",
    "      "
   ]
  },
  {
   "cell_type": "code",
   "execution_count": 14,
   "id": "HesrhMmzfCjz",
   "metadata": {
    "colab": {
     "base_uri": "https://localhost:8080/",
     "height": 356
    },
    "id": "HesrhMmzfCjz",
    "outputId": "79d1d0f8-f998-4261-c630-addbb9707073"
   },
   "outputs": [
    {
     "name": "stdout",
     "output_type": "stream",
     "text": [
      "uc highest accuracy: 6816.208393632416%\n"
     ]
    },
    {
     "data": {
      "image/png": "[encoded data removed]",
      "text/plain": [
       "<Figure size 640x480 with 2 Axes>"
      ]
     },
     "metadata": {},
     "output_type": "display_data"
    }
   ],
   "source": [
    "fig = plt.figure()\n",
    "ax1 = fig.add_subplot(111)\n",
    "ax2 = ax1.twiny()\n",
    "\n",
    "print(\"uc highest accuracy: \" + str(100*L_acc[0][-1]) + \"%\")\n",
    "for i in range(len(L_acc)):\n",
    "    ax1.plot(L_num_labels[i], 100*L_acc[i], label=L_names[i])\n",
    "ax1.plot(L_num_labels[0], 78.72 * np.ones_like(L_num_labels[0]), label='SoTA', linestyle='--')\n",
    "ax1.plot(L_num_labels[0], 76.99 * np.ones_like(L_num_labels[0]), label='TL', linestyle='--')\n",
    "ax1.legend()\n",
    "ax1.set_xlabel(r\"Number of labeled points\")\n",
    "ax1.set_ylabel(\"Accuracy (%)\")\n",
    "ax1.set_ylim((50, 100))\n",
    "\n",
    "title_str = 'Coreset size: ' + str(len(coreset)) + '; GL method: ' + method + '; AL method: ' + al_mtd + '\\n'\n",
    "title_str += 'OpenSarShip: KNN: ' + str(knn_num) + '; Total num data: ' + str(X.shape[0])\n",
    "\n",
    "plt.title(title_str)\n",
    "\n",
    "new_tick_locations = np.linspace(0.05, 0.3, 5) * 2296\n",
    "\n",
    "def tick_function(X, n):\n",
    "    V = X / n\n",
    "    return [\"%d%%\" % (100*z) for z in V]\n",
    "\n",
    "ax2.set_xlim(ax1.get_xlim())\n",
    "ax2.set_xticks(new_tick_locations)\n",
    "ax2.set_xticklabels(tick_function(new_tick_locations, X.shape[0]))\n",
    "ax2.set_xlabel(r\"Percentage of Training Data\")\n",
    "# plt.savefig(os.path.join('../BAL_figures', 'OpenSarShip_diff_acq_' + al_mtd + '.png'), bbox_inches='tight')\n",
    "plt.show()"
   ]
  },
  {
   "cell_type": "markdown",
   "id": "bfu1mxrOh_Kx",
   "metadata": {
    "id": "bfu1mxrOh_Kx"
   },
   "source": [
    "Transfer Learning Fusar"
   ]
  },
  {
   "cell_type": "code",
   "execution_count": 15,
   "id": "Yml5fMJynWAa",
   "metadata": {
    "colab": {
     "base_uri": "https://localhost:8080/"
    },
    "id": "Yml5fMJynWAa",
    "outputId": "4cb0291a-e2ca-4135-d80a-866303a7811d"
   },
   "outputs": [
    {
     "name": "stdout",
     "output_type": "stream",
     "text": [
      "uc local_max\n",
      "(4856, 1024)\n",
      "vopt local_max\n",
      "(4856, 1024)\n",
      "mc local_max\n",
      "(4856, 1024)\n",
      "mcvopt local_max\n",
      "(4856, 1024)\n"
     ]
    }
   ],
   "source": [
    "acq_fun_list = ['uc', 'vopt', 'mc', 'mcvopt']\n",
    "# acq_fun_list = ['uc']\n",
    "max_new_samples = 2910\n",
    "batchsize=15\n",
    "\n",
    "L_time = []\n",
    "L_num_labels = []\n",
    "L_acc = []\n",
    "L_names = []\n",
    "\n",
    "al_mtd = 'local_max'\n",
    "method='Laplace'\n",
    "\n",
    "for acq_fun in acq_fun_list:\n",
    "\n",
    "    num_iter = int(max_new_samples/batchsize)\n",
    "\n",
    "    if acq_fun == 'vopt' or acq_fun == 'mcvopt':\n",
    "         num_iter += 1\n",
    "\n",
    "\n",
    "    print(acq_fun, al_mtd)\n",
    "    start = timeit.default_timer() \n",
    "    print(X.shape)\n",
    "    _, list_num_labels, list_acc = bal.coreset_run_experiment(X, labels, W, coreset, num_iter=num_iter, method=method,\n",
    "                            display=False, use_prior=False, al_mtd=al_mtd, debug=False,\n",
    "                            acq_fun=acq_fun, knn_data=knn_data, mtd_para=None,\n",
    "                            savefig=False, savefig_folder='../BAL_figures', batchsize=batchsize,\n",
    "                            dist_metric='angular', q=10, thresholding=0, randseed=0)\n",
    "    stop = timeit.default_timer()\n",
    "    L_time.append(stop - start)\n",
    "    L_num_labels.append(list_num_labels)\n",
    "    L_acc.append(list_acc)\n",
    "    L_names.append(acq_fun)\n",
    "      "
   ]
  },
  {
   "cell_type": "code",
   "execution_count": 16,
   "id": "AI0gQhV-nZ90",
   "metadata": {
    "colab": {
     "base_uri": "https://localhost:8080/",
     "height": 356
    },
    "id": "AI0gQhV-nZ90",
    "outputId": "dcdc1135-887a-47c7-b49d-ae1aaa04732e"
   },
   "outputs": [
    {
     "name": "stdout",
     "output_type": "stream",
     "text": [
      "uc highest accuracy: 8873.312564901351%\n"
     ]
    },
    {
     "data": {
      "image/png": "[encoded data removed]",
      "text/plain": [
       "<Figure size 640x480 with 2 Axes>"
      ]
     },
     "metadata": {},
     "output_type": "display_data"
    }
   ],
   "source": [
    "fig = plt.figure()\n",
    "ax1 = fig.add_subplot(111)\n",
    "ax2 = ax1.twiny()\n",
    "\n",
    "print(\"uc highest accuracy: \" + str(100*L_acc[0][-1]) + \"%\")\n",
    "for i in range(len(L_acc)):\n",
    "    ax1.plot(L_num_labels[i], 100*L_acc[i], label=L_names[i])\n",
    "ax1.plot(L_num_labels[0], 88.16 * np.ones_like(L_num_labels[0]), label='SoTA', linestyle='--')\n",
    "ax1.plot(L_num_labels[0], 75.36 * np.ones_like(L_num_labels[0]), label='TL', linestyle='--')\n",
    "ax1.legend()\n",
    "ax1.set_xlabel(r\"Number of labeled points\")\n",
    "ax1.set_ylabel(\"Accuracy (%)\")\n",
    "ax1.set_ylim((50, 100))\n",
    "\n",
    "title_str = 'Coreset size: ' + str(len(coreset)) + '; GL method: ' + method + '; AL method: ' + al_mtd + '\\n'\n",
    "title_str += 'OpenSarShip: KNN: ' + str(knn_num) + '; Total num data: ' + str(X.shape[0])\n",
    "\n",
    "plt.title(title_str)\n",
    "\n",
    "new_tick_locations = np.linspace(0.05, 0.6, 5) * 4856\n",
    "\n",
    "def tick_function(X, n):\n",
    "    V = X / n\n",
    "    return [\"%d%%\" % (100*z) for z in V]\n",
    "\n",
    "ax2.set_xlim(ax1.get_xlim())\n",
    "ax2.set_xticks(new_tick_locations)\n",
    "ax2.set_xticklabels(tick_function(new_tick_locations, X.shape[0]))\n",
    "ax2.set_xlabel(r\"Percentage of Training Data\")\n",
    "# plt.savefig(os.path.join('../BAL_figures', 'OpenSarShip_diff_acq_' + al_mtd + '.png'), bbox_inches='tight')\n",
    "plt.show()"
   ]
  }
 ],
 "metadata": {
  "accelerator": "GPU",
  "colab": {
   "collapsed_sections": [],
   "machine_shape": "hm",
   "name": "Correction Zheng Tan Batch AL on SAR Data.ipynb",
   "provenance": []
  },
  "gpuClass": "standard",
  "kernelspec": {
   "display_name": "Python 3 (ipykernel)",
   "language": "python",
   "name": "python3"
  },
  "language_info": {
   "codemirror_mode": {
    "name": "ipython",
    "version": 3
   },
   "file_extension": ".py",
   "mimetype": "text/x-python",
   "name": "python",
   "nbconvert_exporter": "python",
   "pygments_lexer": "ipython3",
   "version": "3.9.5"
  },
  "widgets": {
   "application/vnd.jupyter.widget-state+json": {
    "0ea75cae6e6b479687a5daaab325276a": {
     "model_module": "@jupyter-widgets/base",
     "model_module_version": "1.2.0",
     "model_name": "LayoutModel",
     "state": {
      "_model_module": "@jupyter-widgets/base",
      "_model_module_version": "1.2.0",
      "_model_name": "LayoutModel",
      "_view_count": null,
      "_view_module": "@jupyter-widgets/base",
      "_view_module_version": "1.2.0",
      "_view_name": "LayoutView",
      "align_content": null,
      "align_items": null,
      "align_self": null,
      "border": null,
      "bottom": null,
      "display": null,
      "flex": null,
      "flex_flow": null,
      "grid_area": null,
      "grid_auto_columns": null,
      "grid_auto_flow": null,
      "grid_auto_rows": null,
      "grid_column": null,
      "grid_gap": null,
      "grid_row": null,
      "grid_template_areas": null,
      "grid_template_columns": null,
      "grid_template_rows": null,
      "height": null,
      "justify_content": null,
      "justify_items": null,
      "left": null,
      "margin": null,
      "max_height": null,
      "max_width": null,
      "min_height": null,
      "min_width": null,
      "object_fit": null,
      "object_position": null,
      "order": null,
      "overflow": null,
      "overflow_x": null,
      "overflow_y": null,
      "padding": null,
      "right": null,
      "top": null,
      "visibility": null,
      "width": null
     }
    },
    "30e0f56536aa4798a2b7c67ec9a04a81": {
     "model_module": "@jupyter-widgets/controls",
     "model_module_version": "1.5.0",
     "model_name": "HBoxModel",
     "state": {
      "_dom_classes": [],
      "_model_module": "@jupyter-widgets/controls",
      "_model_module_version": "1.5.0",
      "_model_name": "HBoxModel",
      "_view_count": null,
      "_view_module": "@jupyter-widgets/controls",
      "_view_module_version": "1.5.0",
      "_view_name": "HBoxView",
      "box_style": "",
      "children": [
       "IPY_MODEL_99d23f61f0bb493aac1668c4cd5b04f7",
       "IPY_MODEL_8fb1904898bf4b1f87f512bcdd3839c8",
       "IPY_MODEL_9e3fd50685c143d3bab4e5afa291cbda"
      ],
      "layout": "IPY_MODEL_993ff7c00e7f48dea7810ea92bfb9589"
     }
    },
    "5822c4085f2b4d639afd364da84e3109": {
     "model_module": "@jupyter-widgets/base",
     "model_module_version": "1.2.0",
     "model_name": "LayoutModel",
     "state": {
      "_model_module": "@jupyter-widgets/base",
      "_model_module_version": "1.2.0",
      "_model_name": "LayoutModel",
      "_view_count": null,
      "_view_module": "@jupyter-widgets/base",
      "_view_module_version": "1.2.0",
      "_view_name": "LayoutView",
      "align_content": null,
      "align_items": null,
      "align_self": null,
      "border": null,
      "bottom": null,
      "display": null,
      "flex": null,
      "flex_flow": null,
      "grid_area": null,
      "grid_auto_columns": null,
      "grid_auto_flow": null,
      "grid_auto_rows": null,
      "grid_column": null,
      "grid_gap": null,
      "grid_row": null,
      "grid_template_areas": null,
      "grid_template_columns": null,
      "grid_template_rows": null,
      "height": null,
      "justify_content": null,
      "justify_items": null,
      "left": null,
      "margin": null,
      "max_height": null,
      "max_width": null,
      "min_height": null,
      "min_width": null,
      "object_fit": null,
      "object_position": null,
      "order": null,
      "overflow": null,
      "overflow_x": null,
      "overflow_y": null,
      "padding": null,
      "right": null,
      "top": null,
      "visibility": null,
      "width": null
     }
    },
    "8916e2c5bbc548bea251cf9f241cf301": {
     "model_module": "@jupyter-widgets/base",
     "model_module_version": "1.2.0",
     "model_name": "LayoutModel",
     "state": {
      "_model_module": "@jupyter-widgets/base",
      "_model_module_version": "1.2.0",
      "_model_name": "LayoutModel",
      "_view_count": null,
      "_view_module": "@jupyter-widgets/base",
      "_view_module_version": "1.2.0",
      "_view_name": "LayoutView",
      "align_content": null,
      "align_items": null,
      "align_self": null,
      "border": null,
      "bottom": null,
      "display": null,
      "flex": null,
      "flex_flow": null,
      "grid_area": null,
      "grid_auto_columns": null,
      "grid_auto_flow": null,
      "grid_auto_rows": null,
      "grid_column": null,
      "grid_gap": null,
      "grid_row": null,
      "grid_template_areas": null,
      "grid_template_columns": null,
      "grid_template_rows": null,
      "height": null,
      "justify_content": null,
      "justify_items": null,
      "left": null,
      "margin": null,
      "max_height": null,
      "max_width": null,
      "min_height": null,
      "min_width": null,
      "object_fit": null,
      "object_position": null,
      "order": null,
      "overflow": null,
      "overflow_x": null,
      "overflow_y": null,
      "padding": null,
      "right": null,
      "top": null,
      "visibility": null,
      "width": null
     }
    },
    "8fb1904898bf4b1f87f512bcdd3839c8": {
     "model_module": "@jupyter-widgets/controls",
     "model_module_version": "1.5.0",
     "model_name": "FloatProgressModel",
     "state": {
      "_dom_classes": [],
      "_model_module": "@jupyter-widgets/controls",
      "_model_module_version": "1.5.0",
      "_model_name": "FloatProgressModel",
      "_view_count": null,
      "_view_module": "@jupyter-widgets/controls",
      "_view_module_version": "1.5.0",
      "_view_name": "ProgressView",
      "bar_style": "success",
      "description": "",
      "description_tooltip": null,
      "layout": "IPY_MODEL_8916e2c5bbc548bea251cf9f241cf301",
      "max": 9218294,
      "min": 0,
      "orientation": "horizontal",
      "style": "IPY_MODEL_a19cf97cdd8449d69ec47239286a55f6",
      "value": 9218294
     }
    },
    "91d6af1054514a89bacadf1e2a0b797e": {
     "model_module": "@jupyter-widgets/controls",
     "model_module_version": "1.5.0",
     "model_name": "DescriptionStyleModel",
     "state": {
      "_model_module": "@jupyter-widgets/controls",
      "_model_module_version": "1.5.0",
      "_model_name": "DescriptionStyleModel",
      "_view_count": null,
      "_view_module": "@jupyter-widgets/base",
      "_view_module_version": "1.2.0",
      "_view_name": "StyleView",
      "description_width": ""
     }
    },
    "990ddab8ddb4447ab2722729c71b0fd8": {
     "model_module": "@jupyter-widgets/controls",
     "model_module_version": "1.5.0",
     "model_name": "DescriptionStyleModel",
     "state": {
      "_model_module": "@jupyter-widgets/controls",
      "_model_module_version": "1.5.0",
      "_model_name": "DescriptionStyleModel",
      "_view_count": null,
      "_view_module": "@jupyter-widgets/base",
      "_view_module_version": "1.2.0",
      "_view_name": "StyleView",
      "description_width": ""
     }
    },
    "993ff7c00e7f48dea7810ea92bfb9589": {
     "model_module": "@jupyter-widgets/base",
     "model_module_version": "1.2.0",
     "model_name": "LayoutModel",
     "state": {
      "_model_module": "@jupyter-widgets/base",
      "_model_module_version": "1.2.0",
      "_model_name": "LayoutModel",
      "_view_count": null,
      "_view_module": "@jupyter-widgets/base",
      "_view_module_version": "1.2.0",
      "_view_name": "LayoutView",
      "align_content": null,
      "align_items": null,
      "align_self": null,
      "border": null,
      "bottom": null,
      "display": null,
      "flex": null,
      "flex_flow": null,
      "grid_area": null,
      "grid_auto_columns": null,
      "grid_auto_flow": null,
      "grid_auto_rows": null,
      "grid_column": null,
      "grid_gap": null,
      "grid_row": null,
      "grid_template_areas": null,
      "grid_template_columns": null,
      "grid_template_rows": null,
      "height": null,
      "justify_content": null,
      "justify_items": null,
      "left": null,
      "margin": null,
      "max_height": null,
      "max_width": null,
      "min_height": null,
      "min_width": null,
      "object_fit": null,
      "object_position": null,
      "order": null,
      "overflow": null,
      "overflow_x": null,
      "overflow_y": null,
      "padding": null,
      "right": null,
      "top": null,
      "visibility": null,
      "width": null
     }
    },
    "99d23f61f0bb493aac1668c4cd5b04f7": {
     "model_module": "@jupyter-widgets/controls",
     "model_module_version": "1.5.0",
     "model_name": "HTMLModel",
     "state": {
      "_dom_classes": [],
      "_model_module": "@jupyter-widgets/controls",
      "_model_module_version": "1.5.0",
      "_model_name": "HTMLModel",
      "_view_count": null,
      "_view_module": "@jupyter-widgets/controls",
      "_view_module_version": "1.5.0",
      "_view_name": "HTMLView",
      "description": "",
      "description_tooltip": null,
      "layout": "IPY_MODEL_5822c4085f2b4d639afd364da84e3109",
      "placeholder": "​",
      "style": "IPY_MODEL_990ddab8ddb4447ab2722729c71b0fd8",
      "value": "100%"
     }
    },
    "9e3fd50685c143d3bab4e5afa291cbda": {
     "model_module": "@jupyter-widgets/controls",
     "model_module_version": "1.5.0",
     "model_name": "HTMLModel",
     "state": {
      "_dom_classes": [],
      "_model_module": "@jupyter-widgets/controls",
      "_model_module_version": "1.5.0",
      "_model_name": "HTMLModel",
      "_view_count": null,
      "_view_module": "@jupyter-widgets/controls",
      "_view_module_version": "1.5.0",
      "_view_name": "HTMLView",
      "description": "",
      "description_tooltip": null,
      "layout": "IPY_MODEL_0ea75cae6e6b479687a5daaab325276a",
      "placeholder": "​",
      "style": "IPY_MODEL_91d6af1054514a89bacadf1e2a0b797e",
      "value": " 8.79M/8.79M [00:00&lt;00:00, 28.5MB/s]"
     }
    },
    "a19cf97cdd8449d69ec47239286a55f6": {
     "model_module": "@jupyter-widgets/controls",
     "model_module_version": "1.5.0",
     "model_name": "ProgressStyleModel",
     "state": {
      "_model_module": "@jupyter-widgets/controls",
      "_model_module_version": "1.5.0",
      "_model_name": "ProgressStyleModel",
      "_view_count": null,
      "_view_module": "@jupyter-widgets/base",
      "_view_module_version": "1.2.0",
      "_view_name": "StyleView",
      "bar_color": null,
      "description_width": ""
     }
    }
   }
  }
 },
 "nbformat": 4,
 "nbformat_minor": 5
}
